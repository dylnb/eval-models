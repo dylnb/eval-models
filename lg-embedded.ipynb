{
 "cells": [
  {
   "cell_type": "code",
   "execution_count": 1,
   "metadata": {},
   "outputs": [],
   "source": [
    ":ext LambdaCase\n",
    ":ext StandaloneDeriving"
   ]
  },
  {
   "cell_type": "code",
   "execution_count": 2,
   "metadata": {},
   "outputs": [],
   "source": [
    "import Utils\n",
    "import Data.Tuple.Extra (uncurry3)\n",
    "import Data.Bool (bool)\n",
    "import Data.List.Extra (sortOn, dropEnd, enumerate)\n",
    "import Data.Ord (Down(..), comparing)\n",
    "import Data.Function (on, (&))\n",
    "import Data.Maybe (fromJust)\n",
    "import Control.Monad (replicateM, forM, forM_)\n",
    "import Control.Monad.Trans.Class (lift)\n",
    "import Data.IORef\n",
    "import qualified Data.Map as Map"
   ]
  },
  {
   "cell_type": "code",
   "execution_count": 3,
   "metadata": {},
   "outputs": [],
   "source": [
    "import Tyche.Model\n",
    "import Tyche.Dist\n",
    "import Tyche.Prelude\n",
    "import Tyche.Prob\n",
    "import Tyche.Inference.Enumerate"
   ]
  },
  {
   "cell_type": "code",
   "execution_count": 4,
   "metadata": {},
   "outputs": [],
   "source": [
    "import Graphics.Vega.VegaLite hiding (filter, lookup, repeat, FontWeight(Normal))\n",
    "import qualified Graphics.Vega.VegaLite as VL (filter, lookup, repeat, FontWeight(Normal))"
   ]
  },
  {
   "cell_type": "code",
   "execution_count": 5,
   "metadata": {},
   "outputs": [],
   "source": [
    "data E = John | Mary | Fred deriving (Eq, Enum, Show, Bounded)\n",
    "\n",
    "domain :: [E]\n",
    "domain = enumerate\n",
    "\n",
    "data World = World {label :: String, ht :: E -> Double}\n",
    "\n",
    "instance Eq World where\n",
    "  w == w' = show w == show w'\n",
    "\n",
    "instance Ord World where\n",
    "  compare = comparing (\\s -> map (ht s) domain)\n",
    "\n",
    "instance Show World where\n",
    "  show (World l _) = l\n",
    "  \n",
    "type Prop = [World]\n",
    "\n",
    "mkWorld :: (Double, Double, Double) -> World\n",
    "mkWorld (d, d', d'') = World (\"j\" ++ show d ++ \"m\" ++ show d' ++ \"f\" ++ show d'') hts\n",
    "  where hts = \\case {John -> d; Mary -> d'; _ -> d''}\n",
    "\n",
    "heights = [1 .. 7]\n",
    "universe = [mkWorld (h, h', h'') | h <- heights, h' <- heights, h'' <- heights]"
   ]
  },
  {
   "cell_type": "code",
   "execution_count": 6,
   "metadata": {},
   "outputs": [],
   "source": [
    "data Utt = UNone | UTall | UShrt\n",
    "  deriving (Eq, Show, Ord, Enum, Bounded)\n",
    "\n",
    "utterances :: [Utt]\n",
    "utterances = enumerate"
   ]
  },
  {
   "cell_type": "code",
   "execution_count": 7,
   "metadata": {},
   "outputs": [],
   "source": [
    "-- Initialize reference cell for storing results to share within and between computations\n",
    "type Cache = IORef (Int, Map.Map (Int, Utt, Double) (Dist World))\n",
    "cacheRef <- newIORef (0, Map.empty) :: IO Cache"
   ]
  },
  {
   "cell_type": "code",
   "execution_count": 8,
   "metadata": {},
   "outputs": [],
   "source": [
    "data Priors = Priors {wp :: Model World, up :: Model Utt, tp :: Model Double}\n",
    "type Agent k a = Priors -> Cache -> (Int, k, Double) -> Model a"
   ]
  },
  {
   "cell_type": "code",
   "execution_count": 9,
   "metadata": {},
   "outputs": [],
   "source": [
    "alpha :: Double\n",
    "alpha = 4\n",
    "\n",
    "den :: Double -> Utt -> Prop\n",
    "den _ UNone = universe\n",
    "den d UTall = filter (\\w -> ht w John >= d) universe\n",
    "den d UShrt = filter (\\w -> ht w John <= d) universe\n",
    "\n",
    "speaker :: Agent World Utt\n",
    "speaker priors ref (n,w,d) =\n",
    "  do u <- up priors\n",
    "     if null (den d u)\n",
    "       then weight negInf\n",
    "       else do lnr <- lift $ memoize ref (fmap fst . listener priors ref) (n-1,u,d)\n",
    "               weight $ alpha * logProb lnr w\n",
    "     return u\n",
    "    \n",
    "listener :: Agent Utt (World, Double)\n",
    "listener priors ref (n,u,d)\n",
    "  | n > 0 =\n",
    "      do world <- wp priors\n",
    "         thres <- if n == 1 then tp priors else return d\n",
    "         spr   <- lift . enumD $ speaker priors ref (n,world,thres)\n",
    "         observe spr u\n",
    "         return (world, thres)\n",
    "  | otherwise =\n",
    "      do world <- wp priors\n",
    "         condition (world `elem` den d u)\n",
    "         return (world, d)"
   ]
  },
  {
   "cell_type": "code",
   "execution_count": 10,
   "metadata": {},
   "outputs": [],
   "source": [
    "worldPrior :: Model World\n",
    "worldPrior = do\n",
    "  w <- unif universe\n",
    "  forM_ domain $ \\x ->\n",
    "    observe (Normal 4 1.25) (ht w x)\n",
    "  return w"
   ]
  },
  {
   "cell_type": "code",
   "execution_count": 11,
   "metadata": {},
   "outputs": [
    {
     "data": {
      "application/vnd.vegalite.v2+json": {
       "$schema": "https://vega.github.io/schema/vega-lite/v3.json",
       "hconcat": [
        {
         "$schema": "https://vega.github.io/schema/vega-lite/v3.json",
         "data": {
          "values": [
           {
            "outcome": "1.0",
            "probability": 0.017988208587689257
           },
           {
            "outcome": "2.0",
            "probability": 0.08909618039160766
           },
           {
            "outcome": "3.0",
            "probability": 0.23269218012423146
           },
           {
            "outcome": "4.0",
            "probability": 0.3204468617929428
           },
           {
            "outcome": "5.0",
            "probability": 0.23269218012423146
           },
           {
            "outcome": "6.0",
            "probability": 0.08909618039160766
           },
           {
            "outcome": "7.0",
            "probability": 0.017988208587689257
           }
          ]
         },
         "description": "",
         "encoding": {
          "x": {
           "axis": {
            "labelAngle": -55
           },
           "field": "outcome",
           "scale": {
            "rangeStep": 30
           },
           "sort": null,
           "type": "ordinal"
          },
          "y": {
           "field": "probability",
           "type": "quantitative"
          }
         },
         "mark": "bar"
        },
        {
         "$schema": "https://vega.github.io/schema/vega-lite/v3.json",
         "data": {
          "values": [
           {
            "outcome": "1.0",
            "probability": 0.017988208587689257
           },
           {
            "outcome": "2.0",
            "probability": 0.08909618039160766
           },
           {
            "outcome": "3.0",
            "probability": 0.23269218012423146
           },
           {
            "outcome": "4.0",
            "probability": 0.3204468617929428
           },
           {
            "outcome": "5.0",
            "probability": 0.23269218012423146
           },
           {
            "outcome": "6.0",
            "probability": 0.08909618039160766
           },
           {
            "outcome": "7.0",
            "probability": 0.017988208587689257
           }
          ]
         },
         "description": "",
         "encoding": {
          "x": {
           "axis": {
            "labelAngle": -55
           },
           "field": "outcome",
           "scale": {
            "rangeStep": 30
           },
           "sort": null,
           "type": "ordinal"
          },
          "y": {
           "field": "probability",
           "type": "quantitative"
          }
         },
         "mark": "bar"
        },
        {
         "$schema": "https://vega.github.io/schema/vega-lite/v3.json",
         "data": {
          "values": [
           {
            "outcome": "1.0",
            "probability": 0.017988208587689257
           },
           {
            "outcome": "2.0",
            "probability": 0.08909618039160766
           },
           {
            "outcome": "3.0",
            "probability": 0.23269218012423146
           },
           {
            "outcome": "4.0",
            "probability": 0.3204468617929428
           },
           {
            "outcome": "5.0",
            "probability": 0.23269218012423146
           },
           {
            "outcome": "6.0",
            "probability": 0.08909618039160766
           },
           {
            "outcome": "7.0",
            "probability": 0.017988208587689257
           }
          ]
         },
         "description": "",
         "encoding": {
          "x": {
           "axis": {
            "labelAngle": -55
           },
           "field": "outcome",
           "scale": {
            "rangeStep": 30
           },
           "sort": null,
           "type": "ordinal"
          },
          "y": {
           "field": "probability",
           "type": "quantitative"
          }
         },
         "mark": "bar"
        }
       ],
       "spacing": 50
      },
      "image/png": "[encoded data removed]"
     },
     "metadata": {},
     "output_type": "display_data"
    }
   ],
   "source": [
    "vlShow . sidewaysDists <$> sequence\n",
    "  [ barFromDist <$> enumD ((`ht` John) <$> worldPrior)\n",
    "  , barFromDist <$> enumD ((`ht` Mary) <$> worldPrior)\n",
    "  , barFromDist <$> enumD ((`ht` Fred) <$> worldPrior)\n",
    "  ]"
   ]
  },
  {
   "cell_type": "code",
   "execution_count": 12,
   "metadata": {},
   "outputs": [],
   "source": [
    "cost :: Utt -> Double\n",
    "cost UNone = 0\n",
    "cost UTall = 1\n",
    "cost UShrt = 2\n",
    "\n",
    "utterancePrior :: Model Utt\n",
    "utterancePrior = belief . fromList $ [(u, - alpha * cost u) | u <- utterances]"
   ]
  },
  {
   "cell_type": "code",
   "execution_count": 13,
   "metadata": {},
   "outputs": [
    {
     "data": {
      "application/vnd.vegalite.v2+json": {
       "$schema": "https://vega.github.io/schema/vega-lite/v3.json",
       "data": {
        "values": [
         {
          "outcome": "UNone",
          "probability": 0.9816903928255046
         },
         {
          "outcome": "UTall",
          "probability": 0.017980286735531554
         },
         {
          "outcome": "UShrt",
          "probability": 0.00032932043896389277
         }
        ]
       },
       "description": "",
       "encoding": {
        "x": {
         "axis": {
          "labelAngle": -55
         },
         "field": "outcome",
         "scale": {
          "rangeStep": 30
         },
         "sort": null,
         "type": "ordinal"
        },
        "y": {
         "field": "probability",
         "type": "quantitative"
        }
       },
       "mark": "bar"
      },
      "image/png": "[encoded data removed]"
     },
     "metadata": {},
     "output_type": "display_data"
    }
   ],
   "source": [
    "vlShow . barFromDist <$> enumD utterancePrior"
   ]
  },
  {
   "cell_type": "code",
   "execution_count": 14,
   "metadata": {},
   "outputs": [
    {
     "data": {
      "application/vnd.vegalite.v2+json": {
       "$schema": "https://vega.github.io/schema/vega-lite/v3.json",
       "layer": [
        {
         "$schema": "https://vega.github.io/schema/vega-lite/v3.json",
         "data": {
          "values": [
           {
            "outcome": "1.0",
            "probability": 0.14285714285714288
           },
           {
            "outcome": "2.0",
            "probability": 0.14285714285714288
           },
           {
            "outcome": "3.0",
            "probability": 0.14285714285714288
           },
           {
            "outcome": "4.0",
            "probability": 0.14285714285714288
           },
           {
            "outcome": "5.0",
            "probability": 0.14285714285714288
           },
           {
            "outcome": "6.0",
            "probability": 0.14285714285714288
           },
           {
            "outcome": "7.0",
            "probability": 0.14285714285714288
           }
          ]
         },
         "description": "",
         "encoding": {
          "x": {
           "axis": {
            "labelAngle": -55
           },
           "field": "outcome",
           "scale": {
            "rangeStep": 30
           },
           "sort": null,
           "type": "ordinal"
          },
          "y": {
           "field": "probability",
           "type": "quantitative"
          }
         },
         "mark": "bar"
        }
       ],
       "title": "Threshold Prior"
      },
      "image/png": "[encoded data removed]"
     },
     "metadata": {},
     "output_type": "display_data"
    }
   ],
   "source": [
    "thresholdPrior :: Model Double\n",
    "thresholdPrior = unif heights -- (drop 1 . dropEnd 1 $ heights)\n",
    "\n",
    "vlShow . titled \"Threshold Prior\" . barFromDist <$> enumD thresholdPrior"
   ]
  },
  {
   "cell_type": "markdown",
   "metadata": {},
   "source": [
    "# Experiments"
   ]
  },
  {
   "cell_type": "markdown",
   "metadata": {},
   "source": [
    "Even a literal listener ought to be somewhat evaluative!"
   ]
  },
  {
   "cell_type": "markdown",
   "metadata": {},
   "source": [
    "> \"Tall\""
   ]
  },
  {
   "cell_type": "code",
   "execution_count": 15,
   "metadata": {},
   "outputs": [],
   "source": [
    "infoBaseline = Priors worldPrior utterancePrior (unif [2])\n",
    "infoLGJohn = infoBaseline {tp = thresholdPrior}"
   ]
  },
  {
   "cell_type": "code",
   "execution_count": 16,
   "metadata": {},
   "outputs": [],
   "source": [
    "mkGraph m = do\n",
    "  heightBar <- enumD ((`ht` John) . fst <$> m)\n",
    "  threshBar <- enumD (fromEnum    . snd <$> m)\n",
    "  return $ toVegaLite\n",
    "    [ center True\n",
    "    , vConcat [fromVL (barFromDist heightBar), fromVL (sdBarFromDist heights threshBar)]\n",
    "    ]"
   ]
  },
  {
   "cell_type": "code",
   "execution_count": 17,
   "metadata": {},
   "outputs": [
    {
     "data": {
      "application/vnd.vegalite.v2+json": {
       "$schema": "https://vega.github.io/schema/vega-lite/v3.json",
       "hconcat": [
        {
         "$schema": "https://vega.github.io/schema/vega-lite/v3.json",
         "center": true,
         "vconcat": [
          {
           "$schema": "https://vega.github.io/schema/vega-lite/v3.json",
           "data": {
            "values": [
             {
              "outcome": "1.0",
              "probability": 0.017988208587689257
             },
             {
              "outcome": "2.0",
              "probability": 0.08909618039160766
             },
             {
              "outcome": "3.0",
              "probability": 0.23269218012423146
             },
             {
              "outcome": "4.0",
              "probability": 0.3204468617929428
             },
             {
              "outcome": "5.0",
              "probability": 0.23269218012423146
             },
             {
              "outcome": "6.0",
              "probability": 0.08909618039160766
             },
             {
              "outcome": "7.0",
              "probability": 0.017988208587689257
             }
            ]
           },
           "description": "",
           "encoding": {
            "x": {
             "axis": {
              "labelAngle": -55
             },
             "field": "outcome",
             "scale": {
              "rangeStep": 30
             },
             "sort": null,
             "type": "ordinal"
            },
            "y": {
             "field": "probability",
             "type": "quantitative"
            }
           },
           "mark": "bar"
          },
          {
           "$schema": "https://vega.github.io/schema/vega-lite/v3.json",
           "data": {
            "values": [
             {
              "prob": 1,
              "sigma": "1"
             }
            ]
           },
           "description": "",
           "encoding": {
            "x": {
             "axis": {
              "labelAngle": -55
             },
             "field": "sigma",
             "scale": {
              "domain": [
               "1",
               "2",
               "3",
               "4",
               "5",
               "6",
               "7"
              ],
              "rangeStep": 30
             },
             "sort": null,
             "type": "ordinal"
            },
            "y": {
             "field": "prob",
             "type": "quantitative"
            }
           },
           "mark": {
            "color": "firebrick",
            "opacity": 0.75,
            "type": "bar"
           }
          }
         ]
        },
        {
         "$schema": "https://vega.github.io/schema/vega-lite/v3.json",
         "center": true,
         "vconcat": [
          {
           "$schema": "https://vega.github.io/schema/vega-lite/v3.json",
           "data": {
            "values": [
             {
              "outcome": "1.0",
              "probability": 0.0044970521469223255
             },
             {
              "outcome": "2.0",
              "probability": 0.04454809019580379
             },
             {
              "outcome": "3.0",
              "probability": 0.17451913509317363
             },
             {
              "outcome": "4.0",
              "probability": 0.32044686179294307
             },
             {
              "outcome": "5.0",
              "probability": 0.29086522515528956
             },
             {
              "outcome": "6.0",
              "probability": 0.1336442705874113
             },
             {
              "outcome": "7.0",
              "probability": 0.031479365028456226
             }
            ]
           },
           "description": "",
           "encoding": {
            "x": {
             "axis": {
              "labelAngle": -55
             },
             "field": "outcome",
             "scale": {
              "rangeStep": 30
             },
             "sort": null,
             "type": "ordinal"
            },
            "y": {
             "field": "probability",
             "type": "quantitative"
            }
           },
           "mark": "bar"
          },
          {
           "$schema": "https://vega.github.io/schema/vega-lite/v3.json",
           "data": {
            "values": [
             {
              "prob": 0.24999999999999994,
              "sigma": "1"
             },
             {
              "prob": 0.24550294785307772,
              "sigma": "2"
             },
             {
              "prob": 0.22322890275517568,
              "sigma": "3"
             },
             {
              "prob": 0.16505585772411782,
              "sigma": "4"
             },
             {
              "prob": 0.0849441422758824,
              "sigma": "5"
             },
             {
              "prob": 0.026771097244824276,
              "sigma": "6"
             },
             {
              "prob": 0.004497052146922329,
              "sigma": "7"
             }
            ]
           },
           "description": "",
           "encoding": {
            "x": {
             "axis": {
              "labelAngle": -55
             },
             "field": "sigma",
             "scale": {
              "domain": [
               "1",
               "2",
               "3",
               "4",
               "5",
               "6",
               "7"
              ],
              "rangeStep": 30
             },
             "sort": null,
             "type": "ordinal"
            },
            "y": {
             "field": "prob",
             "type": "quantitative"
            }
           },
           "mark": {
            "color": "firebrick",
            "opacity": 0.75,
            "type": "bar"
           }
          }
         ]
        },
        {
         "$schema": "https://vega.github.io/schema/vega-lite/v3.json",
         "center": true,
         "vconcat": [
          {
           "$schema": "https://vega.github.io/schema/vega-lite/v3.json",
           "data": {
            "values": [
             {
              "outcome": "1.0",
              "probability": 2.3405635307740023e-07
             },
             {
              "outcome": "2.0",
              "probability": 0.004767588413457155
             },
             {
              "outcome": "3.0",
              "probability": 0.03424582654547653
             },
             {
              "outcome": "4.0",
              "probability": 0.11169440690329908
             },
             {
              "outcome": "5.0",
              "probability": 0.38777181834669705
             },
             {
              "outcome": "6.0",
              "probability": 0.34991630434942517
             },
             {
              "outcome": "7.0",
              "probability": 0.11160382138529226
             }
            ]
           },
           "description": "",
           "encoding": {
            "x": {
             "axis": {
              "labelAngle": -55
             },
             "field": "outcome",
             "scale": {
              "rangeStep": 30
             },
             "sort": null,
             "type": "ordinal"
            },
            "y": {
             "field": "probability",
             "type": "quantitative"
            }
           },
           "mark": "bar"
          },
          {
           "$schema": "https://vega.github.io/schema/vega-lite/v3.json",
           "data": {
            "values": [
             {
              "prob": 0.04021608859366295,
              "sigma": "1"
             },
             {
              "prob": 0.04038665493966667,
              "sigma": "2"
             },
             {
              "prob": 0.05658279973087626,
              "sigma": "3"
             },
             {
              "prob": 0.13206380431683135,
              "sigma": "4"
             },
             {
              "prob": 0.4477135579892499,
              "sigma": "5"
             },
             {
              "prob": 0.24208026104417096,
              "sigma": "6"
             },
             {
              "prob": 0.040956833385541735,
              "sigma": "7"
             }
            ]
           },
           "description": "",
           "encoding": {
            "x": {
             "axis": {
              "labelAngle": -55
             },
             "field": "sigma",
             "scale": {
              "domain": [
               "1",
               "2",
               "3",
               "4",
               "5",
               "6",
               "7"
              ],
              "rangeStep": 30
             },
             "sort": null,
             "type": "ordinal"
            },
            "y": {
             "field": "prob",
             "type": "quantitative"
            }
           },
           "mark": {
            "color": "firebrick",
            "opacity": 0.75,
            "type": "bar"
           }
          }
         ]
        }
       ],
       "spacing": 50
      },
      "image/png": "[encoded data removed]"
     },
     "metadata": {},
     "output_type": "display_data"
    }
   ],
   "source": [
    "writeIORef cacheRef (0, Map.empty)\n",
    "\n",
    "-- vlShow . sidewaysDists <$> sequence\n",
    "--   [ titled \"Price Prior\" . barFromDist <$> enumD worldPrior\n",
    "--   , titled \"Literal Price Posterior\" . barFromDist <$> enumD (thresholdPrior >>= fmap fst . literal UExp)\n",
    "--   ] \n",
    "\n",
    "vlShow . sidewaysDists <$> traverse mkGraph\n",
    "  [ listener infoLGJohn cacheRef (0, UTall, 1)\n",
    "  , tp infoLGJohn >>= \\l -> listener infoLGJohn cacheRef (0, UTall, l)\n",
    "  , listener infoLGJohn cacheRef (1, UTall, 1)\n",
    "--   , listener infoLGJohn cacheRef (2, UTall, 1)\n",
    "--   , listener infoLGJohn cacheRef (3, UTall, 2)\n",
    "  ]"
   ]
  },
  {
   "cell_type": "markdown",
   "metadata": {},
   "source": [
    "# Embedded Implicature?"
   ]
  },
  {
   "cell_type": "code",
   "execution_count": 18,
   "metadata": {},
   "outputs": [],
   "source": [
    "deriving instance Ord E\n",
    "type UttE = (Utt, E)"
   ]
  },
  {
   "cell_type": "code",
   "execution_count": 19,
   "metadata": {},
   "outputs": [],
   "source": [
    "utterancesE :: [UttE]\n",
    "utterancesE = [(u, x) | u <- utterances, x <- domain]"
   ]
  },
  {
   "cell_type": "code",
   "execution_count": 20,
   "metadata": {},
   "outputs": [],
   "source": [
    "costE :: UttE -> Double\n",
    "costE (u, _) = cost u\n",
    "\n",
    "utteranceEPrior :: Model UttE\n",
    "utteranceEPrior = belief . fromList $ [(u, - alpha * costE u) | u <- utterancesE]"
   ]
  },
  {
   "cell_type": "code",
   "execution_count": 21,
   "metadata": {},
   "outputs": [
    {
     "data": {
      "application/vnd.vegalite.v2+json": {
       "$schema": "https://vega.github.io/schema/vega-lite/v3.json",
       "data": {
        "values": [
         {
          "outcome": "(UNone,John)",
          "probability": 0.3272301309418349
         },
         {
          "outcome": "(UNone,Mary)",
          "probability": 0.3272301309418349
         },
         {
          "outcome": "(UNone,Fred)",
          "probability": 0.3272301309418349
         },
         {
          "outcome": "(UTall,John)",
          "probability": 0.005993428911843849
         },
         {
          "outcome": "(UTall,Mary)",
          "probability": 0.005993428911843849
         },
         {
          "outcome": "(UTall,Fred)",
          "probability": 0.005993428911843849
         },
         {
          "outcome": "(UShrt,John)",
          "probability": 0.00010977347965463099
         },
         {
          "outcome": "(UShrt,Mary)",
          "probability": 0.00010977347965463099
         },
         {
          "outcome": "(UShrt,Fred)",
          "probability": 0.00010977347965463099
         }
        ]
       },
       "description": "",
       "encoding": {
        "x": {
         "axis": {
          "labelAngle": -55
         },
         "field": "outcome",
         "scale": {
          "rangeStep": 30
         },
         "sort": null,
         "type": "ordinal"
        },
        "y": {
         "field": "probability",
         "type": "quantitative"
        }
       },
       "mark": "bar"
      },
      "image/png": "[encoded data removed]"
     },
     "metadata": {},
     "output_type": "display_data"
    }
   ],
   "source": [
    "vlShow . barFromDist <$> enumD utteranceEPrior"
   ]
  },
  {
   "cell_type": "code",
   "execution_count": 22,
   "metadata": {},
   "outputs": [],
   "source": [
    "-- Initialize reference cell for storing results to share within and between computations\n",
    "type CacheE = E -> IORef (Int, Map.Map (Int, UttE, Double) (Dist World))\n",
    "cacheRefJ <- newIORef (0, Map.empty) :: IO (IORef (Int, Map.Map (Int, UttE, Double) (Dist World)))\n",
    "cacheRefM <- newIORef (0, Map.empty) :: IO (IORef (Int, Map.Map (Int, UttE, Double) (Dist World)))\n",
    "cacheRefF <- newIORef (0, Map.empty) :: IO (IORef (Int, Map.Map (Int, UttE, Double) (Dist World)))\n",
    "\n",
    "cr :: CacheE\n",
    "cr John = cacheRefJ\n",
    "cr Mary = cacheRefM\n",
    "cr Fred = cacheRefF"
   ]
  },
  {
   "cell_type": "code",
   "execution_count": 23,
   "metadata": {},
   "outputs": [],
   "source": [
    "data PriorsE = PriorsE {wp :: Model World, up :: Model UttE, tp :: Model Double}\n",
    "type AgentE k a = PriorsE -> CacheE -> (Int, k, Double) -> Model a"
   ]
  },
  {
   "cell_type": "code",
   "execution_count": 24,
   "metadata": {},
   "outputs": [],
   "source": [
    "denE :: Double -> UttE -> Prop\n",
    "denE _ (UNone, _) = universe -- blah\n",
    "denE d (UTall, x) = filter (\\w -> ht w x >= d) universe\n",
    "denE d (UShrt, x) = filter (\\w -> ht w x <= d) universe"
   ]
  },
  {
   "cell_type": "code",
   "execution_count": 29,
   "metadata": {},
   "outputs": [],
   "source": [
    "speakerE :: AgentE World UttE\n",
    "speakerE priors ref (n,w,d) =\n",
    "  do u <- up priors\n",
    "     if null (denE d u)\n",
    "       then weight negInf\n",
    "       else do lnr <- lift $ memoize (ref $ snd u) (fmap fst . listenerE priors ref) (n-1,u,d)\n",
    "               weight $ alpha * logProb lnr w\n",
    "     return u\n",
    "    \n",
    "listenerE :: AgentE UttE (World, Double)\n",
    "listenerE priors ref (n,u,d)\n",
    "  | n > 0 =\n",
    "      do world <- wp priors\n",
    "         thres <- if n == 1 then tp priors else return d\n",
    "         up'   <- lift . enumM $ up priors >>= \\u' -> condition (snd u == snd u') >> return u' \n",
    "         spr   <- lift . enumD $ speakerE (priors {up = up'}) ref (n,world,thres)\n",
    "         observe spr u\n",
    "         return (world, thres)\n",
    "  | otherwise =\n",
    "      do world <- wp priors\n",
    "         condition (world `elem` denE d u)\n",
    "         return (world, d)"
   ]
  },
  {
   "cell_type": "code",
   "execution_count": 30,
   "metadata": {},
   "outputs": [],
   "source": [
    "infoBaselineE = PriorsE worldPrior utteranceEPrior (unif [2])\n",
    "infoLGE = infoBaselineE {tp = thresholdPrior}"
   ]
  },
  {
   "cell_type": "code",
   "execution_count": 28,
   "metadata": {},
   "outputs": [
    {
     "data": {
      "text/plain": [
       "Discrete [((UNone,John),0.9816903928255046),((UTall,John),1.7980286735531537e-2),((UShrt,John),3.2932043896389277e-4)]"
      ]
     },
     "metadata": {},
     "output_type": "display_data"
    }
   ],
   "source": [
    "enumM (up infoLGE >>= \\u' -> condition (John == snd u') >> return u') >>= \\m -> enumD m"
   ]
  },
  {
   "cell_type": "code",
   "execution_count": 37,
   "metadata": {},
   "outputs": [
    {
     "data": {
      "application/vnd.vegalite.v2+json": {
       "$schema": "https://vega.github.io/schema/vega-lite/v3.json",
       "center": true,
       "vconcat": [
        {
         "$schema": "https://vega.github.io/schema/vega-lite/v3.json",
         "data": {
          "values": [
           {
            "outcome": "1.0",
            "probability": 2.3405635307739898e-07
           },
           {
            "outcome": "2.0",
            "probability": 0.004767588413457164
           },
           {
            "outcome": "3.0",
            "probability": 0.034245826545476546
           },
           {
            "outcome": "4.0",
            "probability": 0.11169440690329893
           },
           {
            "outcome": "5.0",
            "probability": 0.38777181834669655
           },
           {
            "outcome": "6.0",
            "probability": 0.34991630434942533
           },
           {
            "outcome": "7.0",
            "probability": 0.11160382138529226
           }
          ]
         },
         "description": "",
         "encoding": {
          "x": {
           "axis": {
            "labelAngle": -55
           },
           "field": "outcome",
           "scale": {
            "rangeStep": 30
           },
           "sort": null,
           "type": "ordinal"
          },
          "y": {
           "field": "probability",
           "type": "quantitative"
          }
         },
         "mark": "bar"
        },
        {
         "$schema": "https://vega.github.io/schema/vega-lite/v3.json",
         "data": {
          "values": [
           {
            "prob": 0.000610079513053844,
            "sigma": "1"
           },
           {
            "prob": 0.0006178749750884503,
            "sigma": "2"
           },
           {
            "prob": 0.001699183383477483,
            "sigma": "3"
           },
           {
            "prob": 0.02160420877656897,
            "sigma": "4"
           },
           {
            "prob": 0.8417588537639533,
            "sigma": "5"
           },
           {
            "prob": 0.13306538395317347,
            "sigma": "6"
           },
           {
            "prob": 0.000644415634684345,
            "sigma": "7"
           }
          ]
         },
         "description": "",
         "encoding": {
          "x": {
           "axis": {
            "labelAngle": -55
           },
           "field": "sigma",
           "scale": {
            "domain": [
             "1",
             "2",
             "3",
             "4",
             "5",
             "6",
             "7"
            ],
            "rangeStep": 30
           },
           "sort": null,
           "type": "ordinal"
          },
          "y": {
           "field": "prob",
           "type": "quantitative"
          }
         },
         "mark": {
          "color": "firebrick",
          "opacity": 0.75,
          "type": "bar"
         }
        }
       ]
      },
      "image/png": "[encoded data removed]"
     },
     "metadata": {},
     "output_type": "display_data"
    }
   ],
   "source": [
    "writeIORef cacheRefJ (0, Map.empty)\n",
    "writeIORef cacheRefM (0, Map.empty)\n",
    "writeIORef cacheRefF (0, Map.empty)\n",
    "\n",
    "vlShow <$>\n",
    "  ( do let pr = infoLGE\n",
    "       r' <- enumD (listenerE pr cr (1, (UTall,John), 1))\n",
    "       wp' <- enumM (fst <$> belief r')\n",
    "       tp' <- enumM (snd <$> belief r')\n",
    "       let pr' = infoLGE {wp = wp', tp = tp'}\n",
    "       r'' <- enumD (listenerE pr' cr (1, (UTall,Mary), 1))\n",
    "       wp'' <- enumM (fst <$> belief r'')\n",
    "       tp'' <- enumM (snd <$> belief r'')\n",
    "       let pr'' = infoLGE {wp = wp'', tp = tp''}\n",
    "       mkGraph $ listenerE pr'' cr (1, (UTall,Fred), 1)\n",
    "  )"
   ]
  },
  {
   "cell_type": "code",
   "execution_count": 38,
   "metadata": {},
   "outputs": [
    {
     "data": {
      "text/plain": [
       "7182"
      ]
     },
     "metadata": {},
     "output_type": "display_data"
    }
   ],
   "source": [
    "readIORef (cr John) >>= \\(i,cache) -> print i"
   ]
  },
  {
   "cell_type": "code",
   "execution_count": 36,
   "metadata": {},
   "outputs": [
    {
     "data": {
      "application/vnd.vegalite.v2+json": {
       "$schema": "https://vega.github.io/schema/vega-lite/v3.json",
       "center": true,
       "vconcat": [
        {
         "$schema": "https://vega.github.io/schema/vega-lite/v3.json",
         "data": {
          "values": [
           {
            "outcome": "1.0",
            "probability": 2.3405635307740147e-07
           },
           {
            "outcome": "2.0",
            "probability": 0.004767588413457164
           },
           {
            "outcome": "3.0",
            "probability": 0.034245826545476456
           },
           {
            "outcome": "4.0",
            "probability": 0.11169440690329883
           },
           {
            "outcome": "5.0",
            "probability": 0.3877718183466964
           },
           {
            "outcome": "6.0",
            "probability": 0.3499163043494255
           },
           {
            "outcome": "7.0",
            "probability": 0.11160382138529241
           }
          ]
         },
         "description": "",
         "encoding": {
          "x": {
           "axis": {
            "labelAngle": -55
           },
           "field": "outcome",
           "scale": {
            "rangeStep": 30
           },
           "sort": null,
           "type": "ordinal"
          },
          "y": {
           "field": "probability",
           "type": "quantitative"
          }
         },
         "mark": "bar"
        },
        {
         "$schema": "https://vega.github.io/schema/vega-lite/v3.json",
         "data": {
          "values": [
           {
            "prob": 0.04021608859366297,
            "sigma": "1"
           },
           {
            "prob": 0.04038665493966676,
            "sigma": "2"
           },
           {
            "prob": 0.05658279973087639,
            "sigma": "3"
           },
           {
            "prob": 0.1320638043168306,
            "sigma": "4"
           },
           {
            "prob": 0.44771355798925044,
            "sigma": "5"
           },
           {
            "prob": 0.24208026104417107,
            "sigma": "6"
           },
           {
            "prob": 0.04095683338554175,
            "sigma": "7"
           }
          ]
         },
         "description": "",
         "encoding": {
          "x": {
           "axis": {
            "labelAngle": -55
           },
           "field": "sigma",
           "scale": {
            "domain": [
             "1",
             "2",
             "3",
             "4",
             "5",
             "6",
             "7"
            ],
            "rangeStep": 30
           },
           "sort": null,
           "type": "ordinal"
          },
          "y": {
           "field": "prob",
           "type": "quantitative"
          }
         },
         "mark": {
          "color": "firebrick",
          "opacity": 0.75,
          "type": "bar"
         }
        }
       ]
      },
      "image/png": "[encoded data removed]"
     },
     "metadata": {},
     "output_type": "display_data"
    }
   ],
   "source": [
    "vlShow <$>\n",
    "  ( do let pr   = infoLGE\n",
    "       r'   <- enumD (listenerE pr   cr (1, (UTall,John), 1))\n",
    "       let pr'  = infoLGE {wp = fst <$> belief r' {--, tp = snd <$> belief r'--}}\n",
    "       r''  <- enumD (listenerE pr'  cr (1, (UTall,Mary), 1))\n",
    "       let pr'' = infoLGE {wp = fst <$> belief r''{--, tp = snd <$> belief r''--}}\n",
    "       mkGraph $      listenerE pr'' cr (1, (UTall,Fred), 1)\n",
    "  )"
   ]
  },
  {
   "cell_type": "code",
   "execution_count": 27,
   "metadata": {},
   "outputs": [],
   "source": [
    "mkEGraph m = do\n",
    "  jn <- enumD $ m John\n",
    "  mr <- enumD $ m Mary\n",
    "  fd <- enumD $ m Fred\n",
    "  let m' = do (w,d) <- unif [(w,d) | w <- universe, d <- heights]\n",
    "              observe jn (w,d)\n",
    "              observe mr (w,d)\n",
    "              observe fd (w,d)\n",
    "              return (w,d)\n",
    "  heightBar <- enumD ((`ht` John) . fst <$> m')\n",
    "  threshBar <- enumD (fromEnum    . snd <$> m')\n",
    "  return $ toVegaLite\n",
    "    [ center True\n",
    "    , vConcat [fromVL (barFromDist heightBar), fromVL (sdBarFromDist heights threshBar)]\n",
    "    ]"
   ]
  },
  {
   "cell_type": "code",
   "execution_count": 27,
   "metadata": {},
   "outputs": [
    {
     "data": {
      "application/vnd.vegalite.v2+json": {
       "$schema": "https://vega.github.io/schema/vega-lite/v3.json",
       "hconcat": [
        {
         "$schema": "https://vega.github.io/schema/vega-lite/v3.json",
         "center": true,
         "vconcat": [
          {
           "$schema": "https://vega.github.io/schema/vega-lite/v3.json",
           "data": {
            "values": [
             {
              "outcome": "1.0",
              "probability": 9.777474264565315e-05
             },
             {
              "outcome": "2.0",
              "probability": 0.011880649801660174
             },
             {
              "outcome": "3.0",
              "probability": 0.2116451411180804
             },
             {
              "outcome": "4.0",
              "probability": 0.5527528686752291
             },
             {
              "outcome": "5.0",
              "probability": 0.2116451411180804
             },
             {
              "outcome": "6.0",
              "probability": 0.011880649801660174
             },
             {
              "outcome": "7.0",
              "probability": 9.777474264565315e-05
             }
            ]
           },
           "description": "",
           "encoding": {
            "x": {
             "axis": {
              "labelAngle": -55
             },
             "field": "outcome",
             "scale": {
              "rangeStep": 30
             },
             "sort": null,
             "type": "ordinal"
            },
            "y": {
             "field": "probability",
             "type": "quantitative"
            }
           },
           "mark": "bar"
          },
          {
           "$schema": "https://vega.github.io/schema/vega-lite/v3.json",
           "data": {
            "values": [
             {
              "prob": 1,
              "sigma": "1"
             },
             {
              "prob": 0,
              "sigma": "2"
             },
             {
              "prob": 0,
              "sigma": "3"
             },
             {
              "prob": 0,
              "sigma": "4"
             },
             {
              "prob": 0,
              "sigma": "5"
             },
             {
              "prob": 0,
              "sigma": "6"
             },
             {
              "prob": 0,
              "sigma": "7"
             }
            ]
           },
           "description": "",
           "encoding": {
            "x": {
             "axis": {
              "labelAngle": -55
             },
             "field": "sigma",
             "scale": {
              "domain": [
               "1",
               "2",
               "3",
               "4",
               "5",
               "6",
               "7"
              ],
              "rangeStep": 30
             },
             "sort": null,
             "type": "ordinal"
            },
            "y": {
             "field": "prob",
             "type": "quantitative"
            }
           },
           "mark": {
            "color": "firebrick",
            "opacity": 0.75,
            "type": "bar"
           }
          }
         ]
        },
        {
         "$schema": "https://vega.github.io/schema/vega-lite/v3.json",
         "center": true,
         "vconcat": [
          {
           "$schema": "https://vega.github.io/schema/vega-lite/v3.json",
           "data": {
            "values": [
             {
              "outcome": "1.0",
              "probability": 2.8395207624932e-05
             },
             {
              "outcome": "2.0",
              "probability": 0.006899952394022281
             },
             {
              "outcome": "3.0",
              "probability": 0.18291878025566216
             },
             {
              "outcome": "4.0",
              "probability": 0.5744879326686055
             },
             {
              "outcome": "5.0",
              "probability": 0.22304104482198303
             },
             {
              "outcome": "6.0",
              "probability": 0.012520851213504314
             },
             {
              "outcome": "7.0",
              "probability": 0.00010304343859701146
             }
            ]
           },
           "description": "",
           "encoding": {
            "x": {
             "axis": {
              "labelAngle": -55
             },
             "field": "outcome",
             "scale": {
              "rangeStep": 30
             },
             "sort": null,
             "type": "ordinal"
            },
            "y": {
             "field": "probability",
             "type": "quantitative"
            }
           },
           "mark": "bar"
          },
          {
           "$schema": "https://vega.github.io/schema/vega-lite/v3.json",
           "data": {
            "values": [
             {
              "prob": 0.29041454732168903,
              "sigma": "1"
             },
             {
              "prob": 0.29032937002754555,
              "sigma": "2"
             },
             {
              "prob": 0.28010293031286054,
              "sigma": "3"
             },
             {
              "prob": 0.13590498935430675,
              "sigma": "4"
             },
             {
              "prob": 0.003247663848960712,
              "sigma": "5"
             },
             {
              "prob": 4.991343647073057e-07,
              "sigma": "6"
             },
             {
              "prob": 2.7145535387578564e-13,
              "sigma": "7"
             }
            ]
           },
           "description": "",
           "encoding": {
            "x": {
             "axis": {
              "labelAngle": -55
             },
             "field": "sigma",
             "scale": {
              "domain": [
               "1",
               "2",
               "3",
               "4",
               "5",
               "6",
               "7"
              ],
              "rangeStep": 30
             },
             "sort": null,
             "type": "ordinal"
            },
            "y": {
             "field": "prob",
             "type": "quantitative"
            }
           },
           "mark": {
            "color": "firebrick",
            "opacity": 0.75,
            "type": "bar"
           }
          }
         ]
        },
        {
         "$schema": "https://vega.github.io/schema/vega-lite/v3.json",
         "center": true,
         "vconcat": [
          {
           "$schema": "https://vega.github.io/schema/vega-lite/v3.json",
           "data": {
            "values": [
             {
              "outcome": "1.0",
              "probability": 7.173199123170514e-11
             },
             {
              "outcome": "2.0",
              "probability": 3.6969868802676934e-05
             },
             {
              "outcome": "3.0",
              "probability": 0.0028239345978253263
             },
             {
              "outcome": "4.0",
              "probability": 0.09701369110482919
             },
             {
              "outcome": "5.0",
              "probability": 0.851268454499127
             },
             {
              "outcome": "6.0",
              "probability": 0.048458151146274955
             },
             {
              "outcome": "7.0",
              "probability": 0.00039879871140987324
             }
            ]
           },
           "description": "",
           "encoding": {
            "x": {
             "axis": {
              "labelAngle": -55
             },
             "field": "outcome",
             "scale": {
              "rangeStep": 30
             },
             "sort": null,
             "type": "ordinal"
            },
            "y": {
             "field": "probability",
             "type": "quantitative"
            }
           },
           "mark": "bar"
          },
          {
           "$schema": "https://vega.github.io/schema/vega-lite/v3.json",
           "data": {
            "values": [
             {
              "prob": 0.0023088293441641044,
              "sigma": "1"
             },
             {
              "prob": 0.0027868948804966173,
              "sigma": "2"
             },
             {
              "prob": 0.008280378754475492,
              "sigma": "3"
             },
             {
              "prob": 0.125805003887053,
              "sigma": "4"
             },
             {
              "prob": 0.8601512016294027,
              "sigma": "5"
             },
             {
              "prob": 0.0006676911334103242,
              "sigma": "6"
             },
             {
              "prob": 3.7099905715456514e-10,
              "sigma": "7"
             }
            ]
           },
           "description": "",
           "encoding": {
            "x": {
             "axis": {
              "labelAngle": -55
             },
             "field": "sigma",
             "scale": {
              "domain": [
               "1",
               "2",
               "3",
               "4",
               "5",
               "6",
               "7"
              ],
              "rangeStep": 30
             },
             "sort": null,
             "type": "ordinal"
            },
            "y": {
             "field": "prob",
             "type": "quantitative"
            }
           },
           "mark": {
            "color": "firebrick",
            "opacity": 0.75,
            "type": "bar"
           }
          }
         ]
        }
       ],
       "spacing": 50
      },
      "image/png": "[encoded data removed]"
     },
     "metadata": {},
     "output_type": "display_data"
    }
   ],
   "source": [
    "writeIORef cacheRefJ (0, Map.empty)\n",
    "writeIORef cacheRefM (0, Map.empty)\n",
    "writeIORef cacheRefF (0, Map.empty)\n",
    "\n",
    "vlShow . sidewaysDists <$> traverse mkEGraph\n",
    "  [ \\x -> listenerE infoLGE cr (0, (UTall,x), 1)\n",
    "  , \\x -> thresholdPrior >>= \\l -> listenerE infoLGE cr (0, (UTall,x), l)\n",
    "  , \\x -> listenerE infoLGE cr (1, (UTall,x), 1)\n",
    "--   , listenerE infoLGE cacheRef (2, UTall, 2)\n",
    "--   , listenerE infoLGE cacheRef (3, UTall, 2)\n",
    "  ]"
   ]
  },
  {
   "cell_type": "code",
   "execution_count": null,
   "metadata": {},
   "outputs": [],
   "source": [
    "{--\n",
    "writeIORef cacheRefJ (0, Map.empty)\n",
    "writeIORef cacheRefM (0, Map.empty)\n",
    "writeIORef cacheRefF (0, Map.empty)\n",
    "\n",
    "mkEGraph m = do\n",
    "  let comp upd upd' pr = upd' (infoLGE {wp = fst <$> upd pr, tp = snd <$> upd pr})\n",
    "      m' = foldl comp (\\pr -> (,) <$> wp pr <*> tp pr) [m x | x <- domain] infoLGE\n",
    "  heightBar <- enumD ((`ht` John) . fst <$> m')\n",
    "  threshBar <- enumD (fromEnum    . snd <$> m')\n",
    "  return $ toVegaLite\n",
    "    [ center True\n",
    "    , vConcat [fromVL (barFromDist heightBar), fromVL (sdBarFromDist heights threshBar)]\n",
    "    ]\n",
    "\n",
    "vlShow . sidewaysDists <$> traverse mkEGraph\n",
    "  [ \\x prior -> listenerE prior cr (0, (UTall,x), 1)\n",
    "  , \\x prior -> thresholdPrior >>= \\l -> listenerE prior cr (0, (UTall,x), l)\n",
    "  , \\x prior -> listenerE prior cr (1, (UTall,x), 1)\n",
    "--   , listenerE infoLGE cacheRef (2, UTall, 2)\n",
    "--   , listenerE infoLGE cacheRef (3, UTall, 2)\n",
    "  ]\n",
    "--}"
   ]
  },
  {
   "cell_type": "code",
   "execution_count": null,
   "metadata": {},
   "outputs": [],
   "source": [
    "{--\n",
    "writeIORef cacheRefJ (0, Map.empty)\n",
    "writeIORef cacheRefM (0, Map.empty)\n",
    "writeIORef cacheRefF (0, Map.empty)\n",
    "\n",
    "vlShow . sidewaysDists <$> traverse mkGraph\n",
    "  [ do (w  ,d) <- listenerE infoLGE cr (0, (UTall,John), 1)\n",
    "       (w' ,d) <- listenerE infoLGE cr (0, (UTall,Mary), 1)\n",
    "       (w'',d) <- listenerE infoLGE cr (0, (UTall,Fred), 1)\n",
    "       condition (w == w' && w' == w'')\n",
    "       return (w,d)\n",
    "  ]\n",
    "--}"
   ]
  },
  {
   "cell_type": "code",
   "execution_count": 46,
   "metadata": {},
   "outputs": [
    {
     "data": {
      "application/vnd.vegalite.v2+json": {
       "$schema": "https://vega.github.io/schema/vega-lite/v3.json",
       "hconcat": [
        {
         "$schema": "https://vega.github.io/schema/vega-lite/v3.json",
         "center": true,
         "vconcat": [
          {
           "$schema": "https://vega.github.io/schema/vega-lite/v3.json",
           "data": {
            "values": [
             {
              "outcome": "1.0",
              "probability": 0.017988208587689257
             },
             {
              "outcome": "2.0",
              "probability": 0.08909618039160766
             },
             {
              "outcome": "3.0",
              "probability": 0.23269218012423146
             },
             {
              "outcome": "4.0",
              "probability": 0.3204468617929428
             },
             {
              "outcome": "5.0",
              "probability": 0.23269218012423146
             },
             {
              "outcome": "6.0",
              "probability": 0.08909618039160766
             },
             {
              "outcome": "7.0",
              "probability": 0.017988208587689257
             }
            ]
           },
           "description": "",
           "encoding": {
            "x": {
             "axis": {
              "labelAngle": -55
             },
             "field": "outcome",
             "scale": {
              "rangeStep": 30
             },
             "sort": null,
             "type": "ordinal"
            },
            "y": {
             "field": "probability",
             "type": "quantitative"
            }
           },
           "mark": "bar"
          },
          {
           "$schema": "https://vega.github.io/schema/vega-lite/v3.json",
           "data": {
            "values": [
             {
              "prob": 1,
              "sigma": "1"
             }
            ]
           },
           "description": "",
           "encoding": {
            "x": {
             "axis": {
              "labelAngle": -55
             },
             "field": "sigma",
             "scale": {
              "domain": [
               "1",
               "2",
               "3",
               "4",
               "5",
               "6",
               "7"
              ],
              "rangeStep": 30
             },
             "sort": null,
             "type": "ordinal"
            },
            "y": {
             "field": "prob",
             "type": "quantitative"
            }
           },
           "mark": {
            "color": "firebrick",
            "opacity": 0.75,
            "type": "bar"
           }
          }
         ]
        },
        {
         "$schema": "https://vega.github.io/schema/vega-lite/v3.json",
         "center": true,
         "vconcat": [
          {
           "$schema": "https://vega.github.io/schema/vega-lite/v3.json",
           "data": {
            "values": [
             {
              "outcome": "1.0",
              "probability": 0.01349115644076698
             },
             {
              "outcome": "2.0",
              "probability": 0.07424681699300636
             },
             {
              "outcome": "3.0",
              "probability": 0.21330116511387895
             },
             {
              "outcome": "4.0",
              "probability": 0.3204468617929428
             },
             {
              "outcome": "5.0",
              "probability": 0.25208319513458405
             },
             {
              "outcome": "6.0",
              "probability": 0.10394554379020919
             },
             {
              "outcome": "7.0",
              "probability": 0.02248526073461167
             }
            ]
           },
           "description": "",
           "encoding": {
            "x": {
             "axis": {
              "labelAngle": -55
             },
             "field": "outcome",
             "scale": {
              "rangeStep": 30
             },
             "sort": null,
             "type": "ordinal"
            },
            "y": {
             "field": "probability",
             "type": "quantitative"
            }
           },
           "mark": "bar"
          },
          {
           "$schema": "https://vega.github.io/schema/vega-lite/v3.json",
           "data": {
            "values": [
             {
              "prob": 0.2500000000000004,
              "sigma": "1"
             },
             {
              "prob": 0.24550294785307794,
              "sigma": "2"
             },
             {
              "prob": 0.22322890275517568,
              "sigma": "3"
             },
             {
              "prob": 0.16505585772411768,
              "sigma": "4"
             },
             {
              "prob": 0.08494414227588203,
              "sigma": "5"
             },
             {
              "prob": 0.026771097244824203,
              "sigma": "6"
             },
             {
              "prob": 0.004497052146922309,
              "sigma": "7"
             }
            ]
           },
           "description": "",
           "encoding": {
            "x": {
             "axis": {
              "labelAngle": -55
             },
             "field": "sigma",
             "scale": {
              "domain": [
               "1",
               "2",
               "3",
               "4",
               "5",
               "6",
               "7"
              ],
              "rangeStep": 30
             },
             "sort": null,
             "type": "ordinal"
            },
            "y": {
             "field": "prob",
             "type": "quantitative"
            }
           },
           "mark": {
            "color": "firebrick",
            "opacity": 0.75,
            "type": "bar"
           }
          }
         ]
        },
        {
         "$schema": "https://vega.github.io/schema/vega-lite/v3.json",
         "center": true,
         "vconcat": [
          {
           "$schema": "https://vega.github.io/schema/vega-lite/v3.json",
           "data": {
            "values": [
             {
              "outcome": "1.0",
              "probability": 0.011992217077243907
             },
             {
              "outcome": "2.0",
              "probability": 0.06098664973222424
             },
             {
              "outcome": "3.0",
              "probability": 0.16654339559797998
             },
             {
              "outcome": "4.0",
              "probability": 0.2508627101630617
             },
             {
              "outcome": "5.0",
              "probability": 0.28438539286505304
             },
             {
              "outcome": "6.0",
              "probability": 0.1760362217108801
             },
             {
              "outcome": "7.0",
              "probability": 0.049193412853556946
             }
            ]
           },
           "description": "",
           "encoding": {
            "x": {
             "axis": {
              "labelAngle": -55
             },
             "field": "outcome",
             "scale": {
              "rangeStep": 30
             },
             "sort": null,
             "type": "ordinal"
            },
            "y": {
             "field": "probability",
             "type": "quantitative"
            }
           },
           "mark": "bar"
          },
          {
           "$schema": "https://vega.github.io/schema/vega-lite/v3.json",
           "data": {
            "values": [
             {
              "prob": 0.04021608859366295,
              "sigma": "1"
             },
             {
              "prob": 0.04038665493966667,
              "sigma": "2"
             },
             {
              "prob": 0.05658279973087626,
              "sigma": "3"
             },
             {
              "prob": 0.13206380431683065,
              "sigma": "4"
             },
             {
              "prob": 0.44771355798925067,
              "sigma": "5"
             },
             {
              "prob": 0.24208026104417138,
              "sigma": "6"
             },
             {
              "prob": 0.040956833385541735,
              "sigma": "7"
             }
            ]
           },
           "description": "",
           "encoding": {
            "x": {
             "axis": {
              "labelAngle": -55
             },
             "field": "sigma",
             "scale": {
              "domain": [
               "1",
               "2",
               "3",
               "4",
               "5",
               "6",
               "7"
              ],
              "rangeStep": 30
             },
             "sort": null,
             "type": "ordinal"
            },
            "y": {
             "field": "prob",
             "type": "quantitative"
            }
           },
           "mark": {
            "color": "firebrick",
            "opacity": 0.75,
            "type": "bar"
           }
          }
         ]
        }
       ],
       "spacing": 50
      },
      "image/png": "[encoded data removed]"
     },
     "metadata": {},
     "output_type": "display_data"
    }
   ],
   "source": [
    "writeIORef cacheRefJ (0, Map.empty)\n",
    "writeIORef cacheRefM (0, Map.empty)\n",
    "writeIORef cacheRefF (0, Map.empty)\n",
    "\n",
    "mkEGraph m = do\n",
    "  heightBar <- enumD ((`ht` John) . fst <$> (unif domain >>= m))\n",
    "  threshBar <- enumD (fromEnum    . snd <$> (unif domain >>= m))\n",
    "  return $ toVegaLite\n",
    "    [ center True\n",
    "    , vConcat [fromVL (barFromDist heightBar), fromVL (sdBarFromDist heights threshBar)]\n",
    "    ]\n",
    "\n",
    "vlShow . sidewaysDists <$> traverse mkEGraph\n",
    "  [ \\x -> listenerE infoLGE cr (0, (UTall,x), 1)\n",
    "  , \\x -> thresholdPrior >>= \\l -> listenerE infoLGE cr (0, (UTall,x), l)\n",
    "  , \\x -> listenerE infoLGE cr (1, (UTall,x), 1)\n",
    "--   , listenerE infoLGE cacheRef (2, UTall, 2)\n",
    "--   , listenerE infoLGE cacheRef (3, UTall, 2)\n",
    "  ]"
   ]
  },
  {
   "cell_type": "code",
   "execution_count": 7,
   "metadata": {},
   "outputs": [],
   "source": [
    "sidewaysDists' :: [VegaLite] -> VegaLite\n",
    "sidewaysDists' ms = toVegaLite [spacing 50, res [], hConcat (fromVL <$> ms)]\n",
    "  where res = resolve . resolution (RScale [(ChColor, Independent)])"
   ]
  },
  {
   "cell_type": "code",
   "execution_count": null,
   "metadata": {},
   "outputs": [],
   "source": []
  }
 ],
 "metadata": {
  "kernelspec": {
   "display_name": "Haskell",
   "language": "haskell",
   "name": "haskell"
  },
  "language_info": {
   "codemirror_mode": "ihaskell",
   "file_extension": ".hs",
   "name": "haskell",
   "pygments_lexer": "Haskell",
   "version": "8.6.5"
  }
 },
 "nbformat": 4,
 "nbformat_minor": 4
}
