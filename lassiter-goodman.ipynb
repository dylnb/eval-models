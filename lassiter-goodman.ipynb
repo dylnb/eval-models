{
 "cells": [
  {
   "cell_type": "code",
   "execution_count": 1,
   "metadata": {},
   "outputs": [],
   "source": [
    ":ext LambdaCase\n",
    ":ext StandaloneDeriving"
   ]
  },
  {
   "cell_type": "code",
   "execution_count": 2,
   "metadata": {},
   "outputs": [],
   "source": [
    "import Utils\n",
    "import Data.Tuple.Extra (uncurry3)\n",
    "import Data.Bool (bool)\n",
    "import Data.List.Extra (sortOn, dropEnd, enumerate)\n",
    "import Data.Ord (Down(..), comparing)\n",
    "import Data.Function (on, (&))\n",
    "import Data.Maybe (fromJust)\n",
    "import Control.Monad (replicateM, forM, forM_)\n",
    "import Control.Monad.Trans.Class (lift)\n",
    "import Data.IORef\n",
    "import qualified Data.Map as Map"
   ]
  },
  {
   "cell_type": "code",
   "execution_count": 3,
   "metadata": {},
   "outputs": [],
   "source": [
    "import Tyche.Model\n",
    "import Tyche.Dist\n",
    "import Tyche.Prelude\n",
    "import Tyche.Prob\n",
    "import Tyche.Inference.Enumerate"
   ]
  },
  {
   "cell_type": "code",
   "execution_count": 4,
   "metadata": {},
   "outputs": [],
   "source": [
    "import Graphics.Vega.VegaLite hiding (filter, lookup, repeat, FontWeight(Normal))\n",
    "import qualified Graphics.Vega.VegaLite as VL (filter, lookup, repeat, FontWeight(Normal))"
   ]
  },
  {
   "cell_type": "code",
   "execution_count": 5,
   "metadata": {},
   "outputs": [],
   "source": [
    "data E = John | Mary | Fred deriving (Eq, Enum, Show, Bounded)\n",
    "\n",
    "domain :: [E]\n",
    "domain = enumerate\n",
    "\n",
    "data World = World {label :: String, ht :: E -> Double}\n",
    "\n",
    "instance Eq World where\n",
    "  w == w' = show w == show w'\n",
    "\n",
    "instance Ord World where\n",
    "  compare = comparing (\\s -> map (ht s) domain)\n",
    "\n",
    "instance Show World where\n",
    "  show (World l _) = l\n",
    "  \n",
    "type Prop = [World]\n",
    "\n",
    "mkWorld :: (Double, Double, Double) -> World\n",
    "mkWorld (d, d', d'') = World (\"j\" ++ show d ++ \"m\" ++ show d' ++ \"f\" ++ show d'') hts\n",
    "  where hts = \\case {John -> d; Mary -> d'; _ -> d''}\n",
    "\n",
    "heights = [1 .. 11]\n",
    "universe = [mkWorld (h, h', h'') | h <- heights, h' <- heights, h'' <- heights]"
   ]
  },
  {
   "cell_type": "code",
   "execution_count": 6,
   "metadata": {},
   "outputs": [],
   "source": [
    "data Utt = UNone | UTall | UShrt\n",
    "  deriving (Eq, Show, Ord, Enum, Bounded)\n",
    "\n",
    "utterances :: [Utt]\n",
    "utterances = enumerate"
   ]
  },
  {
   "cell_type": "code",
   "execution_count": 7,
   "metadata": {},
   "outputs": [],
   "source": [
    "-- Initialize reference cell for storing results to share within and between computations\n",
    "type Cache = IORef (Int, Map.Map (Int, Utt, Double) (Dist World))\n",
    "cacheRef <- newIORef (0, Map.empty) :: IO Cache"
   ]
  },
  {
   "cell_type": "code",
   "execution_count": 8,
   "metadata": {},
   "outputs": [],
   "source": [
    "data Priors = Priors {wp :: Model World, up :: Model Utt, tp :: Model Double}\n",
    "type Agent k a = Priors -> Cache -> (Int, k, Double) -> Model a"
   ]
  },
  {
   "cell_type": "code",
   "execution_count": 9,
   "metadata": {},
   "outputs": [],
   "source": [
    "alpha :: Double\n",
    "alpha = 4\n",
    "\n",
    "den :: Double -> Utt -> Prop\n",
    "den _ UNone = universe\n",
    "den d UTall = filter (\\w -> ht w John >= d) universe\n",
    "den d UShrt = filter (\\w -> ht w John <= d) universe\n",
    "\n",
    "speaker :: Agent World Utt\n",
    "speaker priors ref (n,w,d) =\n",
    "  do u <- up priors\n",
    "     if null (den d u)\n",
    "       then weight negInf\n",
    "       else do lnr <- lift $ memoize ref (fmap fst . listener priors ref) (n-1,u,d)\n",
    "               weight $ alpha * logProb lnr w\n",
    "     return u\n",
    "    \n",
    "listener :: Agent Utt (World, Double)\n",
    "listener priors ref (n,u,d)\n",
    "  | n > 0 =\n",
    "      do world <- wp priors\n",
    "         thres <- if n == 1 then tp priors else return d\n",
    "         spr   <- lift . enumD $ speaker priors ref (n,world,thres)\n",
    "         observe spr u\n",
    "         return (world, thres)\n",
    "  | otherwise =\n",
    "      do world <- wp priors\n",
    "         condition (world `elem` den d u)\n",
    "         return (world, d)"
   ]
  },
  {
   "cell_type": "code",
   "execution_count": 10,
   "metadata": {},
   "outputs": [],
   "source": [
    "worldPrior :: Model World\n",
    "worldPrior = do\n",
    "  w <- unif universe\n",
    "  forM_ domain $ \\x ->\n",
    "    observe (Normal 6 2) (ht w x)\n",
    "  return w"
   ]
  },
  {
   "cell_type": "code",
   "execution_count": 11,
   "metadata": {},
   "outputs": [
    {
     "data": {
      "application/vnd.vegalite.v2+json": {
       "$schema": "https://vega.github.io/schema/vega-lite/v3.json",
       "hconcat": [
        {
         "$schema": "https://vega.github.io/schema/vega-lite/v3.json",
         "data": {
          "values": [
           {
            "outcome": "1.0",
            "probability": 0.008812229292562295
           },
           {
            "outcome": "2.0",
            "probability": 0.027143577143479355
           },
           {
            "outcome": "3.0",
            "probability": 0.06511405659938264
           },
           {
            "outcome": "4.0",
            "probability": 0.12164907301380953
           },
           {
            "outcome": "5.0",
            "probability": 0.1769983568313556
           },
           {
            "outcome": "6.0",
            "probability": 0.20056541423882074
           },
           {
            "outcome": "7.0",
            "probability": 0.1769983568313556
           },
           {
            "outcome": "8.0",
            "probability": 0.12164907301380953
           },
           {
            "outcome": "9.0",
            "probability": 0.06511405659938264
           },
           {
            "outcome": "10.0",
            "probability": 0.027143577143479355
           },
           {
            "outcome": "11.0",
            "probability": 0.008812229292562295
           }
          ]
         },
         "description": "",
         "encoding": {
          "x": {
           "axis": {
            "labelAngle": -55
           },
           "field": "outcome",
           "scale": {
            "rangeStep": 30
           },
           "sort": null,
           "type": "ordinal"
          },
          "y": {
           "field": "probability",
           "type": "quantitative"
          }
         },
         "mark": "bar"
        },
        {
         "$schema": "https://vega.github.io/schema/vega-lite/v3.json",
         "data": {
          "values": [
           {
            "outcome": "1.0",
            "probability": 0.008812229292562295
           },
           {
            "outcome": "2.0",
            "probability": 0.027143577143479355
           },
           {
            "outcome": "3.0",
            "probability": 0.06511405659938264
           },
           {
            "outcome": "4.0",
            "probability": 0.12164907301380953
           },
           {
            "outcome": "5.0",
            "probability": 0.1769983568313556
           },
           {
            "outcome": "6.0",
            "probability": 0.20056541423882074
           },
           {
            "outcome": "7.0",
            "probability": 0.1769983568313556
           },
           {
            "outcome": "8.0",
            "probability": 0.12164907301380953
           },
           {
            "outcome": "9.0",
            "probability": 0.06511405659938264
           },
           {
            "outcome": "10.0",
            "probability": 0.027143577143479355
           },
           {
            "outcome": "11.0",
            "probability": 0.008812229292562295
           }
          ]
         },
         "description": "",
         "encoding": {
          "x": {
           "axis": {
            "labelAngle": -55
           },
           "field": "outcome",
           "scale": {
            "rangeStep": 30
           },
           "sort": null,
           "type": "ordinal"
          },
          "y": {
           "field": "probability",
           "type": "quantitative"
          }
         },
         "mark": "bar"
        },
        {
         "$schema": "https://vega.github.io/schema/vega-lite/v3.json",
         "data": {
          "values": [
           {
            "outcome": "1.0",
            "probability": 0.008812229292562295
           },
           {
            "outcome": "2.0",
            "probability": 0.027143577143479355
           },
           {
            "outcome": "3.0",
            "probability": 0.06511405659938264
           },
           {
            "outcome": "4.0",
            "probability": 0.12164907301380953
           },
           {
            "outcome": "5.0",
            "probability": 0.1769983568313556
           },
           {
            "outcome": "6.0",
            "probability": 0.20056541423882074
           },
           {
            "outcome": "7.0",
            "probability": 0.1769983568313556
           },
           {
            "outcome": "8.0",
            "probability": 0.12164907301380953
           },
           {
            "outcome": "9.0",
            "probability": 0.06511405659938264
           },
           {
            "outcome": "10.0",
            "probability": 0.027143577143479355
           },
           {
            "outcome": "11.0",
            "probability": 0.008812229292562295
           }
          ]
         },
         "description": "",
         "encoding": {
          "x": {
           "axis": {
            "labelAngle": -55
           },
           "field": "outcome",
           "scale": {
            "rangeStep": 30
           },
           "sort": null,
           "type": "ordinal"
          },
          "y": {
           "field": "probability",
           "type": "quantitative"
          }
         },
         "mark": "bar"
        }
       ],
       "spacing": 50
      },
      "image/png": "[encoded data removed]"
     },
     "metadata": {},
     "output_type": "display_data"
    }
   ],
   "source": [
    "vlShow . sidewaysDists <$> sequence\n",
    "  [ barFromDist <$> enumD ((`ht` John) <$> worldPrior)\n",
    "  , barFromDist <$> enumD ((`ht` Mary) <$> worldPrior)\n",
    "  , barFromDist <$> enumD ((`ht` Fred) <$> worldPrior)\n",
    "  ]"
   ]
  },
  {
   "cell_type": "code",
   "execution_count": 12,
   "metadata": {},
   "outputs": [],
   "source": [
    "cost :: Utt -> Double\n",
    "cost UNone = 0\n",
    "cost UTall = 1\n",
    "cost UShrt = 2\n",
    "\n",
    "utterancePrior :: Model Utt\n",
    "utterancePrior = belief . fromList $ [(u, - alpha * cost u) | u <- utterances]"
   ]
  },
  {
   "cell_type": "code",
   "execution_count": 13,
   "metadata": {},
   "outputs": [
    {
     "data": {
      "application/vnd.vegalite.v2+json": {
       "$schema": "https://vega.github.io/schema/vega-lite/v3.json",
       "data": {
        "values": [
         {
          "outcome": "UNone",
          "probability": 0.9816903928255046
         },
         {
          "outcome": "UTall",
          "probability": 0.017980286735531554
         },
         {
          "outcome": "UShrt",
          "probability": 0.00032932043896389277
         }
        ]
       },
       "description": "",
       "encoding": {
        "x": {
         "axis": {
          "labelAngle": -55
         },
         "field": "outcome",
         "scale": {
          "rangeStep": 30
         },
         "sort": null,
         "type": "ordinal"
        },
        "y": {
         "field": "probability",
         "type": "quantitative"
        }
       },
       "mark": "bar"
      },
      "image/png": "[encoded data removed]"
     },
     "metadata": {},
     "output_type": "display_data"
    }
   ],
   "source": [
    "vlShow . barFromDist <$> enumD utterancePrior"
   ]
  },
  {
   "cell_type": "code",
   "execution_count": 14,
   "metadata": {},
   "outputs": [
    {
     "data": {
      "application/vnd.vegalite.v2+json": {
       "$schema": "https://vega.github.io/schema/vega-lite/v3.json",
       "layer": [
        {
         "$schema": "https://vega.github.io/schema/vega-lite/v3.json",
         "data": {
          "values": [
           {
            "outcome": "2.0",
            "probability": 0.11111111111111109
           },
           {
            "outcome": "3.0",
            "probability": 0.11111111111111109
           },
           {
            "outcome": "4.0",
            "probability": 0.11111111111111109
           },
           {
            "outcome": "5.0",
            "probability": 0.11111111111111109
           },
           {
            "outcome": "6.0",
            "probability": 0.11111111111111109
           },
           {
            "outcome": "7.0",
            "probability": 0.11111111111111109
           },
           {
            "outcome": "8.0",
            "probability": 0.11111111111111109
           },
           {
            "outcome": "9.0",
            "probability": 0.11111111111111109
           },
           {
            "outcome": "10.0",
            "probability": 0.11111111111111109
           }
          ]
         },
         "description": "",
         "encoding": {
          "x": {
           "axis": {
            "labelAngle": -55
           },
           "field": "outcome",
           "scale": {
            "rangeStep": 30
           },
           "sort": null,
           "type": "ordinal"
          },
          "y": {
           "field": "probability",
           "type": "quantitative"
          }
         },
         "mark": "bar"
        }
       ],
       "title": "Threshold Prior"
      },
      "image/png": "[encoded data removed]"
     },
     "metadata": {},
     "output_type": "display_data"
    }
   ],
   "source": [
    "thresholdPrior :: Model Double\n",
    "thresholdPrior = unif (drop 1 . dropEnd 1 $ heights)\n",
    "\n",
    "vlShow . titled \"Threshold Prior\" . barFromDist <$> enumD thresholdPrior"
   ]
  },
  {
   "cell_type": "markdown",
   "metadata": {},
   "source": [
    "# Experiments"
   ]
  },
  {
   "cell_type": "markdown",
   "metadata": {},
   "source": [
    "Even a literal listener ought to be somewhat evaluative!"
   ]
  },
  {
   "cell_type": "markdown",
   "metadata": {},
   "source": [
    "> \"Tall\""
   ]
  },
  {
   "cell_type": "code",
   "execution_count": 15,
   "metadata": {},
   "outputs": [],
   "source": [
    "infoBaseline = Priors worldPrior utterancePrior (unif [2])\n",
    "infoLGJohn = infoBaseline {tp = thresholdPrior}"
   ]
  },
  {
   "cell_type": "code",
   "execution_count": 16,
   "metadata": {},
   "outputs": [],
   "source": [
    "mkGraph m = do\n",
    "  heightBar <- enumD ((`ht` John) . fst <$> m)\n",
    "  threshBar <- enumD (fromEnum    . snd <$> m)\n",
    "  return $ toVegaLite\n",
    "    [ center True\n",
    "    , vConcat [fromVL (barFromDist heightBar), fromVL (sdBarFromDist heights threshBar)]\n",
    "    ]"
   ]
  },
  {
   "cell_type": "code",
   "execution_count": 17,
   "metadata": {},
   "outputs": [
    {
     "data": {
      "application/vnd.vegalite.v2+json": {
       "$schema": "https://vega.github.io/schema/vega-lite/v3.json",
       "hconcat": [
        {
         "$schema": "https://vega.github.io/schema/vega-lite/v3.json",
         "center": true,
         "vconcat": [
          {
           "$schema": "https://vega.github.io/schema/vega-lite/v3.json",
           "data": {
            "values": [
             {
              "outcome": "1.0",
              "probability": 0
             },
             {
              "outcome": "2.0",
              "probability": 0.027384899153977918
             },
             {
              "outcome": "3.0",
              "probability": 0.06569295800825811
             },
             {
              "outcome": "4.0",
              "probability": 0.12273060323069296
             },
             {
              "outcome": "5.0",
              "probability": 0.17857197401157113
             },
             {
              "outcome": "6.0",
              "probability": 0.20234855611230135
             },
             {
              "outcome": "7.0",
              "probability": 0.17857197401157113
             },
             {
              "outcome": "8.0",
              "probability": 0.12273060323069296
             },
             {
              "outcome": "9.0",
              "probability": 0.06569295800825811
             },
             {
              "outcome": "10.0",
              "probability": 0.027384899153977918
             },
             {
              "outcome": "11.0",
              "probability": 0.008890575078698532
             }
            ]
           },
           "description": "",
           "encoding": {
            "x": {
             "axis": {
              "labelAngle": -55
             },
             "field": "outcome",
             "scale": {
              "rangeStep": 30
             },
             "sort": null,
             "type": "ordinal"
            },
            "y": {
             "field": "probability",
             "type": "quantitative"
            }
           },
           "mark": "bar"
          },
          {
           "$schema": "https://vega.github.io/schema/vega-lite/v3.json",
           "data": {
            "values": [
             {
              "prob": 1,
              "sigma": "2"
             }
            ]
           },
           "description": "",
           "encoding": {
            "x": {
             "axis": {
              "labelAngle": -55
             },
             "field": "sigma",
             "scale": {
              "domain": [
               "1",
               "2",
               "3",
               "4",
               "5",
               "6",
               "7",
               "8",
               "9",
               "10",
               "11"
              ],
              "rangeStep": 30
             },
             "sort": null,
             "type": "ordinal"
            },
            "y": {
             "field": "prob",
             "type": "quantitative"
            }
           },
           "mark": {
            "color": "firebrick",
            "opacity": 0.75,
            "type": "bar"
           }
          }
         ]
        },
        {
         "$schema": "https://vega.github.io/schema/vega-lite/v3.json",
         "center": true,
         "vconcat": [
          {
           "$schema": "https://vega.github.io/schema/vega-lite/v3.json",
           "data": {
            "values": [
             {
              "outcome": "1.0",
              "probability": 0
             },
             {
              "outcome": "2.0",
              "probability": 0.005438300138251883
             },
             {
              "outcome": "3.0",
              "probability": 0.02609160768566059
             },
             {
              "outcome": "4.0",
              "probability": 0.0731183108724643
             },
             {
              "outcome": "5.0",
              "probability": 0.1418486860944271
             },
             {
              "outcome": "6.0",
              "probability": 0.20091952402182756
             },
             {
              "outcome": "7.0",
              "probability": 0.2127730291416409
             },
             {
              "outcome": "8.0",
              "probability": 0.17060939203575018
             },
             {
              "outcome": "9.0",
              "probability": 0.10436643074264239
             },
             {
              "outcome": "10.0",
              "probability": 0.048944701244266975
             },
             {
              "outcome": "11.0",
              "probability": 0.015890018023068563
             }
            ]
           },
           "description": "",
           "encoding": {
            "x": {
             "axis": {
              "labelAngle": -55
             },
             "field": "outcome",
             "scale": {
              "rangeStep": 30
             },
             "sort": null,
             "type": "ordinal"
            },
            "y": {
             "field": "probability",
             "type": "quantitative"
            }
           },
           "mark": "bar"
          },
          {
           "$schema": "https://vega.github.io/schema/vega-lite/v3.json",
           "data": {
            "values": [
             {
              "prob": 0.19858755395350514,
              "sigma": "2"
             },
             {
              "prob": 0.19314925381525322,
              "sigma": "3"
             },
             {
              "prob": 0.18010344997242292,
              "sigma": "4"
             },
             {
              "prob": 0.1557306796816015,
              "sigma": "5"
             },
             {
              "prob": 0.12026850815799461,
              "sigma": "6"
             },
             {
              "prob": 0.08008460335362899,
              "sigma": "7"
             },
             {
              "prob": 0.044622431830022125,
              "sigma": "8"
             },
             {
              "prob": 0.020249661539200804,
              "sigma": "9"
             },
             {
              "prob": 0.007203857696370594,
              "sigma": "10"
             }
            ]
           },
           "description": "",
           "encoding": {
            "x": {
             "axis": {
              "labelAngle": -55
             },
             "field": "sigma",
             "scale": {
              "domain": [
               "1",
               "2",
               "3",
               "4",
               "5",
               "6",
               "7",
               "8",
               "9",
               "10",
               "11"
              ],
              "rangeStep": 30
             },
             "sort": null,
             "type": "ordinal"
            },
            "y": {
             "field": "prob",
             "type": "quantitative"
            }
           },
           "mark": {
            "color": "firebrick",
            "opacity": 0.75,
            "type": "bar"
           }
          }
         ]
        },
        {
         "$schema": "https://vega.github.io/schema/vega-lite/v3.json",
         "center": true,
         "vconcat": [
          {
           "$schema": "https://vega.github.io/schema/vega-lite/v3.json",
           "data": {
            "values": [
             {
              "outcome": "1.0",
              "probability": 0
             },
             {
              "outcome": "2.0",
              "probability": 3.799529205966515e-06
             },
             {
              "outcome": "3.0",
              "probability": 0.002289478166267609
             },
             {
              "outcome": "4.0",
              "probability": 0.011490789440744033
             },
             {
              "outcome": "5.0",
              "probability": 0.02998975525690359
             },
             {
              "outcome": "6.0",
              "probability": 0.07097167565918136
             },
             {
              "outcome": "7.0",
              "probability": 0.17267907047131303
             },
             {
              "outcome": "8.0",
              "probability": 0.2782980521609837
             },
             {
              "outcome": "9.0",
              "probability": 0.24531441047155725
             },
             {
              "outcome": "10.0",
              "probability": 0.14265097682930478
             },
             {
              "outcome": "11.0",
              "probability": 0.04631199201453942
             }
            ]
           },
           "description": "",
           "encoding": {
            "x": {
             "axis": {
              "labelAngle": -55
             },
             "field": "outcome",
             "scale": {
              "rangeStep": 30
             },
             "sort": null,
             "type": "ordinal"
            },
            "y": {
             "field": "probability",
             "type": "quantitative"
            }
           },
           "mark": "bar"
          },
          {
           "$schema": "https://vega.github.io/schema/vega-lite/v3.json",
           "data": {
            "values": [
             {
              "prob": 0.026719286775210578,
              "sigma": "2"
             },
             {
              "prob": 0.028261642412192697,
              "sigma": "3"
             },
             {
              "prob": 0.03591909867534088,
              "sigma": "4"
             },
             {
              "prob": 0.05511030301320677,
              "sigma": "5"
             },
             {
              "prob": 0.1103444416255033,
              "sigma": "6"
             },
             {
              "prob": 0.24842777583592793,
              "sigma": "7"
             },
             {
              "prob": 0.29216688406544816,
              "sigma": "8"
             },
             {
              "prob": 0.1495496716359255,
              "sigma": "9"
             },
             {
              "prob": 0.05350089596124448,
              "sigma": "10"
             }
            ]
           },
           "description": "",
           "encoding": {
            "x": {
             "axis": {
              "labelAngle": -55
             },
             "field": "sigma",
             "scale": {
              "domain": [
               "1",
               "2",
               "3",
               "4",
               "5",
               "6",
               "7",
               "8",
               "9",
               "10",
               "11"
              ],
              "rangeStep": 30
             },
             "sort": null,
             "type": "ordinal"
            },
            "y": {
             "field": "prob",
             "type": "quantitative"
            }
           },
           "mark": {
            "color": "firebrick",
            "opacity": 0.75,
            "type": "bar"
           }
          }
         ]
        },
        {
         "$schema": "https://vega.github.io/schema/vega-lite/v3.json",
         "center": true,
         "vconcat": [
          {
           "$schema": "https://vega.github.io/schema/vega-lite/v3.json",
           "data": {
            "values": [
             {
              "outcome": "1.0",
              "probability": 0
             },
             {
              "outcome": "2.0",
              "probability": 1.3185837418369435e-19
             },
             {
              "outcome": "3.0",
              "probability": 8.71097628754159e-09
             },
             {
              "outcome": "4.0",
              "probability": 8.932270477332052e-07
             },
             {
              "outcome": "5.0",
              "probability": 1.3052960858396232e-05
             },
             {
              "outcome": "6.0",
              "probability": 0.00029589416631482194
             },
             {
              "outcome": "7.0",
              "probability": 0.01804952095272444
             },
             {
              "outcome": "8.0",
              "probability": 0.34500688552392905
             },
             {
              "outcome": "9.0",
              "probability": 0.39738209704955413
             },
             {
              "outcome": "10.0",
              "probability": 0.18061465423912187
             },
             {
              "outcome": "11.0",
              "probability": 0.05863699316947326
             }
            ]
           },
           "description": "",
           "encoding": {
            "x": {
             "axis": {
              "labelAngle": -55
             },
             "field": "outcome",
             "scale": {
              "rangeStep": 30
             },
             "sort": null,
             "type": "ordinal"
            },
            "y": {
             "field": "probability",
             "type": "quantitative"
            }
           },
           "mark": "bar"
          },
          {
           "$schema": "https://vega.github.io/schema/vega-lite/v3.json",
           "data": {
            "values": [
             {
              "prob": 1,
              "sigma": "2"
             }
            ]
           },
           "description": "",
           "encoding": {
            "x": {
             "axis": {
              "labelAngle": -55
             },
             "field": "sigma",
             "scale": {
              "domain": [
               "1",
               "2",
               "3",
               "4",
               "5",
               "6",
               "7",
               "8",
               "9",
               "10",
               "11"
              ],
              "rangeStep": 30
             },
             "sort": null,
             "type": "ordinal"
            },
            "y": {
             "field": "prob",
             "type": "quantitative"
            }
           },
           "mark": {
            "color": "firebrick",
            "opacity": 0.75,
            "type": "bar"
           }
          }
         ]
        }
       ],
       "spacing": 50
      },
      "image/png": "[encoded data removed]"
     },
     "metadata": {},
     "output_type": "display_data"
    }
   ],
   "source": [
    "writeIORef cacheRef (0, Map.empty)\n",
    "\n",
    "-- vlShow . sidewaysDists <$> sequence\n",
    "--   [ titled \"Price Prior\" . barFromDist <$> enumD worldPrior\n",
    "--   , titled \"Literal Price Posterior\" . barFromDist <$> enumD (thresholdPrior >>= fmap fst . literal UExp)\n",
    "--   ] \n",
    "\n",
    "vlShow . sidewaysDists <$> traverse mkGraph\n",
    "  [ listener infoLGJohn cacheRef (0, UTall, 2)\n",
    "  , tp infoLGJohn >>= \\l -> listener infoLGJohn cacheRef (0, UTall, l)\n",
    "  , listener infoLGJohn cacheRef (1, UTall, 2)\n",
    "  , listener infoLGJohn cacheRef (2, UTall, 2)\n",
    "--   , listener infoLGJohn cacheRef (3, UTall, 2)\n",
    "  ]"
   ]
  },
  {
   "cell_type": "markdown",
   "metadata": {},
   "source": [
    "# Quants"
   ]
  },
  {
   "cell_type": "markdown",
   "metadata": {},
   "source": [
    "## All"
   ]
  },
  {
   "cell_type": "code",
   "execution_count": 49,
   "metadata": {},
   "outputs": [],
   "source": [
    "denAll :: Double -> Utt -> Prop\n",
    "denAll _ UNone = universe\n",
    "denAll d UTall = filter (\\w -> all (\\x -> ht w x >= d) domain) universe\n",
    "denAll d UShrt = filter (\\w -> all (\\x -> ht w x <= d) domain) universe\n",
    "\n",
    "speakerAll :: Agent World Utt\n",
    "speakerAll priors ref (n,w,d) =\n",
    "  do u <- up priors\n",
    "     if null (denAll d u)\n",
    "       then weight negInf\n",
    "       else do lnr <- lift $ memoize ref (fmap fst . listenerAll priors ref) (n-1,u,d)\n",
    "               weight $ alpha * logProb lnr w\n",
    "     return u\n",
    "    \n",
    "listenerAll :: Agent Utt (World, Double)\n",
    "listenerAll priors ref (n,u,d)\n",
    "  | n > 0 =\n",
    "      do world <- wp priors\n",
    "         thres <- if n == 1 then tp priors else return d\n",
    "         spr   <- lift . enumD $ speakerAll priors ref (n,world,thres)\n",
    "         observe spr u\n",
    "         return (world, thres)\n",
    "  | otherwise =\n",
    "      do world <- wp priors\n",
    "         condition (world `elem` denAll d u)\n",
    "         return (world, d)"
   ]
  },
  {
   "cell_type": "code",
   "execution_count": 50,
   "metadata": {},
   "outputs": [],
   "source": [
    "infoLGAll = infoLGJohn"
   ]
  },
  {
   "cell_type": "code",
   "execution_count": 51,
   "metadata": {},
   "outputs": [
    {
     "data": {
      "application/vnd.vegalite.v2+json": {
       "$schema": "https://vega.github.io/schema/vega-lite/v3.json",
       "hconcat": [
        {
         "$schema": "https://vega.github.io/schema/vega-lite/v3.json",
         "center": true,
         "vconcat": [
          {
           "$schema": "https://vega.github.io/schema/vega-lite/v3.json",
           "data": {
            "values": [
             {
              "outcome": "1.0",
              "probability": 0
             },
             {
              "outcome": "2.0",
              "probability": 0.027384899153977918
             },
             {
              "outcome": "3.0",
              "probability": 0.06569295800825811
             },
             {
              "outcome": "4.0",
              "probability": 0.12273060323069296
             },
             {
              "outcome": "5.0",
              "probability": 0.17857197401157113
             },
             {
              "outcome": "6.0",
              "probability": 0.20234855611230135
             },
             {
              "outcome": "7.0",
              "probability": 0.17857197401157113
             },
             {
              "outcome": "8.0",
              "probability": 0.12273060323069296
             },
             {
              "outcome": "9.0",
              "probability": 0.06569295800825811
             },
             {
              "outcome": "10.0",
              "probability": 0.027384899153977918
             },
             {
              "outcome": "11.0",
              "probability": 0.008890575078698532
             }
            ]
           },
           "description": "",
           "encoding": {
            "x": {
             "axis": {
              "labelAngle": -55
             },
             "field": "outcome",
             "scale": {
              "rangeStep": 30
             },
             "sort": null,
             "type": "ordinal"
            },
            "y": {
             "field": "probability",
             "type": "quantitative"
            }
           },
           "mark": "bar"
          },
          {
           "$schema": "https://vega.github.io/schema/vega-lite/v3.json",
           "data": {
            "values": [
             {
              "prob": 1,
              "sigma": "2"
             }
            ]
           },
           "description": "",
           "encoding": {
            "x": {
             "axis": {
              "labelAngle": -55
             },
             "field": "sigma",
             "scale": {
              "domain": [
               "1",
               "2",
               "3",
               "4",
               "5",
               "6",
               "7",
               "8",
               "9",
               "10",
               "11"
              ],
              "rangeStep": 30
             },
             "sort": null,
             "type": "ordinal"
            },
            "y": {
             "field": "prob",
             "type": "quantitative"
            }
           },
           "mark": {
            "color": "firebrick",
            "opacity": 0.75,
            "type": "bar"
           }
          }
         ]
        },
        {
         "$schema": "https://vega.github.io/schema/vega-lite/v3.json",
         "center": true,
         "vconcat": [
          {
           "$schema": "https://vega.github.io/schema/vega-lite/v3.json",
           "data": {
            "values": [
             {
              "outcome": "1.0",
              "probability": 0
             },
             {
              "outcome": "2.0",
              "probability": 0.007941264156675357
             },
             {
              "outcome": "3.0",
              "probability": 0.03707112080582719
             },
             {
              "outcome": "4.0",
              "probability": 0.09853125088018339
             },
             {
              "outcome": "5.0",
              "probability": 0.1752067463258246
             },
             {
              "outcome": "6.0",
              "probability": 0.22005704414300659
             },
             {
              "outcome": "7.0",
              "probability": 0.20262108902978282
             },
             {
              "outcome": "8.0",
              "probability": 0.14105624299775338
             },
             {
              "outcome": "9.0",
              "probability": 0.07570004073344654
             },
             {
              "outcome": "10.0",
              "probability": 0.03156692185905099
             },
             {
              "outcome": "11.0",
              "probability": 0.010248279068449127
             }
            ]
           },
           "description": "",
           "encoding": {
            "x": {
             "axis": {
              "labelAngle": -55
             },
             "field": "outcome",
             "scale": {
              "rangeStep": 30
             },
             "sort": null,
             "type": "ordinal"
            },
            "y": {
             "field": "probability",
             "type": "quantitative"
            }
           },
           "mark": "bar"
          },
          {
           "$schema": "https://vega.github.io/schema/vega-lite/v3.json",
           "data": {
            "values": [
             {
              "prob": 0.28998697829865183,
              "sigma": "2"
             },
             {
              "prob": 0.2668096425691988,
              "sigma": "3"
             },
             {
              "prob": 0.21631593497683899,
              "sigma": "4"
             },
             {
              "prob": 0.13984435949666582,
              "sigma": "5"
             },
             {
              "prob": 0.06441369145654977,
              "sigma": "6"
             },
             {
              "prob": 0.019018204094884823,
              "sigma": "7"
             },
             {
              "prob": 0.003289895635709747,
              "sigma": "8"
             },
             {
              "prob": 0.00030745086757511425,
              "sigma": "9"
             },
             {
              "prob": 1.3842603926047425e-05,
              "sigma": "10"
             }
            ]
           },
           "description": "",
           "encoding": {
            "x": {
             "axis": {
              "labelAngle": -55
             },
             "field": "sigma",
             "scale": {
              "domain": [
               "1",
               "2",
               "3",
               "4",
               "5",
               "6",
               "7",
               "8",
               "9",
               "10",
               "11"
              ],
              "rangeStep": 30
             },
             "sort": null,
             "type": "ordinal"
            },
            "y": {
             "field": "prob",
             "type": "quantitative"
            }
           },
           "mark": {
            "color": "firebrick",
            "opacity": 0.75,
            "type": "bar"
           }
          }
         ]
        },
        {
         "$schema": "https://vega.github.io/schema/vega-lite/v3.json",
         "center": true,
         "vconcat": [
          {
           "$schema": "https://vega.github.io/schema/vega-lite/v3.json",
           "data": {
            "values": [
             {
              "outcome": "1.0",
              "probability": 0
             },
             {
              "outcome": "2.0",
              "probability": 0.0010967488138617966
             },
             {
              "outcome": "3.0",
              "probability": 0.006065593489017023
             },
             {
              "outcome": "4.0",
              "probability": 0.02364248161938752
             },
             {
              "outcome": "5.0",
              "probability": 0.09212499207620273
             },
             {
              "outcome": "6.0",
              "probability": 0.24057514892653353
             },
             {
              "outcome": "7.0",
              "probability": 0.27077386555814814
             },
             {
              "outcome": "8.0",
              "probability": 0.1985418120271671
             },
             {
              "outcome": "9.0",
              "probability": 0.10764321821891656
             },
             {
              "outcome": "10.0",
              "probability": 0.04494472379573864
             },
             {
              "outcome": "11.0",
              "probability": 0.014591415475026083
             }
            ]
           },
           "description": "",
           "encoding": {
            "x": {
             "axis": {
              "labelAngle": -55
             },
             "field": "outcome",
             "scale": {
              "rangeStep": 30
             },
             "sort": null,
             "type": "ordinal"
            },
            "y": {
             "field": "probability",
             "type": "quantitative"
            }
           },
           "mark": "bar"
          },
          {
           "$schema": "https://vega.github.io/schema/vega-lite/v3.json",
           "data": {
            "values": [
             {
              "prob": 0.04007863502127838,
              "sigma": "2"
             },
             {
              "prob": 0.05103925603065933,
              "sigma": "3"
             },
             {
              "prob": 0.09221519249934082,
              "sigma": "4"
             },
             {
              "prob": 0.26196492981567393,
              "sigma": "5"
             },
             {
              "prob": 0.3981384230692423,
              "sigma": "6"
             },
             {
              "prob": 0.13156015126643877,
              "sigma": "7"
             },
             {
              "prob": 0.022778815675287296,
              "sigma": "8"
             },
             {
              "prob": 0.0021287521289046992,
              "sigma": "9"
             },
             {
              "prob": 9.584449317511525e-05,
              "sigma": "10"
             }
            ]
           },
           "description": "",
           "encoding": {
            "x": {
             "axis": {
              "labelAngle": -55
             },
             "field": "sigma",
             "scale": {
              "domain": [
               "1",
               "2",
               "3",
               "4",
               "5",
               "6",
               "7",
               "8",
               "9",
               "10",
               "11"
              ],
              "rangeStep": 30
             },
             "sort": null,
             "type": "ordinal"
            },
            "y": {
             "field": "prob",
             "type": "quantitative"
            }
           },
           "mark": {
            "color": "firebrick",
            "opacity": 0.75,
            "type": "bar"
           }
          }
         ]
        },
        {
         "$schema": "https://vega.github.io/schema/vega-lite/v3.json",
         "center": true,
         "vconcat": [
          {
           "$schema": "https://vega.github.io/schema/vega-lite/v3.json",
           "data": {
            "values": [
             {
              "outcome": "1.0",
              "probability": 0
             },
             {
              "outcome": "2.0",
              "probability": 6.514688099690935e-09
             },
             {
              "outcome": "3.0",
              "probability": 4.908160520102393e-07
             },
             {
              "outcome": "4.0",
              "probability": 2.3557038693547164e-05
             },
             {
              "outcome": "5.0",
              "probability": 0.004487061583505105
             },
             {
              "outcome": "6.0",
              "probability": 0.2728964644977634
             },
             {
              "outcome": "7.0",
              "probability": 0.31875672209624467
             },
             {
              "outcome": "8.0",
              "probability": 0.2205694910087013
             },
             {
              "outcome": "9.0",
              "probability": 0.1180713637198075
             },
             {
              "outcome": "10.0",
              "probability": 0.04921704861471413
             },
             {
              "outcome": "11.0",
              "probability": 0.01597779410982972
             }
            ]
           },
           "description": "",
           "encoding": {
            "x": {
             "axis": {
              "labelAngle": -55
             },
             "field": "outcome",
             "scale": {
              "rangeStep": 30
             },
             "sort": null,
             "type": "ordinal"
            },
            "y": {
             "field": "probability",
             "type": "quantitative"
            }
           },
           "mark": "bar"
          },
          {
           "$schema": "https://vega.github.io/schema/vega-lite/v3.json",
           "data": {
            "values": [
             {
              "prob": 1,
              "sigma": "2"
             }
            ]
           },
           "description": "",
           "encoding": {
            "x": {
             "axis": {
              "labelAngle": -55
             },
             "field": "sigma",
             "scale": {
              "domain": [
               "1",
               "2",
               "3",
               "4",
               "5",
               "6",
               "7",
               "8",
               "9",
               "10",
               "11"
              ],
              "rangeStep": 30
             },
             "sort": null,
             "type": "ordinal"
            },
            "y": {
             "field": "prob",
             "type": "quantitative"
            }
           },
           "mark": {
            "color": "firebrick",
            "opacity": 0.75,
            "type": "bar"
           }
          }
         ]
        }
       ],
       "spacing": 50
      },
      "image/png": "[encoded data removed]"
     },
     "metadata": {},
     "output_type": "display_data"
    }
   ],
   "source": [
    "writeIORef cacheRef (0, Map.empty)\n",
    "\n",
    "-- vlShow . sidewaysDists <$> sequence\n",
    "--   [ titled \"Price Prior\" . barFromDist <$> enumD worldPrior\n",
    "--   , titled \"Literal Price Posterior\" . barFromDist <$> enumD (thresholdPrior >>= fmap fst . literal UExp)\n",
    "--   ] \n",
    "\n",
    "vlShow . sidewaysDists <$> traverse mkGraph\n",
    "  [ listenerAll infoLGAll cacheRef (0, UTall, 2)\n",
    "  , thresholdPrior >>= \\l -> listenerAll infoLGAll cacheRef (0, UTall, l)\n",
    "  , listenerAll infoLGAll cacheRef (1, UTall, 2)\n",
    "  , listenerAll infoLGAll cacheRef (2, UTall, 2)\n",
    "--   , listenerAll infoLGAll cacheRef (3, UTall, 2)\n",
    "  ]"
   ]
  },
  {
   "cell_type": "markdown",
   "metadata": {},
   "source": [
    "## Some"
   ]
  },
  {
   "cell_type": "code",
   "execution_count": 19,
   "metadata": {},
   "outputs": [],
   "source": [
    "denAny :: Double -> Utt -> Prop\n",
    "denAny _ UNone = universe\n",
    "denAny d UTall = filter (\\w -> any (\\x -> ht w x >= d) domain) universe\n",
    "denAny d UShrt = filter (\\w -> any (\\x -> ht w x <= d) domain) universe\n",
    "\n",
    "speakerAny :: Agent World Utt\n",
    "speakerAny priors ref (n,w,d) =\n",
    "  do u <- up priors\n",
    "     if null (denAny d u)\n",
    "       then weight negInf\n",
    "       else do lnr <- lift $ memoize ref (fmap fst . listenerAny priors ref) (n-1,u,d)\n",
    "               weight $ alpha * logProb lnr w\n",
    "     return u\n",
    "    \n",
    "listenerAny :: Agent Utt (World, Double)\n",
    "listenerAny priors ref (n,u,d)\n",
    "  | n > 0 =\n",
    "      do world <- wp priors\n",
    "         thres <- if n == 1 then tp priors else return d\n",
    "         spr   <- lift . enumD $ speakerAny priors ref (n,world,thres)\n",
    "         observe spr u\n",
    "         return (world, thres)\n",
    "  | otherwise =\n",
    "      do world <- wp priors\n",
    "         condition (world `elem` denAny d u)\n",
    "         return (world, d)"
   ]
  },
  {
   "cell_type": "code",
   "execution_count": 20,
   "metadata": {},
   "outputs": [],
   "source": [
    "infoLGAny = infoLGJohn"
   ]
  },
  {
   "cell_type": "code",
   "execution_count": 66,
   "metadata": {},
   "outputs": [
    {
     "data": {
      "application/vnd.vegalite.v2+json": {
       "$schema": "https://vega.github.io/schema/vega-lite/v3.json",
       "hconcat": [
        {
         "$schema": "https://vega.github.io/schema/vega-lite/v3.json",
         "center": true,
         "vconcat": [
          {
           "$schema": "https://vega.github.io/schema/vega-lite/v3.json",
           "data": {
            "values": [
             {
              "outcome": "1.0",
              "probability": 0
             },
             {
              "outcome": "2.0",
              "probability": 4.580010055114031e-05
             },
             {
              "outcome": "3.0",
              "probability": 0.000985956786148081
             },
             {
              "outcome": "4.0",
              "probability": 0.01001525509502987
             },
             {
              "outcome": "5.0",
              "probability": 0.05281674387233578
             },
             {
              "outcome": "6.0",
              "probability": 0.1524411754235561
             },
             {
              "outcome": "7.0",
              "probability": 0.25330138230280796
             },
             {
              "outcome": "8.0",
              "probability": 0.25679682123058445
             },
             {
              "outcome": "9.0",
              "probability": 0.1695613503507137
             },
             {
              "outcome": "10.0",
              "probability": 0.07783109086670643
             },
             {
              "outcome": "11.0",
              "probability": 0.026204423971566523
             }
            ]
           },
           "description": "",
           "encoding": {
            "x": {
             "axis": {
              "labelAngle": -55
             },
             "field": "outcome",
             "scale": {
              "rangeStep": 30
             },
             "sort": null,
             "type": "ordinal"
            },
            "y": {
             "field": "probability",
             "type": "quantitative"
            }
           },
           "mark": "bar"
          },
          {
           "$schema": "https://vega.github.io/schema/vega-lite/v3.json",
           "data": {
            "values": [
             {
              "prob": 1,
              "sigma": "2"
             }
            ]
           },
           "description": "",
           "encoding": {
            "x": {
             "axis": {
              "labelAngle": -55
             },
             "field": "sigma",
             "scale": {
              "domain": [
               "1",
               "2",
               "3",
               "4",
               "5",
               "6",
               "7",
               "8",
               "9",
               "10",
               "11"
              ],
              "rangeStep": 30
             },
             "sort": null,
             "type": "ordinal"
            },
            "y": {
             "field": "prob",
             "type": "quantitative"
            }
           },
           "mark": {
            "color": "firebrick",
            "opacity": 0.75,
            "type": "bar"
           }
          }
         ]
        },
        {
         "$schema": "https://vega.github.io/schema/vega-lite/v3.json",
         "center": true,
         "vconcat": [
          {
           "$schema": "https://vega.github.io/schema/vega-lite/v3.json",
           "data": {
            "values": [
             {
              "outcome": "1.0",
              "probability": 0
             },
             {
              "outcome": "2.0",
              "probability": 6.922906632431543e-06
             },
             {
              "outcome": "3.0",
              "probability": 0.00029806427025171517
             },
             {
              "outcome": "4.0",
              "probability": 0.004541562687976422
             },
             {
              "outcome": "5.0",
              "probability": 0.031934024777866984
             },
             {
              "outcome": "6.0",
              "probability": 0.11521110343600718
             },
             {
              "outcome": "7.0",
              "probability": 0.22972637157293554
             },
             {
              "outcome": "8.0",
              "probability": 0.2717125676240897
             },
             {
              "outcome": "9.0",
              "probability": 0.20504014319990913
             },
             {
              "outcome": "10.0",
              "probability": 0.10588091113729639
             },
             {
              "outcome": "11.0",
              "probability": 0.03564832838703433
             }
            ]
           },
           "description": "",
           "encoding": {
            "x": {
             "axis": {
              "labelAngle": -55
             },
             "field": "outcome",
             "scale": {
              "rangeStep": 30
             },
             "sort": null,
             "type": "ordinal"
            },
            "y": {
             "field": "probability",
             "type": "quantitative"
            }
           },
           "mark": "bar"
          },
          {
           "$schema": "https://vega.github.io/schema/vega-lite/v3.json",
           "data": {
            "values": [
             {
              "prob": 0.15115483479564457,
              "sigma": "2"
             },
             {
              "prob": 0.15114791188901236,
              "sigma": "3"
             },
             {
              "prob": 0.15099887975388612,
              "sigma": "4"
             },
             {
              "prob": 0.14948502552456086,
              "sigma": "5"
             },
             {
              "prob": 0.141501519330094,
              "sigma": "6"
             },
             {
              "prob": 0.1184592986428924,
              "sigma": "7"
             },
             {
              "prob": 0.08017157004740298,
              "sigma": "8"
             },
             {
              "prob": 0.04135548895824748,
              "sigma": "9"
             },
             {
              "prob": 0.015725471058258954,
              "sigma": "10"
             }
            ]
           },
           "description": "",
           "encoding": {
            "x": {
             "axis": {
              "labelAngle": -55
             },
             "field": "sigma",
             "scale": {
              "domain": [
               "1",
               "2",
               "3",
               "4",
               "5",
               "6",
               "7",
               "8",
               "9",
               "10",
               "11"
              ],
              "rangeStep": 30
             },
             "sort": null,
             "type": "ordinal"
            },
            "y": {
             "field": "prob",
             "type": "quantitative"
            }
           },
           "mark": {
            "color": "firebrick",
            "opacity": 0.75,
            "type": "bar"
           }
          }
         ]
        },
        {
         "$schema": "https://vega.github.io/schema/vega-lite/v3.json",
         "center": true,
         "vconcat": [
          {
           "$schema": "https://vega.github.io/schema/vega-lite/v3.json",
           "data": {
            "values": [
             {
              "outcome": "1.0",
              "probability": 0
             },
             {
              "outcome": "2.0",
              "probability": 3.990754581518191e-07
             },
             {
              "outcome": "3.0",
              "probability": 4.6293075186419636e-05
             },
             {
              "outcome": "4.0",
              "probability": 0.0008903470213927365
             },
             {
              "outcome": "5.0",
              "probability": 0.006769138209669972
             },
             {
              "outcome": "6.0",
              "probability": 0.026425832378337066
             },
             {
              "outcome": "7.0",
              "probability": 0.06583361697351225
             },
             {
              "outcome": "8.0",
              "probability": 0.15598147801691467
             },
             {
              "outcome": "9.0",
              "probability": 0.3428023636045062
             },
             {
              "outcome": "10.0",
              "probability": 0.300182938337018
             },
             {
              "outcome": "11.0",
              "probability": 0.1010675933080038
             }
            ]
           },
           "description": "",
           "encoding": {
            "x": {
             "axis": {
              "labelAngle": -55
             },
             "field": "outcome",
             "scale": {
              "rangeStep": 30
             },
             "sort": null,
             "type": "ordinal"
            },
            "y": {
             "field": "probability",
             "type": "quantitative"
            }
           },
           "mark": "bar"
          },
          {
           "$schema": "https://vega.github.io/schema/vega-lite/v3.json",
           "data": {
            "values": [
             {
              "prob": 0.030667543796583197,
              "sigma": "2"
             },
             {
              "prob": 0.032716561098553094,
              "sigma": "3"
             },
             {
              "prob": 0.03324410892525459,
              "sigma": "4"
             },
             {
              "prob": 0.03429094170313994,
              "sigma": "5"
             },
             {
              "prob": 0.04025444650991738,
              "sigma": "6"
             },
             {
              "prob": 0.06699828708440676,
              "sigma": "7"
             },
             {
              "prob": 0.184040854754829,
              "sigma": "8"
             },
             {
              "prob": 0.38687753386367046,
              "sigma": "9"
             },
             {
              "prob": 0.19090972226364594,
              "sigma": "10"
             }
            ]
           },
           "description": "",
           "encoding": {
            "x": {
             "axis": {
              "labelAngle": -55
             },
             "field": "sigma",
             "scale": {
              "domain": [
               "1",
               "2",
               "3",
               "4",
               "5",
               "6",
               "7",
               "8",
               "9",
               "10",
               "11"
              ],
              "rangeStep": 30
             },
             "sort": null,
             "type": "ordinal"
            },
            "y": {
             "field": "prob",
             "type": "quantitative"
            }
           },
           "mark": {
            "color": "firebrick",
            "opacity": 0.75,
            "type": "bar"
           }
          }
         ]
        },
        {
         "$schema": "https://vega.github.io/schema/vega-lite/v3.json",
         "center": true,
         "vconcat": [
          {
           "$schema": "https://vega.github.io/schema/vega-lite/v3.json",
           "data": {
            "values": [
             {
              "outcome": "1.0",
              "probability": 0
             },
             {
              "outcome": "2.0",
              "probability": 1.394599936285367e-14
             },
             {
              "outcome": "3.0",
              "probability": 5.954880359232345e-10
             },
             {
              "outcome": "4.0",
              "probability": 6.634002428711262e-08
             },
             {
              "outcome": "5.0",
              "probability": 1.4574591463552978e-06
             },
             {
              "outcome": "6.0",
              "probability": 1.4042216283280655e-05
             },
             {
              "outcome": "7.0",
              "probability": 0.00011948021162362482
             },
             {
              "outcome": "8.0",
              "probability": 0.0038962562202205196
             },
             {
              "outcome": "9.0",
              "probability": 0.32917153008583655
             },
             {
              "outcome": "10.0",
              "probability": 0.49880585866777893
             },
             {
              "outcome": "11.0",
              "probability": 0.16799130820358393
             }
            ]
           },
           "description": "",
           "encoding": {
            "x": {
             "axis": {
              "labelAngle": -55
             },
             "field": "outcome",
             "scale": {
              "rangeStep": 30
             },
             "sort": null,
             "type": "ordinal"
            },
            "y": {
             "field": "probability",
             "type": "quantitative"
            }
           },
           "mark": "bar"
          },
          {
           "$schema": "https://vega.github.io/schema/vega-lite/v3.json",
           "data": {
            "values": [
             {
              "prob": 1,
              "sigma": "2"
             }
            ]
           },
           "description": "",
           "encoding": {
            "x": {
             "axis": {
              "labelAngle": -55
             },
             "field": "sigma",
             "scale": {
              "domain": [
               "1",
               "2",
               "3",
               "4",
               "5",
               "6",
               "7",
               "8",
               "9",
               "10",
               "11"
              ],
              "rangeStep": 30
             },
             "sort": null,
             "type": "ordinal"
            },
            "y": {
             "field": "prob",
             "type": "quantitative"
            }
           },
           "mark": {
            "color": "firebrick",
            "opacity": 0.75,
            "type": "bar"
           }
          }
         ]
        }
       ],
       "spacing": 50
      },
      "image/png": "[encoded data removed]"
     },
     "metadata": {},
     "output_type": "display_data"
    }
   ],
   "source": [
    "writeIORef cacheRef (0, Map.empty)\n",
    "\n",
    "mkMaxGraph m = do\n",
    "  heightBar <- enumD ((\\w -> maximum [ht w x | x <- domain]) . fst <$> m)\n",
    "  threshBar <- enumD (fromEnum                               . snd <$> m)\n",
    "  return $ toVegaLite\n",
    "    [ center True\n",
    "    , vConcat [fromVL (barFromDist heightBar), fromVL (sdBarFromDist heights threshBar)]\n",
    "    ]\n",
    "\n",
    "-- vlShow . sidewaysDists <$> sequence\n",
    "--   [ titled \"Price Prior\" . barFromDist <$> enumD worldPrior\n",
    "--   , titled \"Literal Price Posterior\" . barFromDist <$> enumD (thresholdPrior >>= fmap fst . literal UExp)\n",
    "--   ] \n",
    "\n",
    "vlShow . sidewaysDists <$> traverse mkMaxGraph\n",
    "  [ listenerAny infoLGAny cacheRef (0, UTall, 2)\n",
    "  , thresholdPrior >>= \\l -> listenerAny infoLGAny cacheRef (0, UTall, l)\n",
    "  , listenerAny infoLGAny cacheRef (1, UTall, 2)\n",
    "  , listenerAny infoLGAny cacheRef (2, UTall, 2)\n",
    "--   , listenerAny infoLGAny cacheRef (3, UTall, 2)\n",
    "  ]"
   ]
  },
  {
   "cell_type": "markdown",
   "metadata": {},
   "source": [
    "## No"
   ]
  },
  {
   "cell_type": "code",
   "execution_count": 21,
   "metadata": {},
   "outputs": [],
   "source": [
    "none p xs = not $ any p xs\n",
    "\n",
    "denNon :: Double -> Utt -> Prop\n",
    "denNon _ UNone = universe\n",
    "denNon d UTall = filter (\\w -> none (\\x -> ht w x >= d) domain) universe\n",
    "denNon d UShrt = filter (\\w -> none (\\x -> ht w x <= d) domain) universe\n",
    "\n",
    "speakerNon :: Agent World Utt\n",
    "speakerNon priors ref (n,w,d) =\n",
    "  do u <- up priors\n",
    "     if null (denNon d u)\n",
    "       then weight negInf\n",
    "       else do lnr <- lift $ memoize ref (fmap fst . listenerNon priors ref) (n-1,u,d)\n",
    "               weight $ alpha * logProb lnr w\n",
    "     return u\n",
    "    \n",
    "listenerNon :: Agent Utt (World, Double)\n",
    "listenerNon priors ref (n,u,d)\n",
    "  | n > 0 =\n",
    "      do world <- wp priors\n",
    "         thres <- if n == 1 then tp priors else return d\n",
    "         spr   <- lift . enumD $ speakerNon priors ref (n,world,thres)\n",
    "         observe spr u\n",
    "         return (world, thres)\n",
    "  | otherwise =\n",
    "      do world <- wp priors\n",
    "         condition (world `elem` denNon d u)\n",
    "         return (world, d)"
   ]
  },
  {
   "cell_type": "code",
   "execution_count": 22,
   "metadata": {},
   "outputs": [],
   "source": [
    "infoLGNon = infoLGJohn"
   ]
  },
  {
   "cell_type": "code",
   "execution_count": 70,
   "metadata": {},
   "outputs": [
    {
     "data": {
      "application/vnd.vegalite.v2+json": {
       "$schema": "https://vega.github.io/schema/vega-lite/v3.json",
       "hconcat": [
        {
         "$schema": "https://vega.github.io/schema/vega-lite/v3.json",
         "center": true,
         "vconcat": [
          {
           "$schema": "https://vega.github.io/schema/vega-lite/v3.json",
           "data": {
            "values": [
             {
              "outcome": "1.0",
              "probability": 1
             },
             {
              "outcome": "2.0",
              "probability": 0
             },
             {
              "outcome": "3.0",
              "probability": 0
             },
             {
              "outcome": "4.0",
              "probability": 0
             },
             {
              "outcome": "5.0",
              "probability": 0
             },
             {
              "outcome": "6.0",
              "probability": 0
             },
             {
              "outcome": "7.0",
              "probability": 0
             },
             {
              "outcome": "8.0",
              "probability": 0
             },
             {
              "outcome": "9.0",
              "probability": 0
             },
             {
              "outcome": "10.0",
              "probability": 0
             },
             {
              "outcome": "11.0",
              "probability": 0
             }
            ]
           },
           "description": "",
           "encoding": {
            "x": {
             "axis": {
              "labelAngle": -55
             },
             "field": "outcome",
             "scale": {
              "rangeStep": 30
             },
             "sort": null,
             "type": "ordinal"
            },
            "y": {
             "field": "probability",
             "type": "quantitative"
            }
           },
           "mark": "bar"
          },
          {
           "$schema": "https://vega.github.io/schema/vega-lite/v3.json",
           "data": {
            "values": [
             {
              "prob": 1,
              "sigma": "2"
             }
            ]
           },
           "description": "",
           "encoding": {
            "x": {
             "axis": {
              "labelAngle": -55
             },
             "field": "sigma",
             "scale": {
              "domain": [
               "1",
               "2",
               "3",
               "4",
               "5",
               "6",
               "7",
               "8",
               "9",
               "10",
               "11"
              ],
              "rangeStep": 30
             },
             "sort": null,
             "type": "ordinal"
            },
            "y": {
             "field": "prob",
             "type": "quantitative"
            }
           },
           "mark": {
            "color": "firebrick",
            "opacity": 0.75,
            "type": "bar"
           }
          }
         ]
        },
        {
         "$schema": "https://vega.github.io/schema/vega-lite/v3.json",
         "center": true,
         "vconcat": [
          {
           "$schema": "https://vega.github.io/schema/vega-lite/v3.json",
           "data": {
            "values": [
             {
              "outcome": "1.0",
              "probability": 0.010803083060681118
             },
             {
              "outcome": "2.0",
              "probability": 0.03327495440138776
             },
             {
              "outcome": "3.0",
              "probability": 0.07978715932577568
             },
             {
              "outcome": "4.0",
              "probability": 0.14854084746120189
             },
             {
              "outcome": "5.0",
              "probability": 0.21244328480562416
             },
             {
              "outcome": "6.0",
              "probability": 0.22728956588492608
             },
             {
              "outcome": "7.0",
              "probability": 0.1738322537431324
             },
             {
              "outcome": "8.0",
              "probability": 0.0886476080239257
             },
             {
              "outcome": "9.0",
              "probability": 0.025381243293345155
             },
             {
              "outcome": "10.0",
              "probability": 0
             },
             {
              "outcome": "11.0",
              "probability": 0
             }
            ]
           },
           "description": "",
           "encoding": {
            "x": {
             "axis": {
              "labelAngle": -55
             },
             "field": "outcome",
             "scale": {
              "rangeStep": 30
             },
             "sort": null,
             "type": "ordinal"
            },
            "y": {
             "field": "probability",
             "type": "quantitative"
            }
           },
           "mark": "bar"
          },
          {
           "$schema": "https://vega.github.io/schema/vega-lite/v3.json",
           "data": {
            "values": [
             {
              "prob": 2.870130339971858e-07,
              "sigma": "2"
             },
             {
              "prob": 1.949626208244705e-05,
              "sigma": "3"
             },
             {
              "prob": 0.0004330213248708995,
              "sigma": "4"
             },
             {
              "prob": 0.004633569513392185,
              "sigma": "5"
             },
             {
              "prob": 0.02678570400137257,
              "sigma": "6"
             },
             {
              "prob": 0.09072181917823346,
              "sigma": "7"
             },
             {
              "prob": 0.19696021774982977,
              "sigma": "8"
             },
             {
              "prob": 0.30466465582983976,
              "sigma": "9"
             },
             {
              "prob": 0.37578122912734563,
              "sigma": "10"
             }
            ]
           },
           "description": "",
           "encoding": {
            "x": {
             "axis": {
              "labelAngle": -55
             },
             "field": "sigma",
             "scale": {
              "domain": [
               "1",
               "2",
               "3",
               "4",
               "5",
               "6",
               "7",
               "8",
               "9",
               "10",
               "11"
              ],
              "rangeStep": 30
             },
             "sort": null,
             "type": "ordinal"
            },
            "y": {
             "field": "prob",
             "type": "quantitative"
            }
           },
           "mark": {
            "color": "firebrick",
            "opacity": 0.75,
            "type": "bar"
           }
          }
         ]
        },
        {
         "$schema": "https://vega.github.io/schema/vega-lite/v3.json",
         "center": true,
         "vconcat": [
          {
           "$schema": "https://vega.github.io/schema/vega-lite/v3.json",
           "data": {
            "values": [
             {
              "outcome": "1.0",
              "probability": 0.01477834789703453
             },
             {
              "outcome": "2.0",
              "probability": 0.04551600468636506
             },
             {
              "outcome": "3.0",
              "probability": 0.10900704366663903
             },
             {
              "outcome": "4.0",
              "probability": 0.2009922544936142
             },
             {
              "outcome": "5.0",
              "probability": 0.2736503087623623
             },
             {
              "outcome": "6.0",
              "probability": 0.24156120187680666
             },
             {
              "outcome": "7.0",
              "probability": 0.09124125828746933
             },
             {
              "outcome": "8.0",
              "probability": 0.01967394546666921
             },
             {
              "outcome": "9.0",
              "probability": 0.0035796348630388274
             },
             {
              "outcome": "10.0",
              "probability": 0
             },
             {
              "outcome": "11.0",
              "probability": 0
             }
            ]
           },
           "description": "",
           "encoding": {
            "x": {
             "axis": {
              "labelAngle": -55
             },
             "field": "outcome",
             "scale": {
              "rangeStep": 30
             },
             "sort": null,
             "type": "ordinal"
            },
            "y": {
             "field": "probability",
             "type": "quantitative"
            }
           },
           "mark": "bar"
          },
          {
           "$schema": "https://vega.github.io/schema/vega-lite/v3.json",
           "data": {
            "values": [
             {
              "prob": 1.4646713118910494e-06,
              "sigma": "2"
             },
             {
              "prob": 9.949240061881452e-05,
              "sigma": "3"
             },
             {
              "prob": 0.002209773901565506,
              "sigma": "4"
             },
             {
              "prob": 0.023645793097460104,
              "sigma": "5"
             },
             {
              "prob": 0.13656749548366895,
              "sigma": "6"
             },
             {
              "prob": 0.41354013623756936,
              "sigma": "7"
             },
             {
              "prob": 0.2749748919632617,
              "sigma": "8"
             },
             {
              "prob": 0.09596277665822345,
              "sigma": "9"
             },
             {
              "prob": 0.052998175586320674,
              "sigma": "10"
             }
            ]
           },
           "description": "",
           "encoding": {
            "x": {
             "axis": {
              "labelAngle": -55
             },
             "field": "sigma",
             "scale": {
              "domain": [
               "1",
               "2",
               "3",
               "4",
               "5",
               "6",
               "7",
               "8",
               "9",
               "10",
               "11"
              ],
              "rangeStep": 30
             },
             "sort": null,
             "type": "ordinal"
            },
            "y": {
             "field": "prob",
             "type": "quantitative"
            }
           },
           "mark": {
            "color": "firebrick",
            "opacity": 0.75,
            "type": "bar"
           }
          }
         ]
        },
        {
         "$schema": "https://vega.github.io/schema/vega-lite/v3.json",
         "center": true,
         "vconcat": [
          {
           "$schema": "https://vega.github.io/schema/vega-lite/v3.json",
           "data": {
            "values": [
             {
              "outcome": "1.0",
              "probability": 0.015872348862627603
             },
             {
              "outcome": "2.0",
              "probability": 0.04889027480653711
             },
             {
              "outcome": "3.0",
              "probability": 0.11728724998770024
             },
             {
              "outcome": "4.0",
              "probability": 0.2191088391453086
             },
             {
              "outcome": "5.0",
              "probability": 0.31690646780722953
             },
             {
              "outcome": "6.0",
              "probability": 0.27776720172166924
             },
             {
              "outcome": "7.0",
              "probability": 0.004155662976555329
             },
             {
              "outcome": "8.0",
              "probability": 1.1891520795858568e-05
             },
             {
              "outcome": "9.0",
              "probability": 6.317157658217876e-08
             },
             {
              "outcome": "10.0",
              "probability": 0
             },
             {
              "outcome": "11.0",
              "probability": 0
             }
            ]
           },
           "description": "",
           "encoding": {
            "x": {
             "axis": {
              "labelAngle": -55
             },
             "field": "outcome",
             "scale": {
              "rangeStep": 30
             },
             "sort": null,
             "type": "ordinal"
            },
            "y": {
             "field": "probability",
             "type": "quantitative"
            }
           },
           "mark": "bar"
          },
          {
           "$schema": "https://vega.github.io/schema/vega-lite/v3.json",
           "data": {
            "values": [
             {
              "prob": 1,
              "sigma": "2"
             }
            ]
           },
           "description": "",
           "encoding": {
            "x": {
             "axis": {
              "labelAngle": -55
             },
             "field": "sigma",
             "scale": {
              "domain": [
               "1",
               "2",
               "3",
               "4",
               "5",
               "6",
               "7",
               "8",
               "9",
               "10",
               "11"
              ],
              "rangeStep": 30
             },
             "sort": null,
             "type": "ordinal"
            },
            "y": {
             "field": "prob",
             "type": "quantitative"
            }
           },
           "mark": {
            "color": "firebrick",
            "opacity": 0.75,
            "type": "bar"
           }
          }
         ]
        }
       ],
       "spacing": 50
      },
      "image/png": "[encoded data removed]"
     },
     "metadata": {},
     "output_type": "display_data"
    }
   ],
   "source": [
    "writeIORef cacheRef (0, Map.empty)\n",
    "\n",
    "-- vlShow . sidewaysDists <$> sequence\n",
    "--   [ titled \"Price Prior\" . barFromDist <$> enumD worldPrior\n",
    "--   , titled \"Literal Price Posterior\" . barFromDist <$> enumD (thresholdPrior >>= fmap fst . literal UExp)\n",
    "--   ] \n",
    "\n",
    "vlShow . sidewaysDists <$> traverse mkGraph\n",
    "  [ listenerNon infoLGNon cacheRef (0, UTall, 2)\n",
    "  , thresholdPrior >>= \\l -> listenerNon infoLGNon cacheRef (0, UTall, l)\n",
    "  , listenerNon infoLGNon cacheRef (1, UTall, 2)\n",
    "  , listenerNon infoLGNon cacheRef (2, UTall, 2)\n",
    "--   , listenerNon infoLGNon cacheRef (3, UTall, 3)\n",
    "  ]"
   ]
  },
  {
   "cell_type": "markdown",
   "metadata": {},
   "source": [
    "# Embedded Implicature?"
   ]
  },
  {
   "cell_type": "code",
   "execution_count": 69,
   "metadata": {},
   "outputs": [],
   "source": [
    "deriving instance Ord E\n",
    "type UttE = (Utt, E)"
   ]
  },
  {
   "cell_type": "code",
   "execution_count": 70,
   "metadata": {},
   "outputs": [],
   "source": [
    "utterancesE :: [UttE]\n",
    "utterancesE = [(u, x) | u <- utterances, x <- domain]"
   ]
  },
  {
   "cell_type": "code",
   "execution_count": 71,
   "metadata": {},
   "outputs": [],
   "source": [
    "costE :: UttE -> Double\n",
    "costE (u, _) = cost u\n",
    "\n",
    "utteranceEPrior :: Model UttE\n",
    "utteranceEPrior = belief . fromList $ [(u, - alpha * costE u) | u <- utterancesE]"
   ]
  },
  {
   "cell_type": "code",
   "execution_count": 72,
   "metadata": {},
   "outputs": [
    {
     "data": {
      "application/vnd.vegalite.v2+json": {
       "$schema": "https://vega.github.io/schema/vega-lite/v3.json",
       "data": {
        "values": [
         {
          "outcome": "(UNone,John)",
          "probability": 0.3272301309418349
         },
         {
          "outcome": "(UNone,Mary)",
          "probability": 0.3272301309418349
         },
         {
          "outcome": "(UNone,Fred)",
          "probability": 0.3272301309418349
         },
         {
          "outcome": "(UTall,John)",
          "probability": 0.005993428911843849
         },
         {
          "outcome": "(UTall,Mary)",
          "probability": 0.005993428911843849
         },
         {
          "outcome": "(UTall,Fred)",
          "probability": 0.005993428911843849
         },
         {
          "outcome": "(UShrt,John)",
          "probability": 0.00010977347965463099
         },
         {
          "outcome": "(UShrt,Mary)",
          "probability": 0.00010977347965463099
         },
         {
          "outcome": "(UShrt,Fred)",
          "probability": 0.00010977347965463099
         }
        ]
       },
       "description": "",
       "encoding": {
        "x": {
         "axis": {
          "labelAngle": -55
         },
         "field": "outcome",
         "scale": {
          "rangeStep": 30
         },
         "sort": null,
         "type": "ordinal"
        },
        "y": {
         "field": "probability",
         "type": "quantitative"
        }
       },
       "mark": "bar"
      },
      "image/png": "[encoded data removed]"
     },
     "metadata": {},
     "output_type": "display_data"
    }
   ],
   "source": [
    "vlShow . barFromDist <$> enumD utteranceEPrior"
   ]
  },
  {
   "cell_type": "code",
   "execution_count": 85,
   "metadata": {},
   "outputs": [],
   "source": [
    "-- Initialize reference cell for storing results to share within and between computations\n",
    "type CacheE = E -> IORef (Int, Map.Map (Int, UttE, Double) (Dist World))\n",
    "cacheRefJ <- newIORef (0, Map.empty) :: IO (IORef (Int, Map.Map (Int, UttE, Double) (Dist World)))\n",
    "cacheRefM <- newIORef (0, Map.empty) :: IO (IORef (Int, Map.Map (Int, UttE, Double) (Dist World)))\n",
    "cacheRefF <- newIORef (0, Map.empty) :: IO (IORef (Int, Map.Map (Int, UttE, Double) (Dist World)))"
   ]
  },
  {
   "cell_type": "code",
   "execution_count": 86,
   "metadata": {},
   "outputs": [],
   "source": [
    "data PriorsE = PriorsE {wp :: Model World, up :: Model UttE, tp :: Model Double}\n",
    "type AgentE k a = PriorsE -> CacheE -> (Int, k, Double) -> Model a"
   ]
  },
  {
   "cell_type": "code",
   "execution_count": 87,
   "metadata": {},
   "outputs": [],
   "source": [
    "denE :: Double -> UttE -> Prop\n",
    "denE _ (UNone, _) = universe -- blah\n",
    "denE d (UTall, x) = filter (\\w -> ht w x >= d) universe\n",
    "denE d (UShrt, x) = filter (\\w -> ht w x <= d) universe"
   ]
  },
  {
   "cell_type": "code",
   "execution_count": 88,
   "metadata": {},
   "outputs": [],
   "source": [
    "speakerE :: AgentE World UttE\n",
    "speakerE priors ref (n,w,d) =\n",
    "  do u <- up priors\n",
    "     if null (denE d u)\n",
    "       then weight negInf\n",
    "       else do lnr <- lift $ memoize (ref $ snd u) (fmap fst . listenerE priors ref) (n-1,u,d)\n",
    "               weight $ alpha * logProb lnr w\n",
    "     return u\n",
    "    \n",
    "listenerE :: AgentE UttE (World, Double)\n",
    "listenerE priors ref (n,u,d)\n",
    "  | n > 0 =\n",
    "      do world <- wp priors\n",
    "         thres <- if n == 1 then tp priors else return d\n",
    "         spr   <- lift . enumD $ speakerE (priors {up = up priors >>= \\u' -> condition (snd u == snd u') >> return u'}) ref (n,world,thres)\n",
    "         observe spr u\n",
    "         return (world, thres)\n",
    "  | otherwise =\n",
    "      do world <- wp priors\n",
    "         condition (world `elem` denE d u)\n",
    "         return (world, d)"
   ]
  },
  {
   "cell_type": "code",
   "execution_count": 89,
   "metadata": {},
   "outputs": [],
   "source": [
    "infoBaselineE = PriorsE worldPrior utteranceEPrior (unif [2])\n",
    "infoLGE = infoBaselineE {tp = thresholdPrior}"
   ]
  },
  {
   "cell_type": "code",
   "execution_count": 92,
   "metadata": {},
   "outputs": [
    {
     "data": {
      "application/vnd.vegalite.v2+json": {
       "$schema": "https://vega.github.io/schema/vega-lite/v3.json",
       "hconcat": [
        {
         "$schema": "https://vega.github.io/schema/vega-lite/v3.json",
         "center": true,
         "vconcat": [
          {
           "$schema": "https://vega.github.io/schema/vega-lite/v3.json",
           "data": {
            "values": [
             {
              "outcome": "1.0",
              "probability": 0
             },
             {
              "outcome": "2.0",
              "probability": 0.0008564202892540799
             },
             {
              "outcome": "3.0",
              "probability": 0.011822517417460985
             },
             {
              "outcome": "4.0",
              "probability": 0.07709249762621538
             },
             {
              "outcome": "5.0",
              "probability": 0.23746161011344194
             },
             {
              "outcome": "6.0",
              "probability": 0.34550460401647265
             },
             {
              "outcome": "7.0",
              "probability": 0.23746161011344194
             },
             {
              "outcome": "8.0",
              "probability": 0.07709249762621538
             },
             {
              "outcome": "9.0",
              "probability": 0.011822517417460985
             },
             {
              "outcome": "10.0",
              "probability": 0.0008564202892540799
             },
             {
              "outcome": "11.0",
              "probability": 2.9305090782207562e-05
             }
            ]
           },
           "description": "",
           "encoding": {
            "x": {
             "axis": {
              "labelAngle": -55
             },
             "field": "outcome",
             "scale": {
              "rangeStep": 30
             },
             "sort": null,
             "type": "ordinal"
            },
            "y": {
             "field": "probability",
             "type": "quantitative"
            }
           },
           "mark": "bar"
          },
          {
           "$schema": "https://vega.github.io/schema/vega-lite/v3.json",
           "data": {
            "values": [
             {
              "prob": 0,
              "sigma": "1"
             },
             {
              "prob": 1,
              "sigma": "2"
             },
             {
              "prob": 0,
              "sigma": "3"
             },
             {
              "prob": 0,
              "sigma": "4"
             },
             {
              "prob": 0,
              "sigma": "5"
             },
             {
              "prob": 0,
              "sigma": "6"
             },
             {
              "prob": 0,
              "sigma": "7"
             },
             {
              "prob": 0,
              "sigma": "8"
             },
             {
              "prob": 0,
              "sigma": "9"
             },
             {
              "prob": 0,
              "sigma": "10"
             },
             {
              "prob": 0,
              "sigma": "11"
             }
            ]
           },
           "description": "",
           "encoding": {
            "x": {
             "axis": {
              "labelAngle": -55
             },
             "field": "sigma",
             "scale": {
              "domain": [
               "1",
               "2",
               "3",
               "4",
               "5",
               "6",
               "7",
               "8",
               "9",
               "10",
               "11"
              ],
              "rangeStep": 30
             },
             "sort": null,
             "type": "ordinal"
            },
            "y": {
             "field": "prob",
             "type": "quantitative"
            }
           },
           "mark": {
            "color": "firebrick",
            "opacity": 0.75,
            "type": "bar"
           }
          }
         ]
        }
       ],
       "spacing": 50
      },
      "image/png": "[encoded data removed]"
     },
     "metadata": {},
     "output_type": "display_data"
    }
   ],
   "source": [
    "writeIORef cacheRefJ (0, Map.empty)\n",
    "writeIORef cacheRefM (0, Map.empty)\n",
    "writeIORef cacheRefF (0, Map.empty)\n",
    "\n",
    "cr :: CacheE\n",
    "cr John = cacheRefJ\n",
    "cr Mary = cacheRefM\n",
    "cr Fred = cacheRefF\n",
    "\n",
    "mkEGraph m = do\n",
    "  jn <- enumD $ m John\n",
    "  mr <- enumD $ m Mary\n",
    "  fd <- enumD $ m Fred\n",
    "  let m' = do (w,d) <- unif [(w,d) | w <- universe, d <- heights]\n",
    "              observe jn (w,d)\n",
    "              observe mr (w,d)\n",
    "              observe fd (w,d)\n",
    "              return (w,d)\n",
    "  heightBar <- enumD ((`ht` John) . fst <$> m')\n",
    "  threshBar <- enumD (fromEnum    . snd <$> m')\n",
    "  return $ toVegaLite\n",
    "    [ center True\n",
    "    , vConcat [fromVL (barFromDist heightBar), fromVL (sdBarFromDist heights threshBar)]\n",
    "    ]\n",
    "\n",
    "-- vlShow . sidewaysDists <$> sequence\n",
    "--   [ titled \"Price Prior\" . barFromDist <$> enumD worldPrior\n",
    "--   , titled \"Literal Price Posterior\" . barFromDist <$> enumD (thresholdPrior >>= fmap fst . literal UExp)\n",
    "--   ] \n",
    "\n",
    "vlShow . sidewaysDists <$> traverse mkEGraph\n",
    "  [ \\x -> listenerE infoLGE cr (0, (UTall,x), 2)\n",
    "--   , thresholdPrior >>= \\l -> listenerE infoLGE cacheRef (0, UTall, l)\n",
    "--   , \\x -> listenerE infoLGE cacheRefE (1, (UTall,x), 2)\n",
    "--   , listenerE infoLGE cacheRef (2, UTall, 2)\n",
    "--   , listenerE infoLGE cacheRef (3, UTall, 2)\n",
    "  ]"
   ]
  },
  {
   "cell_type": "code",
   "execution_count": 96,
   "metadata": {},
   "outputs": [
    {
     "data": {
      "text/plain": [
       "(0,fromList [])"
      ]
     },
     "metadata": {},
     "output_type": "display_data"
    }
   ],
   "source": [
    "m <- readIORef cacheRefF\n",
    "print m"
   ]
  },
  {
   "cell_type": "code",
   "execution_count": 65,
   "metadata": {},
   "outputs": [
    {
     "data": {
      "application/vnd.vegalite.v2+json": {
       "$schema": "https://vega.github.io/schema/vega-lite/v3.json",
       "hconcat": [
        {
         "$schema": "https://vega.github.io/schema/vega-lite/v3.json",
         "data": {
          "values": [
           {
            "outcome": "('a','d')",
            "probability": 0.04000000000000003
           },
           {
            "outcome": "('a','e')",
            "probability": 0.06
           },
           {
            "outcome": "('a','f')",
            "probability": 0.09999999999999998
           },
           {
            "outcome": "('b','d')",
            "probability": 0.06
           },
           {
            "outcome": "('b','e')",
            "probability": 0.09000000000000001
           },
           {
            "outcome": "('b','f')",
            "probability": 0.15
           },
           {
            "outcome": "('c','d')",
            "probability": 0.09999999999999998
           },
           {
            "outcome": "('c','e')",
            "probability": 0.15
           },
           {
            "outcome": "('c','f')",
            "probability": 0.24999999999999994
           }
          ]
         },
         "description": "",
         "encoding": {
          "x": {
           "axis": {
            "labelAngle": -55
           },
           "field": "outcome",
           "scale": {
            "rangeStep": 30
           },
           "sort": null,
           "type": "ordinal"
          },
          "y": {
           "field": "probability",
           "type": "quantitative"
          }
         },
         "mark": "bar"
        },
        {
         "$schema": "https://vega.github.io/schema/vega-lite/v3.json",
         "data": {
          "values": [
           {
            "outcome": "'a'",
            "probability": 0.1999999999999998
           },
           {
            "outcome": "'b'",
            "probability": 0.30000000000000004
           },
           {
            "outcome": "'c'",
            "probability": 0.49999999999999994
           }
          ]
         },
         "description": "",
         "encoding": {
          "x": {
           "axis": {
            "labelAngle": -55
           },
           "field": "outcome",
           "scale": {
            "rangeStep": 30
           },
           "sort": null,
           "type": "ordinal"
          },
          "y": {
           "field": "probability",
           "type": "quantitative"
          }
         },
         "mark": "bar"
        },
        {
         "$schema": "https://vega.github.io/schema/vega-lite/v3.json",
         "data": {
          "values": [
           {
            "outcome": "'d'",
            "probability": 0.1999999999999998
           },
           {
            "outcome": "'e'",
            "probability": 0.30000000000000004
           },
           {
            "outcome": "'f'",
            "probability": 0.49999999999999994
           }
          ]
         },
         "description": "",
         "encoding": {
          "x": {
           "axis": {
            "labelAngle": -55
           },
           "field": "outcome",
           "scale": {
            "rangeStep": 30
           },
           "sort": null,
           "type": "ordinal"
          },
          "y": {
           "field": "probability",
           "type": "quantitative"
          }
         },
         "mark": "bar"
        }
       ],
       "spacing": 50
      },
      "image/png": "[encoded data removed]"
     },
     "metadata": {},
     "output_type": "display_data"
    }
   ],
   "source": [
    "testDist  <- enumD $ categorical (zip \"abc\" [2,3,5]) >>= \\x -> categorical (zip \"def\" [2,3,5]) >>= \\y -> return (x,y)\n",
    "testDistX <- enumD $ categorical (zip \"abc\" [2,3,5]) >>= \\x -> unif \"def\" >>= \\y -> return (x,y)\n",
    "testDistY <- enumD $ unif \"abc\" >>= \\x -> categorical (zip \"def\" [2,3,5]) >>= \\y -> return (x,y)\n",
    "vlShow . sidewaysDists <$> sequence\n",
    "  [ barFromDist <$> enumD (unif ((,) <$> \"abc\" <*> \"def\") >>= \\(x,y) -> observe testDist (x,y) >> return (x,y))\n",
    "  , barFromDist <$> enumD (unif ((,) <$> \"abc\" <*> \"def\") >>= \\(x,y) -> observe testDistX (x,y) >> observe testDistY (x,y) >> return x)\n",
    "  , barFromDist <$> enumD (unif ((,) <$> \"abc\" <*> \"def\") >>= \\(x,y) -> observe testDistX (x,y) >> observe testDistY (x,y) >> return y)\n",
    "  ]"
   ]
  },
  {
   "cell_type": "code",
   "execution_count": null,
   "metadata": {},
   "outputs": [],
   "source": []
  }
 ],
 "metadata": {
  "kernelspec": {
   "display_name": "Haskell",
   "language": "haskell",
   "name": "haskell"
  },
  "language_info": {
   "codemirror_mode": "ihaskell",
   "file_extension": ".hs",
   "name": "haskell",
   "pygments_lexer": "Haskell",
   "version": "8.6.5"
  }
 },
 "nbformat": 4,
 "nbformat_minor": 4
}
