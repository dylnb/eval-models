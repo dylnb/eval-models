{
 "cells": [
  {
   "cell_type": "code",
   "execution_count": 1,
   "metadata": {},
   "outputs": [],
   "source": [
    ":ext LambdaCase\n",
    ":ext StandaloneDeriving"
   ]
  },
  {
   "cell_type": "code",
   "execution_count": 2,
   "metadata": {},
   "outputs": [],
   "source": [
    "import Utils\n",
    "import Data.Tuple.Extra (uncurry3)\n",
    "import Data.Bool (bool)\n",
    "import Data.List.Extra (sortOn, dropEnd, enumerate)\n",
    "import Data.Ord (Down(..), comparing)\n",
    "import Data.Function (on, (&))\n",
    "import Data.Maybe (fromJust)\n",
    "import Control.Monad (replicateM, forM, forM_)\n",
    "import Control.Monad.Trans.Class (lift)\n",
    "import Data.IORef\n",
    "import qualified Data.Map as Map"
   ]
  },
  {
   "cell_type": "code",
   "execution_count": 3,
   "metadata": {},
   "outputs": [],
   "source": [
    "import Tyche.Model\n",
    "import Tyche.Dist\n",
    "import Tyche.Prelude\n",
    "import Tyche.Prob\n",
    "import Tyche.Inference.Enumerate"
   ]
  },
  {
   "cell_type": "code",
   "execution_count": 4,
   "metadata": {},
   "outputs": [],
   "source": [
    "import Graphics.Vega.VegaLite hiding (filter, lookup, repeat, FontWeight(Normal))\n",
    "import qualified Graphics.Vega.VegaLite as VL (filter, lookup, repeat, FontWeight(Normal))"
   ]
  },
  {
   "cell_type": "code",
   "execution_count": 5,
   "metadata": {},
   "outputs": [],
   "source": [
    "data E = John | Mary | Fred deriving (Eq, Enum, Show, Bounded)\n",
    "\n",
    "domain :: [E]\n",
    "domain = enumerate\n",
    "\n",
    "data World = World {label :: String, ht :: E -> Double}\n",
    "\n",
    "instance Eq World where\n",
    "  w == w' = show w == show w'\n",
    "\n",
    "instance Ord World where\n",
    "  compare = comparing (\\s -> map (ht s) domain)\n",
    "\n",
    "instance Show World where\n",
    "  show (World l _) = l\n",
    "  \n",
    "type Prop = [World]\n",
    "\n",
    "mkWorld :: (Double, Double, Double) -> World\n",
    "mkWorld (d, d', d'') = World (\"j\" ++ show d ++ \"m\" ++ show d' ++ \"f\" ++ show d'') hts\n",
    "  where hts = \\case {John -> d; Mary -> d'; _ -> d''}\n",
    "\n",
    "heights = [1 .. 11]\n",
    "universe = [mkWorld (h, h', h'') | h <- heights, h' <- heights, h'' <- heights]"
   ]
  },
  {
   "cell_type": "code",
   "execution_count": 6,
   "metadata": {},
   "outputs": [],
   "source": [
    "data Utt = UNone | UTall | UShrt\n",
    "  deriving (Eq, Show, Ord, Enum, Bounded)\n",
    "\n",
    "utterances :: [Utt]\n",
    "utterances = enumerate"
   ]
  },
  {
   "cell_type": "code",
   "execution_count": 7,
   "metadata": {},
   "outputs": [],
   "source": [
    "-- Initialize reference cell for storing results to share within and between computations\n",
    "type Cache = IORef (Int, Map.Map (Int, Utt, Double) (Dist World))\n",
    "cacheRef <- newIORef (0, Map.empty) :: IO Cache"
   ]
  },
  {
   "cell_type": "code",
   "execution_count": 8,
   "metadata": {},
   "outputs": [],
   "source": [
    "data Priors = Priors {wp :: Model World, up :: Model Utt, tp :: Model Double}\n",
    "type Agent k a = Priors -> Cache -> (Int, k, Double) -> Model a"
   ]
  },
  {
   "cell_type": "code",
   "execution_count": 9,
   "metadata": {},
   "outputs": [],
   "source": [
    "alpha :: Double\n",
    "alpha = 4\n",
    "\n",
    "den :: Double -> Utt -> Prop\n",
    "den _ UNone = universe\n",
    "den d UTall = filter (\\w -> ht w John >= d) universe\n",
    "den d UShrt = filter (\\w -> ht w John <= d) universe\n",
    "\n",
    "speaker :: Agent World Utt\n",
    "speaker priors ref (n,w,d) =\n",
    "  do u <- up priors\n",
    "     if null (den d u)\n",
    "       then weight negInf\n",
    "       else do lnr <- lift $ memoize ref (fmap fst . listener priors ref) (n-1,u,d)\n",
    "               weight $ alpha * logProb lnr w\n",
    "     return u\n",
    "    \n",
    "listener :: Agent Utt (World, Double)\n",
    "listener priors ref (n,u,d)\n",
    "  | n > 0 =\n",
    "      do world <- wp priors\n",
    "         thres <- if n == 1 then tp priors else return d\n",
    "         spr   <- lift . enumD $ speaker priors ref (n,world,thres)\n",
    "         observe spr u\n",
    "         return (world, thres)\n",
    "  | otherwise =\n",
    "      do world <- wp priors\n",
    "         condition (world `elem` den d u)\n",
    "         return (world, d)"
   ]
  },
  {
   "cell_type": "code",
   "execution_count": 10,
   "metadata": {},
   "outputs": [],
   "source": [
    "worldPrior :: Model World\n",
    "worldPrior = do\n",
    "  w <- unif universe\n",
    "  forM_ domain $ \\x ->\n",
    "    observe (Normal 6 2) (ht w x)\n",
    "  return w"
   ]
  },
  {
   "cell_type": "code",
   "execution_count": 11,
   "metadata": {},
   "outputs": [
    {
     "data": {
      "application/vnd.vegalite.v2+json": {
       "$schema": "https://vega.github.io/schema/vega-lite/v3.json",
       "hconcat": [
        {
         "$schema": "https://vega.github.io/schema/vega-lite/v3.json",
         "data": {
          "values": [
           {
            "outcome": "1.0",
            "probability": 0.008812229292562295
           },
           {
            "outcome": "2.0",
            "probability": 0.027143577143479355
           },
           {
            "outcome": "3.0",
            "probability": 0.06511405659938264
           },
           {
            "outcome": "4.0",
            "probability": 0.12164907301380953
           },
           {
            "outcome": "5.0",
            "probability": 0.1769983568313556
           },
           {
            "outcome": "6.0",
            "probability": 0.20056541423882074
           },
           {
            "outcome": "7.0",
            "probability": 0.1769983568313556
           },
           {
            "outcome": "8.0",
            "probability": 0.12164907301380953
           },
           {
            "outcome": "9.0",
            "probability": 0.06511405659938264
           },
           {
            "outcome": "10.0",
            "probability": 0.027143577143479355
           },
           {
            "outcome": "11.0",
            "probability": 0.008812229292562295
           }
          ]
         },
         "description": "",
         "encoding": {
          "x": {
           "axis": {
            "labelAngle": -55
           },
           "field": "outcome",
           "scale": {
            "rangeStep": 30
           },
           "sort": null,
           "type": "ordinal"
          },
          "y": {
           "field": "probability",
           "type": "quantitative"
          }
         },
         "mark": "bar"
        },
        {
         "$schema": "https://vega.github.io/schema/vega-lite/v3.json",
         "data": {
          "values": [
           {
            "outcome": "1.0",
            "probability": 0.008812229292562295
           },
           {
            "outcome": "2.0",
            "probability": 0.027143577143479355
           },
           {
            "outcome": "3.0",
            "probability": 0.06511405659938264
           },
           {
            "outcome": "4.0",
            "probability": 0.12164907301380953
           },
           {
            "outcome": "5.0",
            "probability": 0.1769983568313556
           },
           {
            "outcome": "6.0",
            "probability": 0.20056541423882074
           },
           {
            "outcome": "7.0",
            "probability": 0.1769983568313556
           },
           {
            "outcome": "8.0",
            "probability": 0.12164907301380953
           },
           {
            "outcome": "9.0",
            "probability": 0.06511405659938264
           },
           {
            "outcome": "10.0",
            "probability": 0.027143577143479355
           },
           {
            "outcome": "11.0",
            "probability": 0.008812229292562295
           }
          ]
         },
         "description": "",
         "encoding": {
          "x": {
           "axis": {
            "labelAngle": -55
           },
           "field": "outcome",
           "scale": {
            "rangeStep": 30
           },
           "sort": null,
           "type": "ordinal"
          },
          "y": {
           "field": "probability",
           "type": "quantitative"
          }
         },
         "mark": "bar"
        },
        {
         "$schema": "https://vega.github.io/schema/vega-lite/v3.json",
         "data": {
          "values": [
           {
            "outcome": "1.0",
            "probability": 0.008812229292562295
           },
           {
            "outcome": "2.0",
            "probability": 0.027143577143479355
           },
           {
            "outcome": "3.0",
            "probability": 0.06511405659938264
           },
           {
            "outcome": "4.0",
            "probability": 0.12164907301380953
           },
           {
            "outcome": "5.0",
            "probability": 0.1769983568313556
           },
           {
            "outcome": "6.0",
            "probability": 0.20056541423882074
           },
           {
            "outcome": "7.0",
            "probability": 0.1769983568313556
           },
           {
            "outcome": "8.0",
            "probability": 0.12164907301380953
           },
           {
            "outcome": "9.0",
            "probability": 0.06511405659938264
           },
           {
            "outcome": "10.0",
            "probability": 0.027143577143479355
           },
           {
            "outcome": "11.0",
            "probability": 0.008812229292562295
           }
          ]
         },
         "description": "",
         "encoding": {
          "x": {
           "axis": {
            "labelAngle": -55
           },
           "field": "outcome",
           "scale": {
            "rangeStep": 30
           },
           "sort": null,
           "type": "ordinal"
          },
          "y": {
           "field": "probability",
           "type": "quantitative"
          }
         },
         "mark": "bar"
        }
       ],
       "spacing": 50
      },
      "image/png": "[encoded data removed]"
     },
     "metadata": {},
     "output_type": "display_data"
    }
   ],
   "source": [
    "vlShow . sidewaysDists <$> sequence\n",
    "  [ barFromDist <$> enumD ((`ht` John) <$> worldPrior)\n",
    "  , barFromDist <$> enumD ((`ht` Mary) <$> worldPrior)\n",
    "  , barFromDist <$> enumD ((`ht` Fred) <$> worldPrior)\n",
    "  ]"
   ]
  },
  {
   "cell_type": "code",
   "execution_count": 12,
   "metadata": {},
   "outputs": [],
   "source": [
    "cost :: Utt -> Double\n",
    "cost UNone = 0\n",
    "cost UTall = 1\n",
    "cost UShrt = 2\n",
    "\n",
    "utterancePrior :: Model Utt\n",
    "utterancePrior = belief . fromList $ [(u, - alpha * cost u) | u <- utterances]"
   ]
  },
  {
   "cell_type": "code",
   "execution_count": 13,
   "metadata": {},
   "outputs": [
    {
     "data": {
      "application/vnd.vegalite.v2+json": {
       "$schema": "https://vega.github.io/schema/vega-lite/v3.json",
       "data": {
        "values": [
         {
          "outcome": "UNone",
          "probability": 0.9816903928255046
         },
         {
          "outcome": "UTall",
          "probability": 0.017980286735531554
         },
         {
          "outcome": "UShrt",
          "probability": 0.00032932043896389277
         }
        ]
       },
       "description": "",
       "encoding": {
        "x": {
         "axis": {
          "labelAngle": -55
         },
         "field": "outcome",
         "scale": {
          "rangeStep": 30
         },
         "sort": null,
         "type": "ordinal"
        },
        "y": {
         "field": "probability",
         "type": "quantitative"
        }
       },
       "mark": "bar"
      },
      "image/png": "[encoded data removed]"
     },
     "metadata": {},
     "output_type": "display_data"
    }
   ],
   "source": [
    "vlShow . barFromDist <$> enumD utterancePrior"
   ]
  },
  {
   "cell_type": "code",
   "execution_count": 15,
   "metadata": {},
   "outputs": [
    {
     "data": {
      "application/vnd.vegalite.v2+json": {
       "$schema": "https://vega.github.io/schema/vega-lite/v3.json",
       "hconcat": [
        {
         "$schema": "https://vega.github.io/schema/vega-lite/v3.json",
         "layer": [
          {
           "$schema": "https://vega.github.io/schema/vega-lite/v3.json",
           "data": {
            "values": [
             {
              "outcome": "2.0",
              "probability": 0.11111111111111109
             },
             {
              "outcome": "3.0",
              "probability": 0.11111111111111109
             },
             {
              "outcome": "4.0",
              "probability": 0.11111111111111109
             },
             {
              "outcome": "5.0",
              "probability": 0.11111111111111109
             },
             {
              "outcome": "6.0",
              "probability": 0.11111111111111109
             },
             {
              "outcome": "7.0",
              "probability": 0.11111111111111109
             },
             {
              "outcome": "8.0",
              "probability": 0.11111111111111109
             },
             {
              "outcome": "9.0",
              "probability": 0.11111111111111109
             },
             {
              "outcome": "10.0",
              "probability": 0.11111111111111109
             }
            ]
           },
           "description": "",
           "encoding": {
            "x": {
             "axis": {
              "labelAngle": -55
             },
             "field": "outcome",
             "scale": {
              "rangeStep": 30
             },
             "sort": null,
             "type": "ordinal"
            },
            "y": {
             "field": "probability",
             "type": "quantitative"
            }
           },
           "mark": "bar"
          }
         ],
         "title": "Threshold Unif Prior"
        },
        {
         "$schema": "https://vega.github.io/schema/vega-lite/v3.json",
         "layer": [
          {
           "$schema": "https://vega.github.io/schema/vega-lite/v3.json",
           "data": {
            "values": [
             {
              "outcome": "2.0",
              "probability": 0.0010373292674487498
             },
             {
              "outcome": "3.0",
              "probability": 0.007664884150241449
             },
             {
              "outcome": "4.0",
              "probability": 0.03631405853069409
             },
             {
              "outcome": "5.0",
              "probability": 0.11031236956931921
             },
             {
              "outcome": "6.0",
              "probability": 0.21485915735956693
             },
             {
              "outcome": "7.0",
              "probability": 0.2683266156631495
             },
             {
              "outcome": "8.0",
              "probability": 0.21485915735956693
             },
             {
              "outcome": "9.0",
              "probability": 0.11031236956931921
             },
             {
              "outcome": "10.0",
              "probability": 0.03631405853069409
             }
            ]
           },
           "description": "",
           "encoding": {
            "x": {
             "axis": {
              "labelAngle": -55
             },
             "field": "outcome",
             "scale": {
              "rangeStep": 30
             },
             "sort": null,
             "type": "ordinal"
            },
            "y": {
             "field": "probability",
             "type": "quantitative"
            }
           },
           "mark": "bar"
          }
         ],
         "title": "Threshold Norm Prior"
        }
       ],
       "spacing": 50
      },
      "image/png": "[encoded data removed]"
     },
     "metadata": {},
     "output_type": "display_data"
    }
   ],
   "source": [
    "thresholdPriorUnif, thresholdPriorNorm :: Model Double\n",
    "thresholdPriorUnif = unif (drop 1 . dropEnd 1 $ heights)\n",
    "thresholdPriorNorm = thresholdPriorUnif >>= \\d -> observe (Normal 7 1.5) d >> return d\n",
    "\n",
    "vlShow . sidewaysDists <$> sequence\n",
    "  [ titled \"Threshold Unif Prior\" . barFromDist <$> enumD thresholdPriorUnif\n",
    "  , titled \"Threshold Norm Prior\" . barFromDist <$> enumD thresholdPriorNorm\n",
    "  ]"
   ]
  },
  {
   "cell_type": "markdown",
   "metadata": {},
   "source": [
    "# Experiments"
   ]
  },
  {
   "cell_type": "markdown",
   "metadata": {},
   "source": [
    "Even a literal listener ought to be somewhat evaluative!"
   ]
  },
  {
   "cell_type": "markdown",
   "metadata": {},
   "source": [
    "> \"Tall\""
   ]
  },
  {
   "cell_type": "code",
   "execution_count": 16,
   "metadata": {},
   "outputs": [],
   "source": [
    "infoBaseline = Priors worldPrior utterancePrior (unif [2])\n",
    "infoLGJohnUnif = infoBaseline {tp = thresholdPriorUnif}\n",
    "infoLGJohnNorm = infoBaseline {tp = thresholdPriorNorm}"
   ]
  },
  {
   "cell_type": "code",
   "execution_count": 17,
   "metadata": {},
   "outputs": [],
   "source": [
    "mkGraph m = do\n",
    "  heightBar <- enumD ((`ht` John) . fst <$> m)\n",
    "  threshBar <- enumD (fromEnum    . snd <$> m)\n",
    "  return $ toVegaLite\n",
    "    [ center True\n",
    "    , vConcat [fromVL (barFromDist heightBar), fromVL (sdBarFromDist heights threshBar)]\n",
    "    ]"
   ]
  },
  {
   "cell_type": "code",
   "execution_count": 18,
   "metadata": {},
   "outputs": [
    {
     "data": {
      "application/vnd.vegalite.v2+json": {
       "$schema": "https://vega.github.io/schema/vega-lite/v3.json",
       "hconcat": [
        {
         "$schema": "https://vega.github.io/schema/vega-lite/v3.json",
         "center": true,
         "vconcat": [
          {
           "$schema": "https://vega.github.io/schema/vega-lite/v3.json",
           "data": {
            "values": [
             {
              "outcome": "1.0",
              "probability": 0
             },
             {
              "outcome": "2.0",
              "probability": 0.027384899153977918
             },
             {
              "outcome": "3.0",
              "probability": 0.06569295800825811
             },
             {
              "outcome": "4.0",
              "probability": 0.12273060323069296
             },
             {
              "outcome": "5.0",
              "probability": 0.17857197401157113
             },
             {
              "outcome": "6.0",
              "probability": 0.20234855611230135
             },
             {
              "outcome": "7.0",
              "probability": 0.17857197401157113
             },
             {
              "outcome": "8.0",
              "probability": 0.12273060323069296
             },
             {
              "outcome": "9.0",
              "probability": 0.06569295800825811
             },
             {
              "outcome": "10.0",
              "probability": 0.027384899153977918
             },
             {
              "outcome": "11.0",
              "probability": 0.008890575078698532
             }
            ]
           },
           "description": "",
           "encoding": {
            "x": {
             "axis": {
              "labelAngle": -55
             },
             "field": "outcome",
             "scale": {
              "rangeStep": 30
             },
             "sort": null,
             "type": "ordinal"
            },
            "y": {
             "field": "probability",
             "type": "quantitative"
            }
           },
           "mark": "bar"
          },
          {
           "$schema": "https://vega.github.io/schema/vega-lite/v3.json",
           "data": {
            "values": [
             {
              "prob": 1,
              "sigma": "2"
             }
            ]
           },
           "description": "",
           "encoding": {
            "x": {
             "axis": {
              "labelAngle": -55
             },
             "field": "sigma",
             "scale": {
              "domain": [
               "1",
               "2",
               "3",
               "4",
               "5",
               "6",
               "7",
               "8",
               "9",
               "10",
               "11"
              ],
              "rangeStep": 30
             },
             "sort": null,
             "type": "ordinal"
            },
            "y": {
             "field": "prob",
             "type": "quantitative"
            }
           },
           "mark": {
            "color": "firebrick",
            "opacity": 0.75,
            "type": "bar"
           }
          }
         ]
        },
        {
         "$schema": "https://vega.github.io/schema/vega-lite/v3.json",
         "center": true,
         "vconcat": [
          {
           "$schema": "https://vega.github.io/schema/vega-lite/v3.json",
           "data": {
            "values": [
             {
              "outcome": "1.0",
              "probability": 0
             },
             {
              "outcome": "2.0",
              "probability": 0.005438300138251883
             },
             {
              "outcome": "3.0",
              "probability": 0.02609160768566059
             },
             {
              "outcome": "4.0",
              "probability": 0.0731183108724643
             },
             {
              "outcome": "5.0",
              "probability": 0.1418486860944271
             },
             {
              "outcome": "6.0",
              "probability": 0.20091952402182756
             },
             {
              "outcome": "7.0",
              "probability": 0.2127730291416409
             },
             {
              "outcome": "8.0",
              "probability": 0.17060939203575018
             },
             {
              "outcome": "9.0",
              "probability": 0.10436643074264239
             },
             {
              "outcome": "10.0",
              "probability": 0.048944701244266975
             },
             {
              "outcome": "11.0",
              "probability": 0.015890018023068563
             }
            ]
           },
           "description": "",
           "encoding": {
            "x": {
             "axis": {
              "labelAngle": -55
             },
             "field": "outcome",
             "scale": {
              "rangeStep": 30
             },
             "sort": null,
             "type": "ordinal"
            },
            "y": {
             "field": "probability",
             "type": "quantitative"
            }
           },
           "mark": "bar"
          },
          {
           "$schema": "https://vega.github.io/schema/vega-lite/v3.json",
           "data": {
            "values": [
             {
              "prob": 0.19858755395350514,
              "sigma": "2"
             },
             {
              "prob": 0.19314925381525322,
              "sigma": "3"
             },
             {
              "prob": 0.18010344997242292,
              "sigma": "4"
             },
             {
              "prob": 0.1557306796816015,
              "sigma": "5"
             },
             {
              "prob": 0.12026850815799461,
              "sigma": "6"
             },
             {
              "prob": 0.08008460335362899,
              "sigma": "7"
             },
             {
              "prob": 0.044622431830022125,
              "sigma": "8"
             },
             {
              "prob": 0.020249661539200804,
              "sigma": "9"
             },
             {
              "prob": 0.007203857696370594,
              "sigma": "10"
             }
            ]
           },
           "description": "",
           "encoding": {
            "x": {
             "axis": {
              "labelAngle": -55
             },
             "field": "sigma",
             "scale": {
              "domain": [
               "1",
               "2",
               "3",
               "4",
               "5",
               "6",
               "7",
               "8",
               "9",
               "10",
               "11"
              ],
              "rangeStep": 30
             },
             "sort": null,
             "type": "ordinal"
            },
            "y": {
             "field": "prob",
             "type": "quantitative"
            }
           },
           "mark": {
            "color": "firebrick",
            "opacity": 0.75,
            "type": "bar"
           }
          }
         ]
        },
        {
         "$schema": "https://vega.github.io/schema/vega-lite/v3.json",
         "center": true,
         "vconcat": [
          {
           "$schema": "https://vega.github.io/schema/vega-lite/v3.json",
           "data": {
            "values": [
             {
              "outcome": "1.0",
              "probability": 0
             },
             {
              "outcome": "2.0",
              "probability": 3.799529205966515e-06
             },
             {
              "outcome": "3.0",
              "probability": 0.002289478166267609
             },
             {
              "outcome": "4.0",
              "probability": 0.011490789440744033
             },
             {
              "outcome": "5.0",
              "probability": 0.02998975525690359
             },
             {
              "outcome": "6.0",
              "probability": 0.07097167565918136
             },
             {
              "outcome": "7.0",
              "probability": 0.17267907047131303
             },
             {
              "outcome": "8.0",
              "probability": 0.2782980521609837
             },
             {
              "outcome": "9.0",
              "probability": 0.24531441047155725
             },
             {
              "outcome": "10.0",
              "probability": 0.14265097682930478
             },
             {
              "outcome": "11.0",
              "probability": 0.04631199201453942
             }
            ]
           },
           "description": "",
           "encoding": {
            "x": {
             "axis": {
              "labelAngle": -55
             },
             "field": "outcome",
             "scale": {
              "rangeStep": 30
             },
             "sort": null,
             "type": "ordinal"
            },
            "y": {
             "field": "probability",
             "type": "quantitative"
            }
           },
           "mark": "bar"
          },
          {
           "$schema": "https://vega.github.io/schema/vega-lite/v3.json",
           "data": {
            "values": [
             {
              "prob": 0.026719286775210578,
              "sigma": "2"
             },
             {
              "prob": 0.028261642412192697,
              "sigma": "3"
             },
             {
              "prob": 0.03591909867534088,
              "sigma": "4"
             },
             {
              "prob": 0.05511030301320677,
              "sigma": "5"
             },
             {
              "prob": 0.1103444416255033,
              "sigma": "6"
             },
             {
              "prob": 0.24842777583592793,
              "sigma": "7"
             },
             {
              "prob": 0.29216688406544816,
              "sigma": "8"
             },
             {
              "prob": 0.1495496716359255,
              "sigma": "9"
             },
             {
              "prob": 0.05350089596124448,
              "sigma": "10"
             }
            ]
           },
           "description": "",
           "encoding": {
            "x": {
             "axis": {
              "labelAngle": -55
             },
             "field": "sigma",
             "scale": {
              "domain": [
               "1",
               "2",
               "3",
               "4",
               "5",
               "6",
               "7",
               "8",
               "9",
               "10",
               "11"
              ],
              "rangeStep": 30
             },
             "sort": null,
             "type": "ordinal"
            },
            "y": {
             "field": "prob",
             "type": "quantitative"
            }
           },
           "mark": {
            "color": "firebrick",
            "opacity": 0.75,
            "type": "bar"
           }
          }
         ]
        },
        {
         "$schema": "https://vega.github.io/schema/vega-lite/v3.json",
         "center": true,
         "vconcat": [
          {
           "$schema": "https://vega.github.io/schema/vega-lite/v3.json",
           "data": {
            "values": [
             {
              "outcome": "1.0",
              "probability": 0
             },
             {
              "outcome": "2.0",
              "probability": 1.3185837418369435e-19
             },
             {
              "outcome": "3.0",
              "probability": 8.71097628754159e-09
             },
             {
              "outcome": "4.0",
              "probability": 8.932270477332052e-07
             },
             {
              "outcome": "5.0",
              "probability": 1.3052960858396232e-05
             },
             {
              "outcome": "6.0",
              "probability": 0.00029589416631482194
             },
             {
              "outcome": "7.0",
              "probability": 0.01804952095272444
             },
             {
              "outcome": "8.0",
              "probability": 0.34500688552392905
             },
             {
              "outcome": "9.0",
              "probability": 0.39738209704955413
             },
             {
              "outcome": "10.0",
              "probability": 0.18061465423912187
             },
             {
              "outcome": "11.0",
              "probability": 0.05863699316947326
             }
            ]
           },
           "description": "",
           "encoding": {
            "x": {
             "axis": {
              "labelAngle": -55
             },
             "field": "outcome",
             "scale": {
              "rangeStep": 30
             },
             "sort": null,
             "type": "ordinal"
            },
            "y": {
             "field": "probability",
             "type": "quantitative"
            }
           },
           "mark": "bar"
          },
          {
           "$schema": "https://vega.github.io/schema/vega-lite/v3.json",
           "data": {
            "values": [
             {
              "prob": 1,
              "sigma": "2"
             }
            ]
           },
           "description": "",
           "encoding": {
            "x": {
             "axis": {
              "labelAngle": -55
             },
             "field": "sigma",
             "scale": {
              "domain": [
               "1",
               "2",
               "3",
               "4",
               "5",
               "6",
               "7",
               "8",
               "9",
               "10",
               "11"
              ],
              "rangeStep": 30
             },
             "sort": null,
             "type": "ordinal"
            },
            "y": {
             "field": "prob",
             "type": "quantitative"
            }
           },
           "mark": {
            "color": "firebrick",
            "opacity": 0.75,
            "type": "bar"
           }
          }
         ]
        }
       ],
       "spacing": 50
      },
      "image/png": "[encoded data removed]"
     },
     "metadata": {},
     "output_type": "display_data"
    }
   ],
   "source": [
    "writeIORef cacheRef (0, Map.empty)\n",
    "\n",
    "vlShow . sidewaysDists <$> traverse mkGraph\n",
    "  [ listener infoLGJohnUnif cacheRef (0, UTall, 2)\n",
    "  , tp infoLGJohnUnif >>= \\l -> listener infoLGJohnUnif cacheRef (0, UTall, l)\n",
    "  , listener infoLGJohnUnif cacheRef (1, UTall, 2)\n",
    "  , listener infoLGJohnUnif cacheRef (2, UTall, 2)\n",
    "--   , listener infoLGJohnUnif cacheRef (3, UTall, 2)\n",
    "  ]"
   ]
  },
  {
   "cell_type": "code",
   "execution_count": 19,
   "metadata": {},
   "outputs": [
    {
     "data": {
      "application/vnd.vegalite.v2+json": {
       "$schema": "https://vega.github.io/schema/vega-lite/v3.json",
       "hconcat": [
        {
         "$schema": "https://vega.github.io/schema/vega-lite/v3.json",
         "center": true,
         "vconcat": [
          {
           "$schema": "https://vega.github.io/schema/vega-lite/v3.json",
           "data": {
            "values": [
             {
              "outcome": "1.0",
              "probability": 0
             },
             {
              "outcome": "2.0",
              "probability": 0.027384899153977918
             },
             {
              "outcome": "3.0",
              "probability": 0.06569295800825811
             },
             {
              "outcome": "4.0",
              "probability": 0.12273060323069296
             },
             {
              "outcome": "5.0",
              "probability": 0.17857197401157113
             },
             {
              "outcome": "6.0",
              "probability": 0.20234855611230135
             },
             {
              "outcome": "7.0",
              "probability": 0.17857197401157113
             },
             {
              "outcome": "8.0",
              "probability": 0.12273060323069296
             },
             {
              "outcome": "9.0",
              "probability": 0.06569295800825811
             },
             {
              "outcome": "10.0",
              "probability": 0.027384899153977918
             },
             {
              "outcome": "11.0",
              "probability": 0.008890575078698532
             }
            ]
           },
           "description": "",
           "encoding": {
            "x": {
             "axis": {
              "labelAngle": -55
             },
             "field": "outcome",
             "scale": {
              "rangeStep": 30
             },
             "sort": null,
             "type": "ordinal"
            },
            "y": {
             "field": "probability",
             "type": "quantitative"
            }
           },
           "mark": "bar"
          },
          {
           "$schema": "https://vega.github.io/schema/vega-lite/v3.json",
           "data": {
            "values": [
             {
              "prob": 1,
              "sigma": "2"
             }
            ]
           },
           "description": "",
           "encoding": {
            "x": {
             "axis": {
              "labelAngle": -55
             },
             "field": "sigma",
             "scale": {
              "domain": [
               "1",
               "2",
               "3",
               "4",
               "5",
               "6",
               "7",
               "8",
               "9",
               "10",
               "11"
              ],
              "rangeStep": 30
             },
             "sort": null,
             "type": "ordinal"
            },
            "y": {
             "field": "prob",
             "type": "quantitative"
            }
           },
           "mark": {
            "color": "firebrick",
            "opacity": 0.75,
            "type": "bar"
           }
          }
         ]
        },
        {
         "$schema": "https://vega.github.io/schema/vega-lite/v3.json",
         "center": true,
         "vconcat": [
          {
           "$schema": "https://vega.github.io/schema/vega-lite/v3.json",
           "data": {
            "values": [
             {
              "outcome": "1.0",
              "probability": 0
             },
             {
              "outcome": "2.0",
              "probability": 6.65104859202859e-05
             },
             {
              "outcome": "3.0",
              "probability": 0.0013384769329254883
             },
             {
              "outcome": "4.0",
              "probability": 0.012935545206207743
             },
             {
              "outcome": "5.0",
              "probability": 0.06494222843355492
             },
             {
              "outcome": "6.0",
              "probability": 0.17538181242626028
             },
             {
              "outcome": "7.0",
              "probability": 0.26696009545976385
             },
             {
              "outcome": "8.0",
              "probability": 0.245219160523831
             },
             {
              "outcome": "9.0",
              "probability": 0.14822337046103087
             },
             {
              "outcome": "10.0",
              "probability": 0.06411704364985721
             },
             {
              "outcome": "11.0",
              "probability": 0.02081575642064919
             }
            ]
           },
           "description": "",
           "encoding": {
            "x": {
             "axis": {
              "labelAngle": -55
             },
             "field": "outcome",
             "scale": {
              "rangeStep": 30
             },
             "sort": null,
             "type": "ordinal"
            },
            "y": {
             "field": "probability",
             "type": "quantitative"
            }
           },
           "mark": "bar"
          },
          {
           "$schema": "https://vega.github.io/schema/vega-lite/v3.json",
           "data": {
            "values": [
             {
              "prob": 0.0024287285319662955,
              "sigma": "2"
             },
             {
              "prob": 0.017454561660140307,
              "sigma": "3"
             },
             {
              "prob": 0.07710936703666668,
              "sigma": "4"
             },
             {
              "prob": 0.20253902245457303,
              "sigma": "5"
             },
             {
              "prob": 0.3046604708744162,
              "sigma": "6"
             },
             {
              "prob": 0.25335127770649124,
              "sigma": "7"
             },
             {
              "prob": 0.1130361663340583,
              "sigma": "8"
             },
             {
              "prob": 0.02633615072875227,
              "sigma": "9"
             },
             {
              "prob": 0.0030842546729360877,
              "sigma": "10"
             }
            ]
           },
           "description": "",
           "encoding": {
            "x": {
             "axis": {
              "labelAngle": -55
             },
             "field": "sigma",
             "scale": {
              "domain": [
               "1",
               "2",
               "3",
               "4",
               "5",
               "6",
               "7",
               "8",
               "9",
               "10",
               "11"
              ],
              "rangeStep": 30
             },
             "sort": null,
             "type": "ordinal"
            },
            "y": {
             "field": "prob",
             "type": "quantitative"
            }
           },
           "mark": {
            "color": "firebrick",
            "opacity": 0.75,
            "type": "bar"
           }
          }
         ]
        },
        {
         "$schema": "https://vega.github.io/schema/vega-lite/v3.json",
         "center": true,
         "vconcat": [
          {
           "$schema": "https://vega.github.io/schema/vega-lite/v3.json",
           "data": {
            "values": [
             {
              "outcome": "1.0",
              "probability": 0
             },
             {
              "outcome": "2.0",
              "probability": 2.19928503859611e-08
             },
             {
              "outcome": "3.0",
              "probability": 3.119004450674525e-05
             },
             {
              "outcome": "4.0",
              "probability": 0.0010639142668740656
             },
             {
              "outcome": "5.0",
              "probability": 0.009369283250714735
             },
             {
              "outcome": "6.0",
              "probability": 0.05486049844728772
             },
             {
              "outcome": "7.0",
              "probability": 0.21316154512374874
             },
             {
              "outcome": "8.0",
              "probability": 0.33788387398161995
             },
             {
              "outcome": "9.0",
              "probability": 0.2401682828412415
             },
             {
              "outcome": "10.0",
              "probability": 0.10830115332287164
             },
             {
              "outcome": "11.0",
              "probability": 0.035160236728285436
             }
            ]
           },
           "description": "",
           "encoding": {
            "x": {
             "axis": {
              "labelAngle": -55
             },
             "field": "outcome",
             "scale": {
              "rangeStep": 30
             },
             "sort": null,
             "type": "ordinal"
            },
            "y": {
             "field": "probability",
             "type": "quantitative"
            }
           },
           "mark": "bar"
          },
          {
           "$schema": "https://vega.github.io/schema/vega-lite/v3.json",
           "data": {
            "values": [
             {
              "prob": 0.0001546594971671787,
              "sigma": "2"
             },
             {
              "prob": 0.0012087544710604097,
              "sigma": "3"
             },
             {
              "prob": 0.007278389966697429,
              "sigma": "4"
             },
             {
              "prob": 0.03392283295281912,
              "sigma": "5"
             },
             {
              "prob": 0.13229378157650007,
              "sigma": "6"
             },
             {
              "prob": 0.3719623693742225,
              "sigma": "7"
             },
             {
              "prob": 0.35028372408300473,
              "sigma": "8"
             },
             {
              "prob": 0.09205444810997852,
              "sigma": "9"
             },
             {
              "prob": 0.010841039968549565,
              "sigma": "10"
             }
            ]
           },
           "description": "",
           "encoding": {
            "x": {
             "axis": {
              "labelAngle": -55
             },
             "field": "sigma",
             "scale": {
              "domain": [
               "1",
               "2",
               "3",
               "4",
               "5",
               "6",
               "7",
               "8",
               "9",
               "10",
               "11"
              ],
              "rangeStep": 30
             },
             "sort": null,
             "type": "ordinal"
            },
            "y": {
             "field": "prob",
             "type": "quantitative"
            }
           },
           "mark": {
            "color": "firebrick",
            "opacity": 0.75,
            "type": "bar"
           }
          }
         ]
        },
        {
         "$schema": "https://vega.github.io/schema/vega-lite/v3.json",
         "center": true,
         "vconcat": [
          {
           "$schema": "https://vega.github.io/schema/vega-lite/v3.json",
           "data": {
            "values": [
             {
              "outcome": "1.0",
              "probability": 0
             },
             {
              "outcome": "2.0",
              "probability": 6.0297458634406795e-28
             },
             {
              "outcome": "3.0",
              "probability": 1.8150494083525094e-16
             },
             {
              "outcome": "4.0",
              "probability": 3.9922166608336675e-11
             },
             {
              "outcome": "5.0",
              "probability": 7.878886051764578e-08
             },
             {
              "outcome": "6.0",
              "probability": 7.054164987003095e-05
             },
             {
              "outcome": "7.0",
              "probability": 0.03664521505584464
             },
             {
              "outcome": "8.0",
              "probability": 0.4717399408590663
             },
             {
              "outcome": "9.0",
              "probability": 0.3143797340529391
             },
             {
              "outcome": "10.0",
              "probability": 0.13374412829656251
             },
             {
              "outcome": "11.0",
              "probability": 0.043420361256934124
             }
            ]
           },
           "description": "",
           "encoding": {
            "x": {
             "axis": {
              "labelAngle": -55
             },
             "field": "outcome",
             "scale": {
              "rangeStep": 30
             },
             "sort": null,
             "type": "ordinal"
            },
            "y": {
             "field": "probability",
             "type": "quantitative"
            }
           },
           "mark": "bar"
          },
          {
           "$schema": "https://vega.github.io/schema/vega-lite/v3.json",
           "data": {
            "values": [
             {
              "prob": 1,
              "sigma": "2"
             }
            ]
           },
           "description": "",
           "encoding": {
            "x": {
             "axis": {
              "labelAngle": -55
             },
             "field": "sigma",
             "scale": {
              "domain": [
               "1",
               "2",
               "3",
               "4",
               "5",
               "6",
               "7",
               "8",
               "9",
               "10",
               "11"
              ],
              "rangeStep": 30
             },
             "sort": null,
             "type": "ordinal"
            },
            "y": {
             "field": "prob",
             "type": "quantitative"
            }
           },
           "mark": {
            "color": "firebrick",
            "opacity": 0.75,
            "type": "bar"
           }
          }
         ]
        }
       ],
       "spacing": 50
      },
      "image/png": "[encoded data removed]"
     },
     "metadata": {},
     "output_type": "display_data"
    }
   ],
   "source": [
    "writeIORef cacheRef (0, Map.empty)\n",
    "\n",
    "vlShow . sidewaysDists <$> traverse mkGraph\n",
    "  [ listener infoLGJohnNorm cacheRef (0, UTall, 2)\n",
    "  , tp infoLGJohnNorm >>= \\l -> listener infoLGJohnNorm cacheRef (0, UTall, l)\n",
    "  , listener infoLGJohnNorm cacheRef (1, UTall, 2)\n",
    "  , listener infoLGJohnNorm cacheRef (2, UTall, 2)\n",
    "--   , listener infoLGJohnNorm cacheRef (3, UTall, 2)\n",
    "  ]"
   ]
  },
  {
   "cell_type": "code",
   "execution_count": null,
   "metadata": {},
   "outputs": [],
   "source": []
  }
 ],
 "metadata": {
  "kernelspec": {
   "display_name": "Haskell",
   "language": "haskell",
   "name": "haskell"
  },
  "language_info": {
   "codemirror_mode": "ihaskell",
   "file_extension": ".hs",
   "name": "haskell",
   "pygments_lexer": "Haskell",
   "version": "8.6.5"
  }
 },
 "nbformat": 4,
 "nbformat_minor": 4
}
