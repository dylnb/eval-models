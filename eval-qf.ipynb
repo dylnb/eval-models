{
 "cells": [
  {
   "cell_type": "code",
   "execution_count": 43,
   "metadata": {},
   "outputs": [],
   "source": [
    ":ext TypeSynonymInstances\n",
    ":ext FlexibleInstances"
   ]
  },
  {
   "cell_type": "code",
   "execution_count": 44,
   "metadata": {},
   "outputs": [],
   "source": [
    "import Utils\n",
    "import Data.Tuple.Extra (uncurry3, both, first, second, (***))\n",
    "import Data.Bool (bool)\n",
    "import Data.List.Extra (sortOn, dropEnd)\n",
    "import Data.Ord (Down(..))\n",
    "import Data.Function (on, (&))\n",
    "import Data.Maybe (fromJust)\n",
    "import Control.Monad (replicateM, liftM2)\n",
    "import Control.Monad.Trans.State\n",
    "import Control.Monad.Trans.Class (lift)\n",
    "import Data.IORef\n",
    "import qualified Data.Map as Map"
   ]
  },
  {
   "cell_type": "code",
   "execution_count": 45,
   "metadata": {},
   "outputs": [],
   "source": [
    "import Tyche.Model\n",
    "import Tyche.Dist\n",
    "import Tyche.Prelude\n",
    "import Tyche.Prob\n",
    "import Tyche.Inference.Enumerate\n",
    "import qualified System.Random.MWC.Probability as MWC\n",
    "-- import Tyche.Inference.LikelihoodWeighting"
   ]
  },
  {
   "cell_type": "code",
   "execution_count": 46,
   "metadata": {},
   "outputs": [],
   "source": [
    "import Graphics.Vega.VegaLite hiding (filter, lookup, repeat, FontWeight(Normal))\n",
    "import qualified Graphics.Vega.VegaLite as VL (filter, lookup, repeat, FontWeight(Normal))"
   ]
  },
  {
   "cell_type": "markdown",
   "metadata": {},
   "source": [
    "# Setting Things Up"
   ]
  },
  {
   "cell_type": "markdown",
   "metadata": {},
   "source": [
    "## The Model"
   ]
  },
  {
   "cell_type": "markdown",
   "metadata": {},
   "source": [
    "Worlds are distinguished only by the height of the individual at issue (call him John)"
   ]
  },
  {
   "cell_type": "code",
   "execution_count": 47,
   "metadata": {},
   "outputs": [],
   "source": [
    "data World = World {label :: String, ht :: Int} deriving Eq\n",
    "\n",
    "instance Ord World where\n",
    "  w <= w' = ht w <= ht w'\n",
    "\n",
    "instance Show World where\n",
    "  show (World l _) = l"
   ]
  },
  {
   "cell_type": "markdown",
   "metadata": {},
   "source": [
    "But what we reason about are effectively **pointed distributions**, which include information about John's height *relative to other heights of individuals in the comparison class*"
   ]
  },
  {
   "cell_type": "code",
   "execution_count": null,
   "metadata": {},
   "outputs": [],
   "source": []
  },
  {
   "cell_type": "markdown",
   "metadata": {},
   "source": [
    "A **proposition** is a set of these centered distributions"
   ]
  },
  {
   "cell_type": "code",
   "execution_count": 48,
   "metadata": {},
   "outputs": [],
   "source": [
    "type Prop = [World]"
   ]
  },
  {
   "cell_type": "markdown",
   "metadata": {},
   "source": [
    "For the sake of computational efficiency, we imagine that there are only 11 possible heights"
   ]
  },
  {
   "cell_type": "code",
   "execution_count": 49,
   "metadata": {},
   "outputs": [],
   "source": [
    "heights = [1 .. 11]\n",
    "universe = [World (\"j\" ++ show h) h | h <- heights]"
   ]
  },
  {
   "cell_type": "markdown",
   "metadata": {},
   "source": [
    "Again for efficiency's sake, not all world-center pairs are considered possible. The median height is assumed to fall between $4$ and $8$, and John's height is assumed to fall within $3$ steps of the median: \n",
    "\n",
    "\\begin{equation} C_{\\textsf{j}} \\subseteq \\Bigl\\{\\langle w, \\mu\\rangle \\Bigm\\vert 4 \\leq \\mu \\leq 8,\\ -3 \\leq \\mu - \\textsf{ht}_{w}(\\textsf{j}) \\leq 3\\Bigr\\} \\end{equation}"
   ]
  },
  {
   "cell_type": "code",
   "execution_count": 50,
   "metadata": {},
   "outputs": [],
   "source": [
    "sigma = 3\n",
    "ccs = drop sigma . dropEnd sigma $ heights"
   ]
  },
  {
   "cell_type": "markdown",
   "metadata": {},
   "source": [
    "## The Language"
   ]
  },
  {
   "cell_type": "markdown",
   "metadata": {},
   "source": [
    "We have a marked utterance, an unmarked utterance, and a null utterance (the least marked)"
   ]
  },
  {
   "cell_type": "code",
   "execution_count": 51,
   "metadata": {},
   "outputs": [],
   "source": [
    "data Utt = UNone | UTall | UShrt\n",
    "  deriving (Eq, Show, Ord, Enum, Bounded)\n",
    "\n",
    "utterances = [minBound .. maxBound]"
   ]
  },
  {
   "cell_type": "markdown",
   "metadata": {},
   "source": [
    "A **lexicon** is a denotation function mapping utterances to propositions"
   ]
  },
  {
   "cell_type": "code",
   "execution_count": 52,
   "metadata": {},
   "outputs": [],
   "source": [
    "data Lexicon = Lex {lexID :: (Int,Int), den :: Utt -> Prop}\n",
    "instance Show Lexicon where\n",
    "  show (Lex _ f) = \"C = \" ++ show (f UNone) ++ \"; E = \" ++ show (f UTall)\n",
    "instance Eq Lexicon where\n",
    "  (Lex m _) == (Lex n _) = m == n\n",
    "instance Ord Lexicon where\n",
    "  (Lex m _) <= (Lex n _) = m <= n"
   ]
  },
  {
   "cell_type": "markdown",
   "metadata": {},
   "source": [
    "## Rational Agents"
   ]
  },
  {
   "cell_type": "code",
   "execution_count": 94,
   "metadata": {},
   "outputs": [],
   "source": [
    "-- Initialize reference cell for storing results to share within and between computations\n",
    "type Cache = IORef (Int, Map.Map (Int, Utt, Int) (Dist World))\n",
    "cacheRefTall <- newIORef (0, Map.empty) :: IO Cache\n",
    "cacheRefShrt <- newIORef (0, Map.empty) :: IO Cache\n",
    "cacheRefNone <- newIORef (0, Map.empty) :: IO Cache"
   ]
  },
  {
   "cell_type": "markdown",
   "metadata": {},
   "source": [
    "An $n$-level agent reasoning about `a` given `k` is a graphical model (supplemented with a memory, for efficiency)\n",
    "- if the problem is old, the posterior distribution is returned from memory\n",
    "- if the problem is new, then priors over indices, messages, and lexica are fed to a node computing the posterior distribution over `a`"
   ]
  },
  {
   "cell_type": "code",
   "execution_count": 82,
   "metadata": {},
   "outputs": [],
   "source": [
    "data Priors = Priors {wp :: Int -> Model World, up :: Model Utt, cp :: Model Int, lp :: Int -> Model Lexicon}\n",
    "type Agent k a = Priors -> Cache -> (Int, k, Int) -> Model a\n",
    "type AgentPlain k a = Priors -> (Int, k, Int) -> Model a"
   ]
  },
  {
   "cell_type": "markdown",
   "metadata": {},
   "source": [
    "* A speaker trying to describe index $i$ is an agent that chooses an utterance $u$ in proportion to its prior probability (its cost) and the likelihood that a listener would assign to $i$ upon hearing $u$\n",
    "* A listener trying to interpret an utterance $u$ is an agent that chooses an index $i$ in proportion to its prior probability and the likelihood that a speaker would assign to $u$ upon trying to describe $i$"
   ]
  },
  {
   "cell_type": "code",
   "execution_count": 83,
   "metadata": {},
   "outputs": [],
   "source": [
    "{--\n",
    "speakerPlain :: AgentPlain Index Utt\n",
    "speakerPlain priors (n,i,l) =\n",
    "  do u   <- up priors\n",
    "     lnr <- lift $ enumD $ listenerPlain priors (n-1,u,l)\n",
    "     weight $ alpha * logProb lnr i\n",
    "     return u\n",
    "\n",
    "listenerPlain :: AgentPlain Utt Index\n",
    "listenerPlain priors (n,u,l)\n",
    "  | n > 0 =\n",
    "      do index  <- ip priors\n",
    "         interp <- if n == 1 then lp priors else return l\n",
    "         spr    <- lift . enumD $ speakerPlain priors (n,index,interp)\n",
    "         observe spr u\n",
    "         return index\n",
    "  | otherwise =\n",
    "      do index <- ip priors\n",
    "         condition (index `elem` den l u)\n",
    "         return index\n",
    "--}"
   ]
  },
  {
   "cell_type": "code",
   "execution_count": 84,
   "metadata": {},
   "outputs": [],
   "source": [
    "alpha, lambda :: Double\n",
    "alpha = 4\n",
    "lambda = 4\n",
    "\n",
    "utility :: Lexicon -> Model World -> IO Double\n",
    "utility l worldPrior = sum <$> traverse (\\w -> liftM2 (*) (p w) (d w)) universe\n",
    "  where\n",
    "    d w = exp . flip logProb w <$> enumD worldPrior\n",
    "    p w | w `elem` den l UTall = exp . flip logProb w <$>\n",
    "            enumD (worldPrior >>= \\w' -> condition (w' `elem` den l UTall) >> return w')\n",
    "        | w `elem` den l UShrt = exp . flip logProb w <$>\n",
    "            enumD (worldPrior >>= \\w' -> condition (w' `elem` den l UShrt) >> return w')\n",
    "        | otherwise            = exp . flip logProb w <$>\n",
    "            enumD worldPrior\n",
    "\n",
    "speaker :: Agent World Utt\n",
    "speaker priors ref (n,w,mu)\n",
    "  | n == 1 =\n",
    "      do u <- up priors\n",
    "         l <- lp priors mu\n",
    "         condition (w `elem` den l u)\n",
    "         return u\n",
    "  | otherwise =\n",
    "      do u <- up priors\n",
    "         lnr <- lift $ memoize ref (fmap fst . listener priors ref) (n-1,u,mu)\n",
    "         weight $ alpha * logProb lnr w\n",
    "         return u\n",
    "\n",
    "listener :: Agent Utt (World, Int)\n",
    "listener priors ref (n,u,mu) =\n",
    "   do cc     <- if n == 1 then cp priors else return mu\n",
    "      world  <- wp priors cc\n",
    "      spr    <- lift . enumD $ speaker priors ref (n,world,cc)\n",
    "      observe spr u\n",
    "      return (world, cc)"
   ]
  },
  {
   "cell_type": "code",
   "execution_count": 87,
   "metadata": {},
   "outputs": [],
   "source": [
    "ccPriorFlat :: Model Int\n",
    "ccPriorFlat = unif ccs\n",
    "\n",
    "worldPriorNormal :: Int -> Model World\n",
    "worldPriorNormal mu = \n",
    "  do let plaus = [mu - sigma .. mu + sigma]\n",
    "         cands = filter (\\w -> ht w `elem` plaus) universe\n",
    "     w <- unif [w' | w' <- universe, abs (ht w' - mu) <= sigma]\n",
    "     observe (Normal 0 1.85) (fromIntegral $ ht w - mu)\n",
    "     return w\n",
    "     \n",
    "lexPriorPos :: (Int -> Model World) -> Int -> Model Lexicon\n",
    "lexPriorPos genWorldModel mu =\n",
    "  do let plaus = [mu - sigma .. mu + sigma]\n",
    "         cands = filter (\\w -> ht w `elem` plaus) universe\n",
    "     (t,s) <- unif [(t,s) | t <- plaus, s <- plaus, t >= s]\n",
    "     let f UNone = cands\n",
    "         f UTall = filter (\\w -> ht w >= t) cands\n",
    "         f UShrt = filter (\\w -> ht w <= s) cands\n",
    "     ut <- lift $ utility (Lex (t,s) f) (genWorldModel mu)\n",
    "     weight $ lambda * ut\n",
    "     return (Lex (t,s) f)"
   ]
  },
  {
   "cell_type": "code",
   "execution_count": 88,
   "metadata": {},
   "outputs": [],
   "source": [
    "cost :: Utt -> Double\n",
    "cost UNone = 0\n",
    "cost UTall = 1\n",
    "cost UShrt = 2\n",
    "\n",
    "utterancePrior1 :: Model Utt\n",
    "utterancePrior1 = belief . fromList $ [(u, - alpha * cost u) | u <- utterances]"
   ]
  },
  {
   "cell_type": "code",
   "execution_count": 92,
   "metadata": {},
   "outputs": [],
   "source": [
    "infoQFBaseline = Priors worldPriorNormal utterancePrior1 ccPriorFlat (lexPriorPos worldPriorNormal)\n",
    "infoQFPos = infoQFBaseline"
   ]
  },
  {
   "cell_type": "code",
   "execution_count": 95,
   "metadata": {},
   "outputs": [
    {
     "data": {
      "application/vnd.vegalite.v2+json": {
       "$schema": "https://vega.github.io/schema/vega-lite/v3.json",
       "hconcat": [
        {
         "$schema": "https://vega.github.io/schema/vega-lite/v3.json",
         "bounds": "flush",
         "config": {
          "scale": {
           "rectBandPaddingInner": 0
          }
         },
         "data": {
          "values": [
           {
            "ht": "1",
            "mu": "4",
            "prob": 0.1
           },
           {
            "ht": "2",
            "mu": "4",
            "prob": 0.5
           },
           {
            "ht": "2",
            "mu": "5",
            "prob": 0.1
           },
           {
            "ht": "3",
            "mu": "4",
            "prob": 1.8
           },
           {
            "ht": "3",
            "mu": "5",
            "prob": 0.5
           },
           {
            "ht": "3",
            "mu": "6",
            "prob": 0.1
           },
           {
            "ht": "4",
            "mu": "4",
            "prob": 3.9
           },
           {
            "ht": "4",
            "mu": "5",
            "prob": 1.8
           },
           {
            "ht": "4",
            "mu": "6",
            "prob": 0.5
           },
           {
            "ht": "4",
            "mu": "7",
            "prob": 0.1
           },
           {
            "ht": "5",
            "mu": "4",
            "prob": 5.5
           },
           {
            "ht": "5",
            "mu": "5",
            "prob": 3.9
           },
           {
            "ht": "5",
            "mu": "6",
            "prob": 1.8
           },
           {
            "ht": "5",
            "mu": "7",
            "prob": 0.5
           },
           {
            "ht": "5",
            "mu": "8",
            "prob": 0.1
           },
           {
            "ht": "6",
            "mu": "4",
            "prob": 5.1
           },
           {
            "ht": "6",
            "mu": "5",
            "prob": 5.5
           },
           {
            "ht": "6",
            "mu": "6",
            "prob": 3.9
           },
           {
            "ht": "6",
            "mu": "7",
            "prob": 1.8
           },
           {
            "ht": "6",
            "mu": "8",
            "prob": 0.5
           },
           {
            "ht": "7",
            "mu": "4",
            "prob": 3.2
           },
           {
            "ht": "7",
            "mu": "5",
            "prob": 5.1
           },
           {
            "ht": "7",
            "mu": "6",
            "prob": 5.5
           },
           {
            "ht": "7",
            "mu": "7",
            "prob": 3.9
           },
           {
            "ht": "7",
            "mu": "8",
            "prob": 1.8
           },
           {
            "ht": "8",
            "mu": "5",
            "prob": 3.2
           },
           {
            "ht": "8",
            "mu": "6",
            "prob": 5.1
           },
           {
            "ht": "8",
            "mu": "7",
            "prob": 5.5
           },
           {
            "ht": "8",
            "mu": "8",
            "prob": 3.9
           },
           {
            "ht": "9",
            "mu": "6",
            "prob": 3.2
           },
           {
            "ht": "9",
            "mu": "7",
            "prob": 5.1
           },
           {
            "ht": "9",
            "mu": "8",
            "prob": 5.5
           },
           {
            "ht": "10",
            "mu": "7",
            "prob": 3.2
           },
           {
            "ht": "10",
            "mu": "8",
            "prob": 5.1
           },
           {
            "ht": "11",
            "mu": "8",
            "prob": 3.2
           }
          ]
         },
         "spacing": 15,
         "vconcat": [
          {
           "encoding": {
            "x": {
             "axis": null,
             "field": "mu",
             "scale": {
              "domain": [
               "1",
               "2",
               "3",
               "4",
               "5",
               "6",
               "7",
               "8",
               "9",
               "10",
               "11"
              ],
              "rangeStep": 30
             },
             "sort": null,
             "type": "ordinal"
            },
            "y": {
             "aggregate": "sum",
             "axis": {
              "title": "Prob"
             },
             "field": "prob",
             "type": "quantitative"
            }
           },
           "height": 60,
           "mark": "bar"
          },
          {
           "bounds": "flush",
           "hconcat": [
            {
             "encoding": {
              "x": {
               "axis": {
                "labelAngle": -55
               },
               "field": "mu",
               "scale": {
                "domain": [
                 "1",
                 "2",
                 "3",
                 "4",
                 "5",
                 "6",
                 "7",
                 "8",
                 "9",
                 "10",
                 "11"
                ],
                "rangeStep": 30
               },
               "sort": null,
               "type": "ordinal"
              },
              "y": {
               "axis": {
                "labelAngle": 0
               },
               "field": "ht",
               "scale": {
                "domain": [
                 "11",
                 "10",
                 "9",
                 "8",
                 "7",
                 "6",
                 "5",
                 "4",
                 "3",
                 "2",
                 "1"
                ],
                "rangeStep": 30
               },
               "sort": null,
               "type": "ordinal"
              }
             },
             "layer": [
              {
               "encoding": {
                "color": {
                 "aggregate": "sum",
                 "field": "prob",
                 "legend": null,
                 "scale": {
                  "scheme": {
                   "extent": [
                    0.2,
                    0.9
                   ],
                   "name": "blues"
                  }
                 },
                 "type": "quantitative"
                }
               },
               "mark": "rect"
              },
              {
               "encoding": {
                "color": {
                 "value": "white"
                },
                "text": {
                 "aggregate": "sum",
                 "field": "prob",
                 "type": "quantitative"
                }
               },
               "mark": {
                "fontSize": 9,
                "type": "text"
               }
              },
              {
               "data": {
                "values": [
                 {
                  "vals": "1"
                 },
                 {
                  "vals": "2"
                 },
                 {
                  "vals": "3"
                 },
                 {
                  "vals": "4"
                 },
                 {
                  "vals": "5"
                 },
                 {
                  "vals": "6"
                 },
                 {
                  "vals": "7"
                 },
                 {
                  "vals": "8"
                 },
                 {
                  "vals": "9"
                 },
                 {
                  "vals": "10"
                 },
                 {
                  "vals": "11"
                 }
                ]
               },
               "encoding": {
                "x": {
                 "field": "vals",
                 "sort": null,
                 "type": "ordinal"
                },
                "y": {
                 "field": "vals",
                 "sort": null,
                 "type": "ordinal"
                }
               },
               "mark": {
                "opacity": 0.5,
                "stroke": "firebrick",
                "strokeWidth": 2,
                "type": "line"
               }
              }
             ]
            },
            {
             "encoding": {
              "x": {
               "aggregate": "sum",
               "axis": {
                "title": "Prob"
               },
               "field": "prob",
               "type": "quantitative"
              },
              "y": {
               "axis": null,
               "field": "ht",
               "scale": {
                "domain": [
                 "11",
                 "10",
                 "9",
                 "8",
                 "7",
                 "6",
                 "5",
                 "4",
                 "3",
                 "2",
                 "1"
                ],
                "rangeStep": 30
               },
               "sort": null,
               "type": "ordinal"
              }
             },
             "mark": "bar",
             "width": 60
            }
           ],
           "spacing": 15
          }
         ]
        },
        {
         "$schema": "https://vega.github.io/schema/vega-lite/v3.json",
         "bounds": "flush",
         "config": {
          "scale": {
           "rectBandPaddingInner": 0
          }
         },
         "data": {
          "values": [
           {
            "ht": "1",
            "mu": "4",
            "prob": 3.1
           },
           {
            "ht": "2",
            "mu": "4",
            "prob": 5
           },
           {
            "ht": "2",
            "mu": "5",
            "prob": 3.1
           },
           {
            "ht": "3",
            "mu": "4",
            "prob": 5.4
           },
           {
            "ht": "3",
            "mu": "5",
            "prob": 5
           },
           {
            "ht": "3",
            "mu": "6",
            "prob": 3.1
           },
           {
            "ht": "4",
            "mu": "4",
            "prob": 3.9
           },
           {
            "ht": "4",
            "mu": "5",
            "prob": 5.4
           },
           {
            "ht": "4",
            "mu": "6",
            "prob": 5
           },
           {
            "ht": "4",
            "mu": "7",
            "prob": 3.1
           },
           {
            "ht": "5",
            "mu": "4",
            "prob": 1.9
           },
           {
            "ht": "5",
            "mu": "5",
            "prob": 3.9
           },
           {
            "ht": "5",
            "mu": "6",
            "prob": 5.4
           },
           {
            "ht": "5",
            "mu": "7",
            "prob": 5
           },
           {
            "ht": "5",
            "mu": "8",
            "prob": 3.1
           },
           {
            "ht": "6",
            "mu": "4",
            "prob": 0.6
           },
           {
            "ht": "6",
            "mu": "5",
            "prob": 1.9
           },
           {
            "ht": "6",
            "mu": "6",
            "prob": 3.9
           },
           {
            "ht": "6",
            "mu": "7",
            "prob": 5.4
           },
           {
            "ht": "6",
            "mu": "8",
            "prob": 5
           },
           {
            "ht": "7",
            "mu": "4",
            "prob": 0.1
           },
           {
            "ht": "7",
            "mu": "5",
            "prob": 0.6
           },
           {
            "ht": "7",
            "mu": "6",
            "prob": 1.9
           },
           {
            "ht": "7",
            "mu": "7",
            "prob": 3.9
           },
           {
            "ht": "7",
            "mu": "8",
            "prob": 5.4
           },
           {
            "ht": "8",
            "mu": "5",
            "prob": 0.1
           },
           {
            "ht": "8",
            "mu": "6",
            "prob": 0.6
           },
           {
            "ht": "8",
            "mu": "7",
            "prob": 1.9
           },
           {
            "ht": "8",
            "mu": "8",
            "prob": 3.9
           },
           {
            "ht": "9",
            "mu": "6",
            "prob": 0.1
           },
           {
            "ht": "9",
            "mu": "7",
            "prob": 0.6
           },
           {
            "ht": "9",
            "mu": "8",
            "prob": 1.9
           },
           {
            "ht": "10",
            "mu": "7",
            "prob": 0.1
           },
           {
            "ht": "10",
            "mu": "8",
            "prob": 0.6
           },
           {
            "ht": "11",
            "mu": "8",
            "prob": 0.1
           }
          ]
         },
         "spacing": 15,
         "vconcat": [
          {
           "encoding": {
            "x": {
             "axis": null,
             "field": "mu",
             "scale": {
              "domain": [
               "1",
               "2",
               "3",
               "4",
               "5",
               "6",
               "7",
               "8",
               "9",
               "10",
               "11"
              ],
              "rangeStep": 30
             },
             "sort": null,
             "type": "ordinal"
            },
            "y": {
             "aggregate": "sum",
             "axis": {
              "title": "Prob"
             },
             "field": "prob",
             "type": "quantitative"
            }
           },
           "height": 60,
           "mark": "bar"
          },
          {
           "bounds": "flush",
           "hconcat": [
            {
             "encoding": {
              "x": {
               "axis": {
                "labelAngle": -55
               },
               "field": "mu",
               "scale": {
                "domain": [
                 "1",
                 "2",
                 "3",
                 "4",
                 "5",
                 "6",
                 "7",
                 "8",
                 "9",
                 "10",
                 "11"
                ],
                "rangeStep": 30
               },
               "sort": null,
               "type": "ordinal"
              },
              "y": {
               "axis": {
                "labelAngle": 0
               },
               "field": "ht",
               "scale": {
                "domain": [
                 "11",
                 "10",
                 "9",
                 "8",
                 "7",
                 "6",
                 "5",
                 "4",
                 "3",
                 "2",
                 "1"
                ],
                "rangeStep": 30
               },
               "sort": null,
               "type": "ordinal"
              }
             },
             "layer": [
              {
               "encoding": {
                "color": {
                 "aggregate": "sum",
                 "field": "prob",
                 "legend": null,
                 "scale": {
                  "scheme": {
                   "extent": [
                    0.2,
                    0.9
                   ],
                   "name": "blues"
                  }
                 },
                 "type": "quantitative"
                }
               },
               "mark": "rect"
              },
              {
               "encoding": {
                "color": {
                 "value": "white"
                },
                "text": {
                 "aggregate": "sum",
                 "field": "prob",
                 "type": "quantitative"
                }
               },
               "mark": {
                "fontSize": 9,
                "type": "text"
               }
              },
              {
               "data": {
                "values": [
                 {
                  "vals": "1"
                 },
                 {
                  "vals": "2"
                 },
                 {
                  "vals": "3"
                 },
                 {
                  "vals": "4"
                 },
                 {
                  "vals": "5"
                 },
                 {
                  "vals": "6"
                 },
                 {
                  "vals": "7"
                 },
                 {
                  "vals": "8"
                 },
                 {
                  "vals": "9"
                 },
                 {
                  "vals": "10"
                 },
                 {
                  "vals": "11"
                 }
                ]
               },
               "encoding": {
                "x": {
                 "field": "vals",
                 "sort": null,
                 "type": "ordinal"
                },
                "y": {
                 "field": "vals",
                 "sort": null,
                 "type": "ordinal"
                }
               },
               "mark": {
                "opacity": 0.5,
                "stroke": "firebrick",
                "strokeWidth": 2,
                "type": "line"
               }
              }
             ]
            },
            {
             "encoding": {
              "x": {
               "aggregate": "sum",
               "axis": {
                "title": "Prob"
               },
               "field": "prob",
               "type": "quantitative"
              },
              "y": {
               "axis": null,
               "field": "ht",
               "scale": {
                "domain": [
                 "11",
                 "10",
                 "9",
                 "8",
                 "7",
                 "6",
                 "5",
                 "4",
                 "3",
                 "2",
                 "1"
                ],
                "rangeStep": 30
               },
               "sort": null,
               "type": "ordinal"
              }
             },
             "mark": "bar",
             "width": 60
            }
           ],
           "spacing": 15
          }
         ]
        },
        {
         "$schema": "https://vega.github.io/schema/vega-lite/v3.json",
         "bounds": "flush",
         "config": {
          "scale": {
           "rectBandPaddingInner": 0
          }
         },
         "data": {
          "values": [
           {
            "ht": "1",
            "mu": "4",
            "prob": 1.2
           },
           {
            "ht": "2",
            "mu": "4",
            "prob": 2.6
           },
           {
            "ht": "2",
            "mu": "5",
            "prob": 1.2
           },
           {
            "ht": "3",
            "mu": "4",
            "prob": 4
           },
           {
            "ht": "3",
            "mu": "5",
            "prob": 2.6
           },
           {
            "ht": "3",
            "mu": "6",
            "prob": 1.2
           },
           {
            "ht": "4",
            "mu": "4",
            "prob": 4.6
           },
           {
            "ht": "4",
            "mu": "5",
            "prob": 4
           },
           {
            "ht": "4",
            "mu": "6",
            "prob": 2.6
           },
           {
            "ht": "4",
            "mu": "7",
            "prob": 1.2
           },
           {
            "ht": "5",
            "mu": "4",
            "prob": 3.9
           },
           {
            "ht": "5",
            "mu": "5",
            "prob": 4.6
           },
           {
            "ht": "5",
            "mu": "6",
            "prob": 4
           },
           {
            "ht": "5",
            "mu": "7",
            "prob": 2.6
           },
           {
            "ht": "5",
            "mu": "8",
            "prob": 1.2
           },
           {
            "ht": "6",
            "mu": "4",
            "prob": 2.5
           },
           {
            "ht": "6",
            "mu": "5",
            "prob": 3.9
           },
           {
            "ht": "6",
            "mu": "6",
            "prob": 4.6
           },
           {
            "ht": "6",
            "mu": "7",
            "prob": 4
           },
           {
            "ht": "6",
            "mu": "8",
            "prob": 2.6
           },
           {
            "ht": "7",
            "mu": "4",
            "prob": 1.2
           },
           {
            "ht": "7",
            "mu": "5",
            "prob": 2.5
           },
           {
            "ht": "7",
            "mu": "6",
            "prob": 3.9
           },
           {
            "ht": "7",
            "mu": "7",
            "prob": 4.6
           },
           {
            "ht": "7",
            "mu": "8",
            "prob": 4
           },
           {
            "ht": "8",
            "mu": "5",
            "prob": 1.2
           },
           {
            "ht": "8",
            "mu": "6",
            "prob": 2.5
           },
           {
            "ht": "8",
            "mu": "7",
            "prob": 3.9
           },
           {
            "ht": "8",
            "mu": "8",
            "prob": 4.6
           },
           {
            "ht": "9",
            "mu": "6",
            "prob": 1.2
           },
           {
            "ht": "9",
            "mu": "7",
            "prob": 2.5
           },
           {
            "ht": "9",
            "mu": "8",
            "prob": 3.9
           },
           {
            "ht": "10",
            "mu": "7",
            "prob": 1.2
           },
           {
            "ht": "10",
            "mu": "8",
            "prob": 2.5
           },
           {
            "ht": "11",
            "mu": "8",
            "prob": 1.2
           }
          ]
         },
         "spacing": 15,
         "vconcat": [
          {
           "encoding": {
            "x": {
             "axis": null,
             "field": "mu",
             "scale": {
              "domain": [
               "1",
               "2",
               "3",
               "4",
               "5",
               "6",
               "7",
               "8",
               "9",
               "10",
               "11"
              ],
              "rangeStep": 30
             },
             "sort": null,
             "type": "ordinal"
            },
            "y": {
             "aggregate": "sum",
             "axis": {
              "title": "Prob"
             },
             "field": "prob",
             "type": "quantitative"
            }
           },
           "height": 60,
           "mark": "bar"
          },
          {
           "bounds": "flush",
           "hconcat": [
            {
             "encoding": {
              "x": {
               "axis": {
                "labelAngle": -55
               },
               "field": "mu",
               "scale": {
                "domain": [
                 "1",
                 "2",
                 "3",
                 "4",
                 "5",
                 "6",
                 "7",
                 "8",
                 "9",
                 "10",
                 "11"
                ],
                "rangeStep": 30
               },
               "sort": null,
               "type": "ordinal"
              },
              "y": {
               "axis": {
                "labelAngle": 0
               },
               "field": "ht",
               "scale": {
                "domain": [
                 "11",
                 "10",
                 "9",
                 "8",
                 "7",
                 "6",
                 "5",
                 "4",
                 "3",
                 "2",
                 "1"
                ],
                "rangeStep": 30
               },
               "sort": null,
               "type": "ordinal"
              }
             },
             "layer": [
              {
               "encoding": {
                "color": {
                 "aggregate": "sum",
                 "field": "prob",
                 "legend": null,
                 "scale": {
                  "scheme": {
                   "extent": [
                    0.2,
                    0.9
                   ],
                   "name": "blues"
                  }
                 },
                 "type": "quantitative"
                }
               },
               "mark": "rect"
              },
              {
               "encoding": {
                "color": {
                 "value": "white"
                },
                "text": {
                 "aggregate": "sum",
                 "field": "prob",
                 "type": "quantitative"
                }
               },
               "mark": {
                "fontSize": 9,
                "type": "text"
               }
              },
              {
               "data": {
                "values": [
                 {
                  "vals": "1"
                 },
                 {
                  "vals": "2"
                 },
                 {
                  "vals": "3"
                 },
                 {
                  "vals": "4"
                 },
                 {
                  "vals": "5"
                 },
                 {
                  "vals": "6"
                 },
                 {
                  "vals": "7"
                 },
                 {
                  "vals": "8"
                 },
                 {
                  "vals": "9"
                 },
                 {
                  "vals": "10"
                 },
                 {
                  "vals": "11"
                 }
                ]
               },
               "encoding": {
                "x": {
                 "field": "vals",
                 "sort": null,
                 "type": "ordinal"
                },
                "y": {
                 "field": "vals",
                 "sort": null,
                 "type": "ordinal"
                }
               },
               "mark": {
                "opacity": 0.5,
                "stroke": "firebrick",
                "strokeWidth": 2,
                "type": "line"
               }
              }
             ]
            },
            {
             "encoding": {
              "x": {
               "aggregate": "sum",
               "axis": {
                "title": "Prob"
               },
               "field": "prob",
               "type": "quantitative"
              },
              "y": {
               "axis": null,
               "field": "ht",
               "scale": {
                "domain": [
                 "11",
                 "10",
                 "9",
                 "8",
                 "7",
                 "6",
                 "5",
                 "4",
                 "3",
                 "2",
                 "1"
                ],
                "rangeStep": 30
               },
               "sort": null,
               "type": "ordinal"
              }
             },
             "mark": "bar",
             "width": 60
            }
           ],
           "spacing": 15
          }
         ]
        }
       ],
       "spacing": 50
      },
      "image/png": "[encoded data removed]"
     },
     "metadata": {},
     "output_type": "display_data"
    }
   ],
   "source": [
    "writeIORef cacheRefTall (0, Map.empty)\n",
    "writeIORef cacheRefShrt (0, Map.empty)\n",
    "writeIORef cacheRefNone (0, Map.empty)\n",
    "\n",
    "mkGraph m = do\n",
    "  heat <- enumD (first ht <$> m)\n",
    "  return $ margHeatFromDist heat\n",
    "--   bar  <- enumD (lexID    . snd <$> m)\n",
    "--   return $ toVegaLite\n",
    "--     [ center True\n",
    "--     , vConcat [fromVL (margHeatFromDist heat), fromVL (sdBarFromDist sigma bar)]\n",
    "--     ]\n",
    "    \n",
    "vlShow . sidewaysDists <$> traverse mkGraph\n",
    "  [ listener infoQFPos cacheRefTall (1, UTall, 6)\n",
    "  , listener infoQFPos cacheRefShrt (1, UShrt, 6)\n",
    "  , listener infoQFPos cacheRefNone (1, UNone, 6)\n",
    "  ]"
   ]
  },
  {
   "cell_type": "code",
   "execution_count": 91,
   "metadata": {},
   "outputs": [],
   "source": [
    "lexPriorDem :: (Int -> Model World) -> Int -> Model Lexicon\n",
    "lexPriorDem genWorldModel mu =\n",
    "  do let plaus = [mu - sigma .. mu + sigma]\n",
    "         cands = filter (\\w -> ht w `elem` plaus) universe\n",
    "     (t,s) <- unif [(t,s) | t <- plaus, s <- plaus, t >= s]\n",
    "     let f UNone = cands\n",
    "         f UTall = filter (\\w -> 6 >= t && ht w == 6) cands\n",
    "         f UShrt = filter (\\w -> 6 <= s && ht w == 6) cands\n",
    "     ut <- lift $ utility (Lex (t,s) f) (genWorldModel mu)\n",
    "     weight $ lambda * ut\n",
    "     return (Lex (t,s) f)"
   ]
  },
  {
   "cell_type": "code",
   "execution_count": 93,
   "metadata": {},
   "outputs": [],
   "source": [
    "infoQFDem = infoQFBaseline {lp = lexPriorDem worldPriorNormal}"
   ]
  },
  {
   "cell_type": "code",
   "execution_count": 96,
   "metadata": {},
   "outputs": [
    {
     "data": {
      "application/vnd.vegalite.v2+json": {
       "$schema": "https://vega.github.io/schema/vega-lite/v3.json",
       "hconcat": [
        {
         "$schema": "https://vega.github.io/schema/vega-lite/v3.json",
         "bounds": "flush",
         "config": {
          "scale": {
           "rectBandPaddingInner": 0
          }
         },
         "data": {
          "values": [
           {
            "ht": "1",
            "mu": "4",
            "prob": 0
           },
           {
            "ht": "2",
            "mu": "4",
            "prob": 0
           },
           {
            "ht": "2",
            "mu": "5",
            "prob": 0
           },
           {
            "ht": "3",
            "mu": "4",
            "prob": 0
           },
           {
            "ht": "3",
            "mu": "5",
            "prob": 0
           },
           {
            "ht": "3",
            "mu": "6",
            "prob": 0
           },
           {
            "ht": "4",
            "mu": "4",
            "prob": 0
           },
           {
            "ht": "4",
            "mu": "5",
            "prob": 0
           },
           {
            "ht": "4",
            "mu": "6",
            "prob": 0
           },
           {
            "ht": "4",
            "mu": "7",
            "prob": 0
           },
           {
            "ht": "5",
            "mu": "4",
            "prob": 0
           },
           {
            "ht": "5",
            "mu": "5",
            "prob": 0
           },
           {
            "ht": "5",
            "mu": "6",
            "prob": 0
           },
           {
            "ht": "5",
            "mu": "7",
            "prob": 0
           },
           {
            "ht": "5",
            "mu": "8",
            "prob": 0
           },
           {
            "ht": "6",
            "mu": "4",
            "prob": 26.4
           },
           {
            "ht": "6",
            "mu": "5",
            "prob": 31.7
           },
           {
            "ht": "6",
            "mu": "6",
            "prob": 25.4
           },
           {
            "ht": "6",
            "mu": "7",
            "prob": 12.8
           },
           {
            "ht": "6",
            "mu": "8",
            "prob": 3.8
           },
           {
            "ht": "7",
            "mu": "4",
            "prob": 0
           },
           {
            "ht": "7",
            "mu": "5",
            "prob": 0
           },
           {
            "ht": "7",
            "mu": "6",
            "prob": 0
           },
           {
            "ht": "7",
            "mu": "7",
            "prob": 0
           },
           {
            "ht": "7",
            "mu": "8",
            "prob": 0
           },
           {
            "ht": "8",
            "mu": "5",
            "prob": 0
           },
           {
            "ht": "8",
            "mu": "6",
            "prob": 0
           },
           {
            "ht": "8",
            "mu": "7",
            "prob": 0
           },
           {
            "ht": "8",
            "mu": "8",
            "prob": 0
           },
           {
            "ht": "9",
            "mu": "6",
            "prob": 0
           },
           {
            "ht": "9",
            "mu": "7",
            "prob": 0
           },
           {
            "ht": "9",
            "mu": "8",
            "prob": 0
           },
           {
            "ht": "10",
            "mu": "7",
            "prob": 0
           },
           {
            "ht": "10",
            "mu": "8",
            "prob": 0
           },
           {
            "ht": "11",
            "mu": "8",
            "prob": 0
           }
          ]
         },
         "spacing": 15,
         "vconcat": [
          {
           "encoding": {
            "x": {
             "axis": null,
             "field": "mu",
             "scale": {
              "domain": [
               "1",
               "2",
               "3",
               "4",
               "5",
               "6",
               "7",
               "8",
               "9",
               "10",
               "11"
              ],
              "rangeStep": 30
             },
             "sort": null,
             "type": "ordinal"
            },
            "y": {
             "aggregate": "sum",
             "axis": {
              "title": "Prob"
             },
             "field": "prob",
             "type": "quantitative"
            }
           },
           "height": 60,
           "mark": "bar"
          },
          {
           "bounds": "flush",
           "hconcat": [
            {
             "encoding": {
              "x": {
               "axis": {
                "labelAngle": -55
               },
               "field": "mu",
               "scale": {
                "domain": [
                 "1",
                 "2",
                 "3",
                 "4",
                 "5",
                 "6",
                 "7",
                 "8",
                 "9",
                 "10",
                 "11"
                ],
                "rangeStep": 30
               },
               "sort": null,
               "type": "ordinal"
              },
              "y": {
               "axis": {
                "labelAngle": 0
               },
               "field": "ht",
               "scale": {
                "domain": [
                 "11",
                 "10",
                 "9",
                 "8",
                 "7",
                 "6",
                 "5",
                 "4",
                 "3",
                 "2",
                 "1"
                ],
                "rangeStep": 30
               },
               "sort": null,
               "type": "ordinal"
              }
             },
             "layer": [
              {
               "encoding": {
                "color": {
                 "aggregate": "sum",
                 "field": "prob",
                 "legend": null,
                 "scale": {
                  "scheme": {
                   "extent": [
                    0.2,
                    0.9
                   ],
                   "name": "blues"
                  }
                 },
                 "type": "quantitative"
                }
               },
               "mark": "rect"
              },
              {
               "encoding": {
                "color": {
                 "value": "white"
                },
                "text": {
                 "aggregate": "sum",
                 "field": "prob",
                 "type": "quantitative"
                }
               },
               "mark": {
                "fontSize": 9,
                "type": "text"
               }
              },
              {
               "data": {
                "values": [
                 {
                  "vals": "1"
                 },
                 {
                  "vals": "2"
                 },
                 {
                  "vals": "3"
                 },
                 {
                  "vals": "4"
                 },
                 {
                  "vals": "5"
                 },
                 {
                  "vals": "6"
                 },
                 {
                  "vals": "7"
                 },
                 {
                  "vals": "8"
                 },
                 {
                  "vals": "9"
                 },
                 {
                  "vals": "10"
                 },
                 {
                  "vals": "11"
                 }
                ]
               },
               "encoding": {
                "x": {
                 "field": "vals",
                 "sort": null,
                 "type": "ordinal"
                },
                "y": {
                 "field": "vals",
                 "sort": null,
                 "type": "ordinal"
                }
               },
               "mark": {
                "opacity": 0.5,
                "stroke": "firebrick",
                "strokeWidth": 2,
                "type": "line"
               }
              }
             ]
            },
            {
             "encoding": {
              "x": {
               "aggregate": "sum",
               "axis": {
                "title": "Prob"
               },
               "field": "prob",
               "type": "quantitative"
              },
              "y": {
               "axis": null,
               "field": "ht",
               "scale": {
                "domain": [
                 "11",
                 "10",
                 "9",
                 "8",
                 "7",
                 "6",
                 "5",
                 "4",
                 "3",
                 "2",
                 "1"
                ],
                "rangeStep": 30
               },
               "sort": null,
               "type": "ordinal"
              }
             },
             "mark": "bar",
             "width": 60
            }
           ],
           "spacing": 15
          }
         ]
        },
        {
         "$schema": "https://vega.github.io/schema/vega-lite/v3.json",
         "bounds": "flush",
         "config": {
          "scale": {
           "rectBandPaddingInner": 0
          }
         },
         "data": {
          "values": [
           {
            "ht": "1",
            "mu": "4",
            "prob": 0
           },
           {
            "ht": "2",
            "mu": "4",
            "prob": 0
           },
           {
            "ht": "2",
            "mu": "5",
            "prob": 0
           },
           {
            "ht": "3",
            "mu": "4",
            "prob": 0
           },
           {
            "ht": "3",
            "mu": "5",
            "prob": 0
           },
           {
            "ht": "3",
            "mu": "6",
            "prob": 0
           },
           {
            "ht": "4",
            "mu": "4",
            "prob": 0
           },
           {
            "ht": "4",
            "mu": "5",
            "prob": 0
           },
           {
            "ht": "4",
            "mu": "6",
            "prob": 0
           },
           {
            "ht": "4",
            "mu": "7",
            "prob": 0
           },
           {
            "ht": "5",
            "mu": "4",
            "prob": 0
           },
           {
            "ht": "5",
            "mu": "5",
            "prob": 0
           },
           {
            "ht": "5",
            "mu": "6",
            "prob": 0
           },
           {
            "ht": "5",
            "mu": "7",
            "prob": 0
           },
           {
            "ht": "5",
            "mu": "8",
            "prob": 0
           },
           {
            "ht": "6",
            "mu": "4",
            "prob": 3.8
           },
           {
            "ht": "6",
            "mu": "5",
            "prob": 12.6
           },
           {
            "ht": "6",
            "mu": "6",
            "prob": 25.3
           },
           {
            "ht": "6",
            "mu": "7",
            "prob": 31.8
           },
           {
            "ht": "6",
            "mu": "8",
            "prob": 26.6
           },
           {
            "ht": "7",
            "mu": "4",
            "prob": 0
           },
           {
            "ht": "7",
            "mu": "5",
            "prob": 0
           },
           {
            "ht": "7",
            "mu": "6",
            "prob": 0
           },
           {
            "ht": "7",
            "mu": "7",
            "prob": 0
           },
           {
            "ht": "7",
            "mu": "8",
            "prob": 0
           },
           {
            "ht": "8",
            "mu": "5",
            "prob": 0
           },
           {
            "ht": "8",
            "mu": "6",
            "prob": 0
           },
           {
            "ht": "8",
            "mu": "7",
            "prob": 0
           },
           {
            "ht": "8",
            "mu": "8",
            "prob": 0
           },
           {
            "ht": "9",
            "mu": "6",
            "prob": 0
           },
           {
            "ht": "9",
            "mu": "7",
            "prob": 0
           },
           {
            "ht": "9",
            "mu": "8",
            "prob": 0
           },
           {
            "ht": "10",
            "mu": "7",
            "prob": 0
           },
           {
            "ht": "10",
            "mu": "8",
            "prob": 0
           },
           {
            "ht": "11",
            "mu": "8",
            "prob": 0
           }
          ]
         },
         "spacing": 15,
         "vconcat": [
          {
           "encoding": {
            "x": {
             "axis": null,
             "field": "mu",
             "scale": {
              "domain": [
               "1",
               "2",
               "3",
               "4",
               "5",
               "6",
               "7",
               "8",
               "9",
               "10",
               "11"
              ],
              "rangeStep": 30
             },
             "sort": null,
             "type": "ordinal"
            },
            "y": {
             "aggregate": "sum",
             "axis": {
              "title": "Prob"
             },
             "field": "prob",
             "type": "quantitative"
            }
           },
           "height": 60,
           "mark": "bar"
          },
          {
           "bounds": "flush",
           "hconcat": [
            {
             "encoding": {
              "x": {
               "axis": {
                "labelAngle": -55
               },
               "field": "mu",
               "scale": {
                "domain": [
                 "1",
                 "2",
                 "3",
                 "4",
                 "5",
                 "6",
                 "7",
                 "8",
                 "9",
                 "10",
                 "11"
                ],
                "rangeStep": 30
               },
               "sort": null,
               "type": "ordinal"
              },
              "y": {
               "axis": {
                "labelAngle": 0
               },
               "field": "ht",
               "scale": {
                "domain": [
                 "11",
                 "10",
                 "9",
                 "8",
                 "7",
                 "6",
                 "5",
                 "4",
                 "3",
                 "2",
                 "1"
                ],
                "rangeStep": 30
               },
               "sort": null,
               "type": "ordinal"
              }
             },
             "layer": [
              {
               "encoding": {
                "color": {
                 "aggregate": "sum",
                 "field": "prob",
                 "legend": null,
                 "scale": {
                  "scheme": {
                   "extent": [
                    0.2,
                    0.9
                   ],
                   "name": "blues"
                  }
                 },
                 "type": "quantitative"
                }
               },
               "mark": "rect"
              },
              {
               "encoding": {
                "color": {
                 "value": "white"
                },
                "text": {
                 "aggregate": "sum",
                 "field": "prob",
                 "type": "quantitative"
                }
               },
               "mark": {
                "fontSize": 9,
                "type": "text"
               }
              },
              {
               "data": {
                "values": [
                 {
                  "vals": "1"
                 },
                 {
                  "vals": "2"
                 },
                 {
                  "vals": "3"
                 },
                 {
                  "vals": "4"
                 },
                 {
                  "vals": "5"
                 },
                 {
                  "vals": "6"
                 },
                 {
                  "vals": "7"
                 },
                 {
                  "vals": "8"
                 },
                 {
                  "vals": "9"
                 },
                 {
                  "vals": "10"
                 },
                 {
                  "vals": "11"
                 }
                ]
               },
               "encoding": {
                "x": {
                 "field": "vals",
                 "sort": null,
                 "type": "ordinal"
                },
                "y": {
                 "field": "vals",
                 "sort": null,
                 "type": "ordinal"
                }
               },
               "mark": {
                "opacity": 0.5,
                "stroke": "firebrick",
                "strokeWidth": 2,
                "type": "line"
               }
              }
             ]
            },
            {
             "encoding": {
              "x": {
               "aggregate": "sum",
               "axis": {
                "title": "Prob"
               },
               "field": "prob",
               "type": "quantitative"
              },
              "y": {
               "axis": null,
               "field": "ht",
               "scale": {
                "domain": [
                 "11",
                 "10",
                 "9",
                 "8",
                 "7",
                 "6",
                 "5",
                 "4",
                 "3",
                 "2",
                 "1"
                ],
                "rangeStep": 30
               },
               "sort": null,
               "type": "ordinal"
              }
             },
             "mark": "bar",
             "width": 60
            }
           ],
           "spacing": 15
          }
         ]
        },
        {
         "$schema": "https://vega.github.io/schema/vega-lite/v3.json",
         "bounds": "flush",
         "config": {
          "scale": {
           "rectBandPaddingInner": 0
          }
         },
         "data": {
          "values": [
           {
            "ht": "1",
            "mu": "4",
            "prob": 1.2
           },
           {
            "ht": "2",
            "mu": "4",
            "prob": 2.5
           },
           {
            "ht": "2",
            "mu": "5",
            "prob": 1.2
           },
           {
            "ht": "3",
            "mu": "4",
            "prob": 4
           },
           {
            "ht": "3",
            "mu": "5",
            "prob": 2.5
           },
           {
            "ht": "3",
            "mu": "6",
            "prob": 1.2
           },
           {
            "ht": "4",
            "mu": "4",
            "prob": 4.6
           },
           {
            "ht": "4",
            "mu": "5",
            "prob": 4
           },
           {
            "ht": "4",
            "mu": "6",
            "prob": 2.5
           },
           {
            "ht": "4",
            "mu": "7",
            "prob": 1.2
           },
           {
            "ht": "5",
            "mu": "4",
            "prob": 4
           },
           {
            "ht": "5",
            "mu": "5",
            "prob": 4.6
           },
           {
            "ht": "5",
            "mu": "6",
            "prob": 4
           },
           {
            "ht": "5",
            "mu": "7",
            "prob": 2.5
           },
           {
            "ht": "5",
            "mu": "8",
            "prob": 1.2
           },
           {
            "ht": "6",
            "mu": "4",
            "prob": 2.5
           },
           {
            "ht": "6",
            "mu": "5",
            "prob": 3.9
           },
           {
            "ht": "6",
            "mu": "6",
            "prob": 4.5
           },
           {
            "ht": "6",
            "mu": "7",
            "prob": 3.9
           },
           {
            "ht": "6",
            "mu": "8",
            "prob": 2.5
           },
           {
            "ht": "7",
            "mu": "4",
            "prob": 1.2
           },
           {
            "ht": "7",
            "mu": "5",
            "prob": 2.5
           },
           {
            "ht": "7",
            "mu": "6",
            "prob": 4
           },
           {
            "ht": "7",
            "mu": "7",
            "prob": 4.6
           },
           {
            "ht": "7",
            "mu": "8",
            "prob": 4
           },
           {
            "ht": "8",
            "mu": "5",
            "prob": 1.2
           },
           {
            "ht": "8",
            "mu": "6",
            "prob": 2.5
           },
           {
            "ht": "8",
            "mu": "7",
            "prob": 4
           },
           {
            "ht": "8",
            "mu": "8",
            "prob": 4.6
           },
           {
            "ht": "9",
            "mu": "6",
            "prob": 1.2
           },
           {
            "ht": "9",
            "mu": "7",
            "prob": 2.5
           },
           {
            "ht": "9",
            "mu": "8",
            "prob": 4
           },
           {
            "ht": "10",
            "mu": "7",
            "prob": 1.2
           },
           {
            "ht": "10",
            "mu": "8",
            "prob": 2.5
           },
           {
            "ht": "11",
            "mu": "8",
            "prob": 1.2
           }
          ]
         },
         "spacing": 15,
         "vconcat": [
          {
           "encoding": {
            "x": {
             "axis": null,
             "field": "mu",
             "scale": {
              "domain": [
               "1",
               "2",
               "3",
               "4",
               "5",
               "6",
               "7",
               "8",
               "9",
               "10",
               "11"
              ],
              "rangeStep": 30
             },
             "sort": null,
             "type": "ordinal"
            },
            "y": {
             "aggregate": "sum",
             "axis": {
              "title": "Prob"
             },
             "field": "prob",
             "type": "quantitative"
            }
           },
           "height": 60,
           "mark": "bar"
          },
          {
           "bounds": "flush",
           "hconcat": [
            {
             "encoding": {
              "x": {
               "axis": {
                "labelAngle": -55
               },
               "field": "mu",
               "scale": {
                "domain": [
                 "1",
                 "2",
                 "3",
                 "4",
                 "5",
                 "6",
                 "7",
                 "8",
                 "9",
                 "10",
                 "11"
                ],
                "rangeStep": 30
               },
               "sort": null,
               "type": "ordinal"
              },
              "y": {
               "axis": {
                "labelAngle": 0
               },
               "field": "ht",
               "scale": {
                "domain": [
                 "11",
                 "10",
                 "9",
                 "8",
                 "7",
                 "6",
                 "5",
                 "4",
                 "3",
                 "2",
                 "1"
                ],
                "rangeStep": 30
               },
               "sort": null,
               "type": "ordinal"
              }
             },
             "layer": [
              {
               "encoding": {
                "color": {
                 "aggregate": "sum",
                 "field": "prob",
                 "legend": null,
                 "scale": {
                  "scheme": {
                   "extent": [
                    0.2,
                    0.9
                   ],
                   "name": "blues"
                  }
                 },
                 "type": "quantitative"
                }
               },
               "mark": "rect"
              },
              {
               "encoding": {
                "color": {
                 "value": "white"
                },
                "text": {
                 "aggregate": "sum",
                 "field": "prob",
                 "type": "quantitative"
                }
               },
               "mark": {
                "fontSize": 9,
                "type": "text"
               }
              },
              {
               "data": {
                "values": [
                 {
                  "vals": "1"
                 },
                 {
                  "vals": "2"
                 },
                 {
                  "vals": "3"
                 },
                 {
                  "vals": "4"
                 },
                 {
                  "vals": "5"
                 },
                 {
                  "vals": "6"
                 },
                 {
                  "vals": "7"
                 },
                 {
                  "vals": "8"
                 },
                 {
                  "vals": "9"
                 },
                 {
                  "vals": "10"
                 },
                 {
                  "vals": "11"
                 }
                ]
               },
               "encoding": {
                "x": {
                 "field": "vals",
                 "sort": null,
                 "type": "ordinal"
                },
                "y": {
                 "field": "vals",
                 "sort": null,
                 "type": "ordinal"
                }
               },
               "mark": {
                "opacity": 0.5,
                "stroke": "firebrick",
                "strokeWidth": 2,
                "type": "line"
               }
              }
             ]
            },
            {
             "encoding": {
              "x": {
               "aggregate": "sum",
               "axis": {
                "title": "Prob"
               },
               "field": "prob",
               "type": "quantitative"
              },
              "y": {
               "axis": null,
               "field": "ht",
               "scale": {
                "domain": [
                 "11",
                 "10",
                 "9",
                 "8",
                 "7",
                 "6",
                 "5",
                 "4",
                 "3",
                 "2",
                 "1"
                ],
                "rangeStep": 30
               },
               "sort": null,
               "type": "ordinal"
              }
             },
             "mark": "bar",
             "width": 60
            }
           ],
           "spacing": 15
          }
         ]
        }
       ],
       "spacing": 50
      },
      "image/png": "[encoded data removed]"
     },
     "metadata": {},
     "output_type": "display_data"
    }
   ],
   "source": [
    "writeIORef cacheRefTall (0, Map.empty)\n",
    "writeIORef cacheRefShrt (0, Map.empty)\n",
    "writeIORef cacheRefNone (0, Map.empty)\n",
    "\n",
    "mkGraph m = do\n",
    "  heat <- enumD (first ht <$> m)\n",
    "  return $ margHeatFromDist heat\n",
    "--   bar  <- enumD (lexID    . snd <$> m)\n",
    "--   return $ toVegaLite\n",
    "--     [ center True\n",
    "--     , vConcat [fromVL (margHeatFromDist heat), fromVL (sdBarFromDist sigma bar)]\n",
    "--     ]\n",
    "    \n",
    "vlShow . sidewaysDists <$> traverse mkGraph\n",
    "  [ listener infoQFDem cacheRefTall (1, UTall, 6)\n",
    "  , listener infoQFDem cacheRefShrt (1, UShrt, 6)\n",
    "  , listener infoQFDem cacheRefNone (1, UNone, 6)\n",
    "  ]"
   ]
  },
  {
   "cell_type": "code",
   "execution_count": null,
   "metadata": {},
   "outputs": [],
   "source": []
  }
 ],
 "metadata": {
  "kernelspec": {
   "display_name": "Haskell",
   "language": "haskell",
   "name": "haskell"
  },
  "language_info": {
   "codemirror_mode": "ihaskell",
   "file_extension": ".hs",
   "name": "haskell",
   "pygments_lexer": "Haskell",
   "version": "8.6.5"
  }
 },
 "nbformat": 4,
 "nbformat_minor": 4
}
