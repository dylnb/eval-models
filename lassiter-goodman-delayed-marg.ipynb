{
 "cells": [
  {
   "cell_type": "code",
   "execution_count": 33,
   "metadata": {},
   "outputs": [],
   "source": [
    "import Utils\n",
    "import Data.Tuple.Extra (uncurry3)\n",
    "import Data.Bool (bool)\n",
    "import Data.List (sortOn)\n",
    "import Data.Ord (Down(..))\n",
    "import Data.Function (on, (&))\n",
    "import Data.Maybe (fromJust)\n",
    "import Control.Monad.Trans.Class (lift)"
   ]
  },
  {
   "cell_type": "code",
   "execution_count": 34,
   "metadata": {},
   "outputs": [],
   "source": [
    "import Tyche.Model\n",
    "import Tyche.Dist\n",
    "import Tyche.Prelude\n",
    "import Tyche.Prob\n",
    "import Tyche.Inference.Enumerate"
   ]
  },
  {
   "cell_type": "code",
   "execution_count": 35,
   "metadata": {},
   "outputs": [],
   "source": [
    "import Graphics.Vega.VegaLite hiding (filter, lookup, repeat, FontWeight(Normal))\n",
    "import qualified Graphics.Vega.VegaLite as VL (filter, lookup, repeat, FontWeight(Normal))"
   ]
  },
  {
   "cell_type": "code",
   "execution_count": 36,
   "metadata": {},
   "outputs": [],
   "source": [
    "data World = World {label :: String, price :: Double} deriving Eq\n",
    "\n",
    "instance Ord World where\n",
    "  w <= w' = price w <= price w'\n",
    "\n",
    "instance Show World where\n",
    "  show (World l _) = l\n",
    "  \n",
    "type Prop = [World]\n",
    "\n",
    "prices = [(2,0.05), (6,0.10), (10,0.15), (14,0.20), (18,0.20), (22,0.15), (26,0.10), (30,0.05)]\n",
    "universe = [World (\"w\" ++ show i) i | (i,_) <- prices]"
   ]
  },
  {
   "cell_type": "code",
   "execution_count": 37,
   "metadata": {},
   "outputs": [],
   "source": [
    "worldPrior :: Model World\n",
    "worldPrior = do\n",
    "  w <- unif universe\n",
    "  weight . log . fromJust $ lookup (price w) prices \n",
    "  return w"
   ]
  },
  {
   "cell_type": "code",
   "execution_count": 38,
   "metadata": {},
   "outputs": [
    {
     "data": {
      "application/vnd.vegalite.v2+json": {
       "$schema": "https://vega.github.io/schema/vega-lite/v3.json",
       "data": {
        "values": [
         {
          "outcome": "w2.0",
          "probability": 0.04999999999999998
         },
         {
          "outcome": "w6.0",
          "probability": 0.09999999999999998
         },
         {
          "outcome": "w10.0",
          "probability": 0.14999999999999994
         },
         {
          "outcome": "w14.0",
          "probability": 0.19999999999999998
         },
         {
          "outcome": "w18.0",
          "probability": 0.19999999999999998
         },
         {
          "outcome": "w22.0",
          "probability": 0.14999999999999994
         },
         {
          "outcome": "w26.0",
          "probability": 0.09999999999999998
         },
         {
          "outcome": "w30.0",
          "probability": 0.04999999999999998
         }
        ]
       },
       "description": "",
       "encoding": {
        "x": {
         "axis": {
          "labelAngle": -55
         },
         "field": "outcome",
         "scale": {
          "rangeStep": 30
         },
         "sort": null,
         "type": "ordinal"
        },
        "y": {
         "field": "probability",
         "type": "quantitative"
        }
       },
       "mark": "bar"
      },
      "image/png": "[encoded data removed]"
     },
     "metadata": {},
     "output_type": "display_data"
    }
   ],
   "source": [
    "vlShow . barFromDist <$> enumD worldPrior"
   ]
  },
  {
   "cell_type": "code",
   "execution_count": 39,
   "metadata": {},
   "outputs": [
    {
     "data": {
      "application/vnd.vegalite.v2+json": {
       "$schema": "https://vega.github.io/schema/vega-lite/v3.json",
       "layer": [
        {
         "$schema": "https://vega.github.io/schema/vega-lite/v3.json",
         "data": {
          "values": [
           {
            "outcome": "2.0",
            "probability": 0.12500000000000003
           },
           {
            "outcome": "6.0",
            "probability": 0.12500000000000003
           },
           {
            "outcome": "10.0",
            "probability": 0.12500000000000003
           },
           {
            "outcome": "14.0",
            "probability": 0.12500000000000003
           },
           {
            "outcome": "18.0",
            "probability": 0.12500000000000003
           },
           {
            "outcome": "22.0",
            "probability": 0.12500000000000003
           },
           {
            "outcome": "26.0",
            "probability": 0.12500000000000003
           },
           {
            "outcome": "30.0",
            "probability": 0.12500000000000003
           }
          ]
         },
         "description": "",
         "encoding": {
          "x": {
           "axis": {
            "labelAngle": -55
           },
           "field": "outcome",
           "scale": {
            "rangeStep": 30
           },
           "sort": null,
           "type": "ordinal"
          },
          "y": {
           "field": "probability",
           "type": "quantitative"
          }
         },
         "mark": "bar"
        }
       ],
       "title": "Expensiveness Prior"
      },
      "image/png": "[encoded data removed]"
     },
     "metadata": {},
     "output_type": "display_data"
    }
   ],
   "source": [
    "thresholdPrior :: Model Double\n",
    "thresholdPrior = unif [price w | w <- universe]\n",
    "\n",
    "vlShow . titled \"Expensiveness Prior\" . barFromDist <$> enumD thresholdPrior"
   ]
  },
  {
   "cell_type": "code",
   "execution_count": 40,
   "metadata": {},
   "outputs": [],
   "source": [
    "alpha :: Double\n",
    "alpha = 4\n",
    "\n",
    "data Utt = UMum | UExp -- | UChp\n",
    "  deriving (Eq, Show, Ord, Enum, Bounded)\n",
    "\n",
    "utterances = [minBound .. maxBound]\n",
    "\n",
    "cost :: Utt -> Double\n",
    "cost UMum = 0\n",
    "cost UExp = 1\n",
    "-- cost UChp = 1\n",
    "\n",
    "utterancePrior :: Model Utt\n",
    "utterancePrior = belief . fromList $ [(u, - alpha * cost u) | u <- utterances]"
   ]
  },
  {
   "cell_type": "code",
   "execution_count": 42,
   "metadata": {},
   "outputs": [
    {
     "data": {
      "application/vnd.vegalite.v2+json": {
       "$schema": "https://vega.github.io/schema/vega-lite/v3.json",
       "data": {
        "values": [
         {
          "outcome": "UMum",
          "probability": 0.9820137900379085
         },
         {
          "outcome": "UExp",
          "probability": 0.017986209962091562
         }
        ]
       },
       "description": "",
       "encoding": {
        "x": {
         "axis": {
          "labelAngle": -55
         },
         "field": "outcome",
         "scale": {
          "rangeStep": 30
         },
         "sort": null,
         "type": "ordinal"
        },
        "y": {
         "field": "probability",
         "type": "quantitative"
        }
       },
       "mark": "bar"
      },
      "image/png": "[encoded data removed]"
     },
     "metadata": {},
     "output_type": "display_data"
    }
   ],
   "source": [
    "vlShow . barFromDist <$> enumD utterancePrior"
   ]
  },
  {
   "cell_type": "code",
   "execution_count": 43,
   "metadata": {},
   "outputs": [],
   "source": [
    "den :: Utt -> Double -> Prop\n",
    "den UMum _ = universe\n",
    "den UExp d = filter ((>= d) . price) universe\n",
    "-- den UChp (tl,sh) = filter ((<= sh) . price) universe"
   ]
  },
  {
   "cell_type": "code",
   "execution_count": 44,
   "metadata": {},
   "outputs": [],
   "source": [
    "literal :: Utt -> Double -> Model (World, Double)\n",
    "literal u d = do\n",
    "  w <- worldPrior\n",
    "  condition (w `elem` den u d)\n",
    "  return (w, d)"
   ]
  },
  {
   "cell_type": "markdown",
   "metadata": {},
   "source": [
    "Even a literal listener ought to be somewhat evaluative!"
   ]
  },
  {
   "cell_type": "markdown",
   "metadata": {},
   "source": [
    "> \"Expensive\""
   ]
  },
  {
   "cell_type": "code",
   "execution_count": 46,
   "metadata": {},
   "outputs": [
    {
     "data": {
      "application/vnd.vegalite.v2+json": {
       "$schema": "https://vega.github.io/schema/vega-lite/v3.json",
       "hconcat": [
        {
         "$schema": "https://vega.github.io/schema/vega-lite/v3.json",
         "layer": [
          {
           "$schema": "https://vega.github.io/schema/vega-lite/v3.json",
           "data": {
            "values": [
             {
              "outcome": "w2.0",
              "probability": 0.04999999999999998
             },
             {
              "outcome": "w6.0",
              "probability": 0.09999999999999998
             },
             {
              "outcome": "w10.0",
              "probability": 0.14999999999999994
             },
             {
              "outcome": "w14.0",
              "probability": 0.19999999999999998
             },
             {
              "outcome": "w18.0",
              "probability": 0.19999999999999998
             },
             {
              "outcome": "w22.0",
              "probability": 0.14999999999999994
             },
             {
              "outcome": "w26.0",
              "probability": 0.09999999999999998
             },
             {
              "outcome": "w30.0",
              "probability": 0.04999999999999998
             }
            ]
           },
           "description": "",
           "encoding": {
            "x": {
             "axis": {
              "labelAngle": -55
             },
             "field": "outcome",
             "scale": {
              "rangeStep": 30
             },
             "sort": null,
             "type": "ordinal"
            },
            "y": {
             "field": "probability",
             "type": "quantitative"
            }
           },
           "mark": "bar"
          }
         ],
         "title": "Price Prior"
        },
        {
         "$schema": "https://vega.github.io/schema/vega-lite/v3.json",
         "layer": [
          {
           "$schema": "https://vega.github.io/schema/vega-lite/v3.json",
           "data": {
            "values": [
             {
              "outcome": "w2.0",
              "probability": 0.011111111111111112
             },
             {
              "outcome": "w6.0",
              "probability": 0.04444444444444443
             },
             {
              "outcome": "w10.0",
              "probability": 0.10000000000000002
             },
             {
              "outcome": "w14.0",
              "probability": 0.17777777777777776
             },
             {
              "outcome": "w18.0",
              "probability": 0.2222222222222222
             },
             {
              "outcome": "w22.0",
              "probability": 0.20000000000000007
             },
             {
              "outcome": "w26.0",
              "probability": 0.15555555555555553
             },
             {
              "outcome": "w30.0",
              "probability": 0.08888888888888888
             }
            ]
           },
           "description": "",
           "encoding": {
            "x": {
             "axis": {
              "labelAngle": -55
             },
             "field": "outcome",
             "scale": {
              "rangeStep": 30
             },
             "sort": null,
             "type": "ordinal"
            },
            "y": {
             "field": "probability",
             "type": "quantitative"
            }
           },
           "mark": "bar"
          }
         ],
         "title": "Literal Price Posterior"
        }
       ],
       "spacing": 50
      },
      "image/png": "[encoded data removed]"
     },
     "metadata": {},
     "output_type": "display_data"
    }
   ],
   "source": [
    "vlShow . sidewaysDists <$> sequence\n",
    "  [ titled \"Price Prior\" . barFromDist <$> enumD worldPrior\n",
    "  , titled \"Literal Price Posterior\" . barFromDist <$> enumD (thresholdPrior >>= fmap fst . literal UExp)\n",
    "  ] "
   ]
  },
  {
   "cell_type": "code",
   "execution_count": 47,
   "metadata": {},
   "outputs": [],
   "source": [
    "speaker1 :: World -> Double -> Model Utt\n",
    "speaker1 w d = do\n",
    "  u <- utterancePrior\n",
    "  lnr <- lift . enumD $ fst <$> literal u d\n",
    "  weight $ alpha * logProb lnr w\n",
    "  return u"
   ]
  },
  {
   "cell_type": "code",
   "execution_count": 48,
   "metadata": {},
   "outputs": [],
   "source": [
    "listener1 :: Utt -> Double -> Model (World, Double)\n",
    "listener1 u _ = do\n",
    "  w <- worldPrior\n",
    "  d <- thresholdPrior\n",
    "  spr <- lift . enumD $ speaker1 w d\n",
    "  observe spr u\n",
    "  return (w,d)"
   ]
  },
  {
   "cell_type": "code",
   "execution_count": 49,
   "metadata": {},
   "outputs": [
    {
     "data": {
      "application/vnd.vegalite.v2+json": {
       "$schema": "https://vega.github.io/schema/vega-lite/v3.json",
       "hconcat": [
        {
         "$schema": "https://vega.github.io/schema/vega-lite/v3.json",
         "layer": [
          {
           "$schema": "https://vega.github.io/schema/vega-lite/v3.json",
           "data": {
            "values": [
             {
              "outcome": "w2.0",
              "probability": 0.001417173471264347
             },
             {
              "outcome": "w6.0",
              "probability": 0.006299985701693238
             },
             {
              "outcome": "w10.0",
              "probability": 0.017462590692544556
             },
             {
              "outcome": "w14.0",
              "probability": 0.045621574581217524
             },
             {
              "outcome": "w18.0",
              "probability": 0.11704982429380588
             },
             {
              "outcome": "w22.0",
              "probability": 0.2516823148713154
             },
             {
              "outcome": "w26.0",
              "probability": 0.3211341272488409
             },
             {
              "outcome": "w30.0",
              "probability": 0.23933240913931847
             }
            ]
           },
           "description": "",
           "encoding": {
            "x": {
             "axis": {
              "labelAngle": -55
             },
             "field": "outcome",
             "scale": {
              "rangeStep": 30
             },
             "sort": null,
             "type": "ordinal"
            },
            "y": {
             "field": "probability",
             "type": "quantitative"
            }
           },
           "mark": "bar"
          }
         ],
         "title": "Price Posterior"
        },
        {
         "$schema": "https://vega.github.io/schema/vega-lite/v3.json",
         "layer": [
          {
           "$schema": "https://vega.github.io/schema/vega-lite/v3.json",
           "data": {
            "values": [
             {
              "outcome": "2.0",
              "probability": 0.028343469425286847
             },
             {
              "outcome": "6.0",
              "probability": 0.032923568212063214
             },
             {
              "outcome": "10.0",
              "probability": 0.04540480212669334
             },
             {
              "outcome": "14.0",
              "probability": 0.07818342113571988
             },
             {
              "outcome": "18.0",
              "probability": 0.1785706242814706
             },
             {
              "outcome": "22.0",
              "probability": 0.3277898933019222
             },
             {
              "outcome": "26.0",
              "probability": 0.2300188760019457
             },
             {
              "outcome": "30.0",
              "probability": 0.07876534551489786
             }
            ]
           },
           "description": "",
           "encoding": {
            "x": {
             "axis": {
              "labelAngle": -55
             },
             "field": "outcome",
             "scale": {
              "rangeStep": 30
             },
             "sort": null,
             "type": "ordinal"
            },
            "y": {
             "field": "probability",
             "type": "quantitative"
            }
           },
           "mark": "bar"
          }
         ],
         "title": "Expensiveness Posterior"
        }
       ],
       "spacing": 50
      },
      "image/png": "[encoded data removed]"
     },
     "metadata": {},
     "output_type": "display_data"
    }
   ],
   "source": [
    "vlShow . sidewaysDists <$> sequence\n",
    "  [ titled \"Price Posterior\"         . barFromDist <$> enumD (fst <$> listener1 UExp 2)\n",
    "  , titled \"Expensiveness Posterior\" . barFromDist <$> enumD (snd <$> listener1 UExp 2)\n",
    "  -- , titled \"Cheapness Posterior\"     . barFromDist <$> enumD (snd . snd <$> listener UExp)\n",
    "  ]"
   ]
  },
  {
   "cell_type": "code",
   "execution_count": 17,
   "metadata": {
    "jupyter": {
     "source_hidden": true
    }
   },
   "outputs": [],
   "source": [
    "{--\n",
    "vlShow . sidewaysDists $\n",
    "  [ titled \"Price Posterior\"         . barFromDist $ enumD (fst <$> listener UChp)\n",
    "  , titled \"Expensiveness Posterior\" . barFromDist $ enumD (fst . snd <$> listener UChp)\n",
    "  , titled \"Cheapness Posterior\"     . barFromDist $ enumD (snd . snd <$> listener UChp)\n",
    "  ]\n",
    "--}"
   ]
  },
  {
   "cell_type": "code",
   "execution_count": 50,
   "metadata": {},
   "outputs": [],
   "source": [
    "speaker2 :: World -> Double -> Model Utt\n",
    "speaker2 w d = do\n",
    "  u <- utterancePrior\n",
    "  lnr <- lift . enumD $ fst <$> listener1 u d\n",
    "  weight $ alpha * logProb lnr w\n",
    "  return u"
   ]
  },
  {
   "cell_type": "code",
   "execution_count": 51,
   "metadata": {},
   "outputs": [],
   "source": [
    "listener2 :: Utt -> Double -> Model (World, Double)\n",
    "listener2 u d = do\n",
    "  w <- worldPrior\n",
    "  spr <- lift . enumD $ speaker2 w d\n",
    "  observe spr u\n",
    "  return (w,d)"
   ]
  },
  {
   "cell_type": "code",
   "execution_count": 52,
   "metadata": {},
   "outputs": [
    {
     "data": {
      "application/vnd.vegalite.v2+json": {
       "$schema": "https://vega.github.io/schema/vega-lite/v3.json",
       "hconcat": [
        {
         "$schema": "https://vega.github.io/schema/vega-lite/v3.json",
         "layer": [
          {
           "$schema": "https://vega.github.io/schema/vega-lite/v3.json",
           "data": {
            "values": [
             {
              "outcome": "w2.0",
              "probability": 2.7706637527363192e-09
             },
             {
              "outcome": "w6.0",
              "probability": 1.3675804175412413e-07
             },
             {
              "outcome": "w10.0",
              "probability": 2.433145539787156e-06
             },
             {
              "outcome": "w14.0",
              "probability": 4.956632243167702e-05
             },
             {
              "outcome": "w18.0",
              "probability": 0.002410196213521925
             },
             {
              "outcome": "w22.0",
              "probability": 0.1511962541840093
             },
             {
              "outcome": "w26.0",
              "probability": 0.5298220747537113
             },
             {
              "outcome": "w30.0",
              "probability": 0.31651933585208036
             }
            ]
           },
           "description": "",
           "encoding": {
            "x": {
             "axis": {
              "labelAngle": -55
             },
             "field": "outcome",
             "scale": {
              "rangeStep": 30
             },
             "sort": null,
             "type": "ordinal"
            },
            "y": {
             "field": "probability",
             "type": "quantitative"
            }
           },
           "mark": "bar"
          }
         ],
         "title": "Price Posterior"
        },
        {
         "$schema": "https://vega.github.io/schema/vega-lite/v3.json",
         "layer": [
          {
           "$schema": "https://vega.github.io/schema/vega-lite/v3.json",
           "data": {
            "values": [
             {
              "outcome": "2.0",
              "probability": 1
             }
            ]
           },
           "description": "",
           "encoding": {
            "x": {
             "axis": {
              "labelAngle": -55
             },
             "field": "outcome",
             "scale": {
              "rangeStep": 30
             },
             "sort": null,
             "type": "ordinal"
            },
            "y": {
             "field": "probability",
             "type": "quantitative"
            }
           },
           "mark": "bar"
          }
         ],
         "title": "Expensiveness Posterior"
        }
       ],
       "spacing": 50
      },
      "image/png": "[encoded data removed]"
     },
     "metadata": {},
     "output_type": "display_data"
    }
   ],
   "source": [
    "vlShow . sidewaysDists <$> sequence\n",
    "  [ titled \"Price Posterior\"         . barFromDist <$> enumD (fst <$> listener2 UExp 2)\n",
    "  , titled \"Expensiveness Posterior\" . barFromDist <$> enumD (snd <$> listener2 UExp 2)\n",
    "  -- , titled \"Cheapness Posterior\"     . barFromDist $ enumD (snd . snd <$> listener2 UExp)\n",
    "  ]"
   ]
  },
  {
   "cell_type": "code",
   "execution_count": 53,
   "metadata": {},
   "outputs": [],
   "source": [
    "speaker3 :: World -> Double -> Model Utt\n",
    "speaker3 w d = do\n",
    "  u <- utterancePrior\n",
    "  lnr <- lift . enumD $ fst <$> listener2 u d\n",
    "  weight $ alpha * logProb lnr w\n",
    "  return u"
   ]
  },
  {
   "cell_type": "code",
   "execution_count": 54,
   "metadata": {},
   "outputs": [],
   "source": [
    "listener3 :: Utt -> Double -> Model (World, Double)\n",
    "listener3 u d = do\n",
    "  w <- worldPrior\n",
    "  spr <- lift . enumD $ speaker3 w d\n",
    "  observe spr u\n",
    "  return (w,d)"
   ]
  },
  {
   "cell_type": "code",
   "execution_count": 55,
   "metadata": {},
   "outputs": [
    {
     "data": {
      "application/vnd.vegalite.v2+json": {
       "$schema": "https://vega.github.io/schema/vega-lite/v3.json",
       "hconcat": [
        {
         "$schema": "https://vega.github.io/schema/vega-lite/v3.json",
         "layer": [
          {
           "$schema": "https://vega.github.io/schema/vega-lite/v3.json",
           "data": {
            "values": [
             {
              "outcome": "w2.0",
              "probability": 2.8860596070018273e-32
             },
             {
              "outcome": "w6.0",
              "probability": 2.1413707377916192e-26
             },
             {
              "outcome": "w10.0",
              "probability": 6.357449690441016e-22
             },
             {
              "outcome": "w14.0",
              "probability": 4.619589546880533e-17
             },
             {
              "outcome": "w18.0",
              "probability": 2.601598444766418e-10
             },
             {
              "outcome": "w22.0",
              "probability": 0.01832257280006571
             },
             {
              "outcome": "w26.0",
              "probability": 0.6544201268991772
             },
             {
              "outcome": "w30.0",
              "probability": 0.3272573000405973
             }
            ]
           },
           "description": "",
           "encoding": {
            "x": {
             "axis": {
              "labelAngle": -55
             },
             "field": "outcome",
             "scale": {
              "rangeStep": 30
             },
             "sort": null,
             "type": "ordinal"
            },
            "y": {
             "field": "probability",
             "type": "quantitative"
            }
           },
           "mark": "bar"
          }
         ],
         "title": "Price Posterior"
        },
        {
         "$schema": "https://vega.github.io/schema/vega-lite/v3.json",
         "layer": [
          {
           "$schema": "https://vega.github.io/schema/vega-lite/v3.json",
           "data": {
            "values": [
             {
              "outcome": "2.0",
              "probability": 1
             }
            ]
           },
           "description": "",
           "encoding": {
            "x": {
             "axis": {
              "labelAngle": -55
             },
             "field": "outcome",
             "scale": {
              "rangeStep": 30
             },
             "sort": null,
             "type": "ordinal"
            },
            "y": {
             "field": "probability",
             "type": "quantitative"
            }
           },
           "mark": "bar"
          }
         ],
         "title": "Expensiveness Posterior"
        }
       ],
       "spacing": 50
      },
      "image/png": "[encoded data removed]"
     },
     "metadata": {},
     "output_type": "display_data"
    }
   ],
   "source": [
    "vlShow . sidewaysDists <$> sequence\n",
    "  [ titled \"Price Posterior\"         . barFromDist <$> enumD (fst <$> listener3 UExp 2)\n",
    "  , titled \"Expensiveness Posterior\" . barFromDist <$> enumD (snd <$> listener3 UExp 2)\n",
    "  -- , titled \"Cheapness Posterior\"     . barFromDist $ enumD (snd . snd <$> listener3 UExp)\n",
    "  ]"
   ]
  },
  {
   "cell_type": "code",
   "execution_count": 59,
   "metadata": {},
   "outputs": [],
   "source": [
    "listener' :: Int -> Utt -> Double -> Model (World, Double)\n",
    "listener' n u d = do\n",
    "  w <- worldPrior\n",
    "  spr <- lift . enumD $ speaker' n w d\n",
    "  observe spr u\n",
    "  return (w,d)\n",
    "\n",
    "speaker' :: Int -> World -> Double -> Model Utt\n",
    "speaker' n w d = do\n",
    "  u <- utterancePrior\n",
    "  let agent = if n == 1 then literal else listener' (n-1)\n",
    "  lnr <- lift . enumD $ fst <$> agent u d\n",
    "  weight $ alpha * logProb lnr w\n",
    "  return u"
   ]
  },
  {
   "cell_type": "code",
   "execution_count": 68,
   "metadata": {},
   "outputs": [
    {
     "data": {
      "application/vnd.vegalite.v2+json": {
       "$schema": "https://vega.github.io/schema/vega-lite/v3.json",
       "hconcat": [
        {
         "$schema": "https://vega.github.io/schema/vega-lite/v3.json",
         "layer": [
          {
           "$schema": "https://vega.github.io/schema/vega-lite/v3.json",
           "data": {
            "values": [
             {
              "outcome": "w2.0",
              "probability": 0.0011420512586877794
             },
             {
              "outcome": "w6.0",
              "probability": 0.0050892450365432945
             },
             {
              "outcome": "w10.0",
              "probability": 0.014223228851690108
             },
             {
              "outcome": "w14.0",
              "probability": 0.038539688720735224
             },
             {
              "outcome": "w18.0",
              "probability": 0.12391804639628166
             },
             {
              "outcome": "w22.0",
              "probability": 0.2815519980058198
             },
             {
              "outcome": "w26.0",
              "probability": 0.31469320300278564
             },
             {
              "outcome": "w30.0",
              "probability": 0.22084253872745663
             }
            ]
           },
           "description": "",
           "encoding": {
            "x": {
             "axis": {
              "labelAngle": -55
             },
             "field": "outcome",
             "scale": {
              "rangeStep": 30
             },
             "sort": null,
             "type": "ordinal"
            },
            "y": {
             "field": "probability",
             "type": "quantitative"
            }
           },
           "mark": "bar"
          }
         ],
         "title": "Price Posterior"
        },
        {
         "$schema": "https://vega.github.io/schema/vega-lite/v3.json",
         "layer": [
          {
           "$schema": "https://vega.github.io/schema/vega-lite/v3.json",
           "data": {
            "values": [
             {
              "outcome": "2.0",
              "probability": 0.02284102517375535
             },
             {
              "outcome": "6.0",
              "probability": 0.02664885393209369
             },
             {
              "outcome": "10.0",
              "probability": 0.03733971401562595
             },
             {
              "outcome": "14.0",
              "probability": 0.06851384254801943
             },
             {
              "outcome": "18.0",
              "probability": 0.21344589418886598
             },
             {
              "outcome": "22.0",
              "probability": 0.37722692641721706
             },
             {
              "outcome": "26.0",
              "probability": 0.1904878064983585
             },
             {
              "outcome": "30.0",
              "probability": 0.06349593722606374
             }
            ]
           },
           "description": "",
           "encoding": {
            "x": {
             "axis": {
              "labelAngle": -55
             },
             "field": "outcome",
             "scale": {
              "rangeStep": 30
             },
             "sort": null,
             "type": "ordinal"
            },
            "y": {
             "field": "probability",
             "type": "quantitative"
            }
           },
           "mark": "bar"
          }
         ],
         "title": "Expensiveness Posterior"
        }
       ],
       "spacing": 50
      },
      "image/png": "[encoded data removed]"
     },
     "metadata": {},
     "output_type": "display_data"
    }
   ],
   "source": [
    "vlShow . sidewaysDists <$> sequence\n",
    "  [ titled \"Price Posterior\"         . barFromDist <$> enumD (thresholdPrior >>= fmap fst . listener' 2 UExp)\n",
    "  , titled \"Expensiveness Posterior\" . barFromDist <$> enumD (thresholdPrior >>= fmap snd . listener' 2 UExp)\n",
    "  -- , titled \"Cheapness Posterior\"     . barFromDist $ enumD (snd . snd <$> listener2 UExp)\n",
    "  ]"
   ]
  },
  {
   "cell_type": "code",
   "execution_count": 69,
   "metadata": {},
   "outputs": [
    {
     "data": {
      "application/vnd.vegalite.v2+json": {
       "$schema": "https://vega.github.io/schema/vega-lite/v3.json",
       "hconcat": [
        {
         "$schema": "https://vega.github.io/schema/vega-lite/v3.json",
         "layer": [
          {
           "$schema": "https://vega.github.io/schema/vega-lite/v3.json",
           "data": {
            "values": [
             {
              "outcome": "w2.0",
              "probability": 0.0010802086108457633
             },
             {
              "outcome": "w6.0",
              "probability": 0.004813712377662487
             },
             {
              "outcome": "w10.0",
              "probability": 0.013455786790039647
             },
             {
              "outcome": "w14.0",
              "probability": 0.03660165038858313
             },
             {
              "outcome": "w18.0",
              "probability": 0.13738905752878325
             },
             {
              "outcome": "w22.0",
              "probability": 0.2832145913262528
             },
             {
              "outcome": "w26.0",
              "probability": 0.30892492837662533
             },
             {
              "outcome": "w30.0",
              "probability": 0.21452006460120757
             }
            ]
           },
           "description": "",
           "encoding": {
            "x": {
             "axis": {
              "labelAngle": -55
             },
             "field": "outcome",
             "scale": {
              "rangeStep": 30
             },
             "sort": null,
             "type": "ordinal"
            },
            "y": {
             "field": "probability",
             "type": "quantitative"
            }
           },
           "mark": "bar"
          }
         ],
         "title": "Price Posterior"
        },
        {
         "$schema": "https://vega.github.io/schema/vega-lite/v3.json",
         "layer": [
          {
           "$schema": "https://vega.github.io/schema/vega-lite/v3.json",
           "data": {
            "values": [
             {
              "outcome": "2.0",
              "probability": 0.021604172216914526
             },
             {
              "outcome": "6.0",
              "probability": 0.025206303981724795
             },
             {
              "outcome": "10.0",
              "probability": 0.035332903266760536
             },
             {
              "outcome": "14.0",
              "probability": 0.06531210467318947
             },
             {
              "outcome": "18.0",
              "probability": 0.2519685178505006
             },
             {
              "outcome": "22.0",
              "probability": 0.36034559635933044
             },
             {
              "outcome": "26.0",
              "probability": 0.18017280123868482
             },
             {
              "outcome": "30.0",
              "probability": 0.06005760041289492
             }
            ]
           },
           "description": "",
           "encoding": {
            "x": {
             "axis": {
              "labelAngle": -55
             },
             "field": "outcome",
             "scale": {
              "rangeStep": 30
             },
             "sort": null,
             "type": "ordinal"
            },
            "y": {
             "field": "probability",
             "type": "quantitative"
            }
           },
           "mark": "bar"
          }
         ],
         "title": "Expensiveness Posterior"
        }
       ],
       "spacing": 50
      },
      "image/png": "[encoded data removed]"
     },
     "metadata": {},
     "output_type": "display_data"
    }
   ],
   "source": [
    "vlShow . sidewaysDists <$> sequence\n",
    "  [ titled \"Price Posterior\"         . barFromDist <$> enumD (thresholdPrior >>= fmap fst . listener' 3 UExp)\n",
    "  , titled \"Expensiveness Posterior\" . barFromDist <$> enumD (thresholdPrior >>= fmap snd . listener' 3 UExp)\n",
    "  -- , titled \"Cheapness Posterior\"     . barFromDist $ enumD (snd . snd <$> listener2 UExp)\n",
    "  ]"
   ]
  },
  {
   "cell_type": "code",
   "execution_count": null,
   "metadata": {},
   "outputs": [],
   "source": []
  }
 ],
 "metadata": {
  "kernelspec": {
   "display_name": "Haskell",
   "language": "haskell",
   "name": "haskell"
  },
  "language_info": {
   "codemirror_mode": "ihaskell",
   "file_extension": ".hs",
   "name": "haskell",
   "pygments_lexer": "Haskell",
   "version": "8.6.5"
  }
 },
 "nbformat": 4,
 "nbformat_minor": 4
}
