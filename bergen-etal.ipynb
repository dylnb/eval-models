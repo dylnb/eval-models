{
 "cells": [
  {
   "cell_type": "markdown",
   "metadata": {},
   "source": [
    "Compare with Bergen, Levy, Goodman (2016): pg. 29--31"
   ]
  },
  {
   "cell_type": "code",
   "execution_count": 20,
   "metadata": {},
   "outputs": [],
   "source": [
    ":ext TypeSynonymInstances\n",
    ":ext FlexibleInstances\n",
    ":ext OverloadedStrings"
   ]
  },
  {
   "cell_type": "code",
   "execution_count": 21,
   "metadata": {},
   "outputs": [],
   "source": [
    "import Data.Text (pack, Text)\n",
    "import Data.Tuple.Extra (first)\n",
    "import Data.List.Extra (dropEnd, subsequences, enumerate, (\\\\))\n",
    "import Control.Monad.Trans.Class (lift)\n",
    "import Control.Monad (liftM2)\n",
    "import Data.IORef\n",
    "import qualified Data.Map as Map"
   ]
  },
  {
   "cell_type": "code",
   "execution_count": 22,
   "metadata": {},
   "outputs": [],
   "source": [
    "import Utils\n",
    "import Tyche.Model\n",
    "import Tyche.Dist\n",
    "import Tyche.Prelude\n",
    "import Tyche.Prob\n",
    "import Tyche.Inference.Enumerate"
   ]
  },
  {
   "cell_type": "code",
   "execution_count": 23,
   "metadata": {},
   "outputs": [],
   "source": [
    "import Graphics.Vega.VegaLite hiding (filter, lookup, repeat, FontWeight(Normal))\n",
    "import qualified Graphics.Vega.VegaLite as VL (filter, lookup, repeat, FontWeight(Normal))"
   ]
  },
  {
   "cell_type": "markdown",
   "metadata": {},
   "source": [
    "# Model"
   ]
  },
  {
   "cell_type": "code",
   "execution_count": 24,
   "metadata": {},
   "outputs": [],
   "source": [
    "data Index = WNormal | WWeird deriving (Eq, Ord, Bounded, Enum)\n",
    "instance Show Index where\n",
    "  show WNormal = \"w1\"\n",
    "  show WWeird = \"w2\"\n",
    "type Prop = [Index]\n",
    "universe :: [Index]\n",
    "universe = enumerate"
   ]
  },
  {
   "cell_type": "markdown",
   "metadata": {},
   "source": [
    "# Language"
   ]
  },
  {
   "cell_type": "code",
   "execution_count": 25,
   "metadata": {},
   "outputs": [],
   "source": [
    "data Utt = UNone | UMarked | UUnmarked deriving (Eq, Ord, Bounded, Enum)\n",
    "instance Show Utt where\n",
    "  show UNone = \"silence\"\n",
    "  show UMarked = \"marked\"\n",
    "  show UUnmarked = \"unmarked\"\n",
    "utterances :: [Utt]\n",
    "utterances = enumerate"
   ]
  },
  {
   "cell_type": "code",
   "execution_count": 26,
   "metadata": {},
   "outputs": [],
   "source": [
    "data Lexicon = Lex {lexID :: Int, den :: Utt -> Prop}\n",
    "\n",
    "instance Show Lexicon where\n",
    "  show (Lex _ f) = \"M = \" ++ show (f UMarked) ++ \"; U = \" ++ show (f UUnmarked)\n",
    "instance Eq Lexicon where\n",
    "  (Lex m _) == (Lex n _) = m == n\n",
    "instance Ord Lexicon where\n",
    "  (Lex m _) <= (Lex n _) = m <= n"
   ]
  },
  {
   "cell_type": "markdown",
   "metadata": {},
   "source": [
    "## Rational Agents"
   ]
  },
  {
   "cell_type": "code",
   "execution_count": 27,
   "metadata": {},
   "outputs": [],
   "source": [
    "-- Initialize reference cell for storing results to share within and between computations\n",
    "type Cache = IORef (Int, Map.Map (Int, Utt, Lexicon) (Dist Index))\n",
    "cacheRef <- newIORef (0, Map.empty) :: IO Cache"
   ]
  },
  {
   "cell_type": "markdown",
   "metadata": {},
   "source": [
    "An $n$-level agent reasoning about `a` given `k` is a graphical model (supplemented with a memory, for efficiency)\n",
    "- if the problem is old, the posterior distribution is returned from memory\n",
    "- if the problem is new, then priors over indices, messages, and lexica are fed to a node computing the posterior distribution over `a`"
   ]
  },
  {
   "cell_type": "code",
   "execution_count": 28,
   "metadata": {},
   "outputs": [],
   "source": [
    "data Priors = Priors {ip :: Model Index, up :: Model Utt, lp :: Model Lexicon}\n",
    "type Agent k a = Priors -> Cache -> (Int, k, Lexicon) -> Model a"
   ]
  },
  {
   "cell_type": "markdown",
   "metadata": {},
   "source": [
    "* A speaker trying to describe index $i$ is an agent that chooses an utterance $u$ in proportion to its prior probability (itself determined by the markedness of the utterance) and the likelihood that a listener would choose $i$ upon hearing $u$\n",
    "* A listener trying to interpret an utterance $u$ is an agent that chooses an index $i$ in proportion to its prior probability and the likelihood that a speaker would choose $u$ upon trying to describe $i$"
   ]
  },
  {
   "cell_type": "code",
   "execution_count": 29,
   "metadata": {},
   "outputs": [],
   "source": [
    "alpha :: Double\n",
    "alpha = 4\n",
    "\n",
    "speaker :: Agent Index Utt\n",
    "speaker priors ref (n,i,l) =\n",
    "  do u <- up priors\n",
    "     if null (den l u)\n",
    "       then weight negInf\n",
    "       else do lnr <- lift $ memoize ref (fmap fst . listener priors ref) (n-1,u,l)\n",
    "               weight $ alpha * logProb lnr i\n",
    "     return u\n",
    "\n",
    "listener :: Agent Utt (Index, Lexicon)\n",
    "listener priors ref (n,u,l)\n",
    "  | n > 0 =\n",
    "      do index  <- ip priors\n",
    "         interp <- if n == 1 then lp priors else return l\n",
    "         spr    <- lift . enumD $ speaker priors ref (n,index,interp)\n",
    "         observe spr u\n",
    "         return (index, interp)\n",
    "  | otherwise =\n",
    "      do index  <- ip priors\n",
    "         condition (index `elem` den l u)\n",
    "         return (index, l)"
   ]
  },
  {
   "cell_type": "markdown",
   "metadata": {},
   "source": [
    "# Priors"
   ]
  },
  {
   "cell_type": "code",
   "execution_count": 30,
   "metadata": {},
   "outputs": [],
   "source": [
    "indicesPrior :: Model Index\n",
    "indicesPrior = categorical [(WNormal, 0.667), (WWeird, 0.333)]"
   ]
  },
  {
   "cell_type": "code",
   "execution_count": 31,
   "metadata": {},
   "outputs": [],
   "source": [
    "mBarFromDist :: (Ord a, Show a) => Text -> Bool -> Dist a -> VegaLite\n",
    "mBarFromDist ys xs m =\n",
    "  let (vs,ps) = unzip (toList m)\n",
    "      dvals = dataFromColumns []\n",
    "              . dataColumn \"outcome\" (Strings $ fmap (pack . show) vs)\n",
    "              . dataColumn \"probability\" (Numbers $ fmap exp ps)\n",
    "\n",
    "      enc = encoding\n",
    "            . position X [ PName \"outcome\", PmType Ordinal\n",
    "                         , PAxis [AxLabelAngle (-55), AxNoTitle, AxLabels xs]\n",
    "                         , PScale [SRangeStep (Just 30)], PSort []\n",
    "                         ]\n",
    "            . position Y [ PName \"probability\", PmType Quantitative\n",
    "                         , PAxis [AxTitle ys, AxTitleAngle 0, AxTitleAlign AlignRight]\n",
    "                         , PScale [SDomain (DNumbers [0,1])]\n",
    "                         ]\n",
    "            . color [MName \"outcome\", MmType Nominal, MLegend []]\n",
    "\n",
    "  in toVegaLite [description \"\", dvals [], mark Bar [], enc [], height 75]"
   ]
  },
  {
   "cell_type": "code",
   "execution_count": 32,
   "metadata": {},
   "outputs": [
    {
     "data": {
      "application/vnd.vegalite.v2+json": {
       "$schema": "https://vega.github.io/schema/vega-lite/v3.json",
       "layer": [
        {
         "$schema": "https://vega.github.io/schema/vega-lite/v3.json",
         "data": {
          "values": [
           {
            "outcome": "w1",
            "probability": 0.6669999999999999
           },
           {
            "outcome": "w2",
            "probability": 0.33299999999999996
           }
          ]
         },
         "description": "",
         "encoding": {
          "color": {
           "field": "outcome",
           "legend": null,
           "type": "nominal"
          },
          "x": {
           "axis": {
            "labelAngle": -55,
            "labels": true,
            "title": null
           },
           "field": "outcome",
           "scale": {
            "rangeStep": 30
           },
           "sort": null,
           "type": "ordinal"
          },
          "y": {
           "axis": {
            "title": "Prob",
            "titleAlign": "right",
            "titleAngle": 0
           },
           "field": "probability",
           "scale": {
            "domain": [
             0,
             1
            ]
           },
           "type": "quantitative"
          }
         },
         "height": 75,
         "mark": "bar"
        }
       ],
       "title": "Prior over worlds"
      },
      "image/png": "[encoded data removed]"
     },
     "metadata": {},
     "output_type": "display_data"
    }
   ],
   "source": [
    "vlShow . titled \"Prior over worlds\" . mBarFromDist \"Prob\" True <$> enumD indicesPrior"
   ]
  },
  {
   "cell_type": "code",
   "execution_count": 33,
   "metadata": {},
   "outputs": [],
   "source": [
    "cost :: Utt -> Double\n",
    "cost UNone = 5\n",
    "cost UMarked = 2\n",
    "cost UUnmarked = 1"
   ]
  },
  {
   "cell_type": "code",
   "execution_count": 34,
   "metadata": {},
   "outputs": [],
   "source": [
    "utterancePrior :: Model Utt\n",
    "utterancePrior = belief . fromList $ [(u, - alpha * cost u) | u <- utterances]"
   ]
  },
  {
   "cell_type": "code",
   "execution_count": 35,
   "metadata": {},
   "outputs": [
    {
     "data": {
      "application/vnd.vegalite.v2+json": {
       "$schema": "https://vega.github.io/schema/vega-lite/v3.json",
       "title": {
        "fontSize": 18,
        "text": "Markedness as prior over utterances"
       },
       "vconcat": [
        {
         "$schema": "https://vega.github.io/schema/vega-lite/v3.json",
         "hconcat": [
          {
           "$schema": "https://vega.github.io/schema/vega-lite/v3.json",
           "layer": [
            {
             "$schema": "https://vega.github.io/schema/vega-lite/v3.json",
             "data": {
              "values": [
               {
                "outcome": "silence",
                "probability": 1.1051108122593756e-07
               },
               {
                "outcome": "marked",
                "probability": 0.017986207974416035
               },
               {
                "outcome": "unmarked",
                "probability": 0.9820136815145026
               }
              ]
             },
             "description": "",
             "encoding": {
              "x": {
               "axis": {
                "labelAngle": -55,
                "title": null
               },
               "field": "outcome",
               "scale": {
                "rangeStep": 30
               },
               "sort": null,
               "type": "ordinal"
              },
              "y": {
               "axis": {
                "title": "Prob"
               },
               "field": "probability",
               "type": "quantitative"
              }
             },
             "mark": "bar"
            }
           ],
           "title": "Utterence prefs"
          }
         ],
         "resolve": {
          "scale": {
           "color": "independent",
           "x": "independent",
           "y": "independent"
          }
         },
         "spacing": 50
        }
       ]
      },
      "image/png": "[encoded data removed]"
     },
     "metadata": {},
     "output_type": "display_data"
    }
   ],
   "source": [
    "addTitle s v = toVegaLite [title (pack s) [TFontSize 18], vConcat [fromVL v]]\n",
    "vlShow . addTitle \"Markedness as prior over utterances\" . sidewaysDists <$> sequence\n",
    "  [ titled \"Utterence prefs\" . barFromDist <$> enumD utterancePrior\n",
    "  -- , titled \"Prefs if forced to speak\" . barFromDist <$>\n",
    "  --     enumD (utterancePrior >>= \\u -> condition (u /= UNone) >> return u)\n",
    "  ]"
   ]
  },
  {
   "cell_type": "markdown",
   "metadata": {},
   "source": [
    "# Lexical uncertainty"
   ]
  },
  {
   "cell_type": "code",
   "execution_count": 36,
   "metadata": {},
   "outputs": [],
   "source": [
    "den0 :: Lexicon\n",
    "den0 = Lex 0 f\n",
    "  where f _ = universe\n",
    "\n",
    "dens :: [Lexicon]\n",
    "dens = zipWith ($) lexes [1..]\n",
    " where\n",
    "  lexes = do u <- subsequences universe \\\\ [[]]\n",
    "             m <- subsequences universe \\\\ [[]]\n",
    "             let f UNone = universe\n",
    "                 f UUnmarked = u\n",
    "                 f UMarked = m\n",
    "             return $ \\d -> Lex d f"
   ]
  },
  {
   "cell_type": "markdown",
   "metadata": {},
   "source": [
    "# Experiment"
   ]
  },
  {
   "cell_type": "code",
   "execution_count": 37,
   "metadata": {},
   "outputs": [],
   "source": [
    "infoBaseline = Priors indicesPrior utterancePrior (unif [den0])\n",
    "infoLUM = infoBaseline {lp = unif dens}"
   ]
  },
  {
   "cell_type": "code",
   "execution_count": 40,
   "metadata": {},
   "outputs": [
    {
     "data": {
      "text/html": [
       "<style>/* Styles used for the Hoogle display in the pager */\n",
       ".hoogle-doc {\n",
       "display: block;\n",
       "padding-bottom: 1.3em;\n",
       "padding-left: 0.4em;\n",
       "}\n",
       ".hoogle-code {\n",
       "display: block;\n",
       "font-family: monospace;\n",
       "white-space: pre;\n",
       "}\n",
       ".hoogle-text {\n",
       "display: block;\n",
       "}\n",
       ".hoogle-name {\n",
       "color: green;\n",
       "font-weight: bold;\n",
       "}\n",
       ".hoogle-head {\n",
       "font-weight: bold;\n",
       "}\n",
       ".hoogle-sub {\n",
       "display: block;\n",
       "margin-left: 0.4em;\n",
       "}\n",
       ".hoogle-package {\n",
       "font-weight: bold;\n",
       "font-style: italic;\n",
       "}\n",
       ".hoogle-module {\n",
       "font-weight: bold;\n",
       "}\n",
       ".hoogle-class {\n",
       "font-weight: bold;\n",
       "}\n",
       ".get-type {\n",
       "color: green;\n",
       "font-weight: bold;\n",
       "font-family: monospace;\n",
       "display: block;\n",
       "white-space: pre-wrap;\n",
       "}\n",
       ".show-type {\n",
       "color: green;\n",
       "font-weight: bold;\n",
       "font-family: monospace;\n",
       "margin-left: 1em;\n",
       "}\n",
       ".mono {\n",
       "font-family: monospace;\n",
       "display: block;\n",
       "}\n",
       ".err-msg {\n",
       "color: red;\n",
       "font-style: italic;\n",
       "font-family: monospace;\n",
       "white-space: pre;\n",
       "display: block;\n",
       "}\n",
       "#unshowable {\n",
       "color: red;\n",
       "font-weight: bold;\n",
       "}\n",
       ".err-msg.in.collapse {\n",
       "padding-top: 0.7em;\n",
       "}\n",
       ".highlight-code {\n",
       "white-space: pre;\n",
       "font-family: monospace;\n",
       "}\n",
       ".suggestion-warning { \n",
       "font-weight: bold;\n",
       "color: rgb(200, 130, 0);\n",
       "}\n",
       ".suggestion-error { \n",
       "font-weight: bold;\n",
       "color: red;\n",
       "}\n",
       ".suggestion-name {\n",
       "font-weight: bold;\n",
       "}\n",
       "</style><div class=\"suggestion-name\" style=\"clear:both;\">Use head</div><div class=\"suggestion-row\" style=\"float: left;\"><div class=\"suggestion-warning\">Found:</div><div class=\"highlight-code\" id=\"haskell\">ys !! 0</div></div><div class=\"suggestion-row\" style=\"float: left;\"><div class=\"suggestion-warning\">Why Not:</div><div class=\"highlight-code\" id=\"haskell\">head ys</div></div><div class=\"suggestion-name\" style=\"clear:both;\">Use head</div><div class=\"suggestion-row\" style=\"float: left;\"><div class=\"suggestion-warning\">Found:</div><div class=\"highlight-code\" id=\"haskell\">ys !! 0</div></div><div class=\"suggestion-row\" style=\"float: left;\"><div class=\"suggestion-warning\">Why Not:</div><div class=\"highlight-code\" id=\"haskell\">head ys</div></div>"
      ],
      "text/plain": [
       "Line 9: Use head\n",
       "Found:\n",
       "ys !! 0\n",
       "Why not:\n",
       "head ysLine 10: Use head\n",
       "Found:\n",
       "ys !! 0\n",
       "Why not:\n",
       "head ys"
      ]
     },
     "metadata": {},
     "output_type": "display_data"
    },
    {
     "data": {
      "application/vnd.vegalite.v2+json": {
       "$schema": "https://vega.github.io/schema/vega-lite/v3.json",
       "hconcat": [
        {
         "$schema": "https://vega.github.io/schema/vega-lite/v3.json",
         "center": true,
         "title": {
          "fontSize": 18,
          "text": "L0"
         },
         "vconcat": [
          {
           "$schema": "https://vega.github.io/schema/vega-lite/v3.json",
           "data": {
            "values": [
             {
              "outcome": "w1",
              "probability": 0.6669999999999999
             },
             {
              "outcome": "w2",
              "probability": 0.33299999999999996
             }
            ]
           },
           "description": "",
           "encoding": {
            "color": {
             "field": "outcome",
             "legend": null,
             "type": "nominal"
            },
            "x": {
             "axis": {
              "labelAngle": -55,
              "labels": false,
              "title": null
             },
             "field": "outcome",
             "scale": {
              "rangeStep": 30
             },
             "sort": null,
             "type": "ordinal"
            },
            "y": {
             "axis": {
              "title": "silence",
              "titleAlign": "right",
              "titleAngle": 0
             },
             "field": "probability",
             "scale": {
              "domain": [
               0,
               1
              ]
             },
             "type": "quantitative"
            }
           },
           "height": 75,
           "mark": "bar"
          },
          {
           "$schema": "https://vega.github.io/schema/vega-lite/v3.json",
           "data": {
            "values": [
             {
              "outcome": "w1",
              "probability": 0.6669999999999999
             },
             {
              "outcome": "w2",
              "probability": 0.33299999999999996
             }
            ]
           },
           "description": "",
           "encoding": {
            "color": {
             "field": "outcome",
             "legend": null,
             "type": "nominal"
            },
            "x": {
             "axis": {
              "labelAngle": -55,
              "labels": false,
              "title": null
             },
             "field": "outcome",
             "scale": {
              "rangeStep": 30
             },
             "sort": null,
             "type": "ordinal"
            },
            "y": {
             "axis": {
              "title": "silence",
              "titleAlign": "right",
              "titleAngle": 0
             },
             "field": "probability",
             "scale": {
              "domain": [
               0,
               1
              ]
             },
             "type": "quantitative"
            }
           },
           "height": 75,
           "mark": "bar"
          },
          {
           "$schema": "https://vega.github.io/schema/vega-lite/v3.json",
           "data": {
            "values": [
             {
              "outcome": "w1",
              "probability": 0.6669999999999999
             },
             {
              "outcome": "w2",
              "probability": 0.33299999999999996
             }
            ]
           },
           "description": "",
           "encoding": {
            "color": {
             "field": "outcome",
             "legend": null,
             "type": "nominal"
            },
            "x": {
             "axis": {
              "labelAngle": -55,
              "labels": true,
              "title": null
             },
             "field": "outcome",
             "scale": {
              "rangeStep": 30
             },
             "sort": null,
             "type": "ordinal"
            },
            "y": {
             "axis": {
              "title": "marked",
              "titleAlign": "right",
              "titleAngle": 0
             },
             "field": "probability",
             "scale": {
              "domain": [
               0,
               1
              ]
             },
             "type": "quantitative"
            }
           },
           "height": 75,
           "mark": "bar"
          }
         ]
        },
        {
         "$schema": "https://vega.github.io/schema/vega-lite/v3.json",
         "center": true,
         "title": {
          "fontSize": 18,
          "text": "L1"
         },
         "vconcat": [
          {
           "$schema": "https://vega.github.io/schema/vega-lite/v3.json",
           "data": {
            "values": [
             {
              "outcome": "w1",
              "probability": 0.6670002799824936
             },
             {
              "outcome": "w2",
              "probability": 0.3329997200175067
             }
            ]
           },
           "description": "",
           "encoding": {
            "color": {
             "field": "outcome",
             "legend": null,
             "type": "nominal"
            },
            "x": {
             "axis": {
              "labelAngle": -55,
              "labels": false,
              "title": null
             },
             "field": "outcome",
             "scale": {
              "rangeStep": 30
             },
             "sort": null,
             "type": "ordinal"
            },
            "y": {
             "axis": {
              "title": "",
              "titleAlign": "right",
              "titleAngle": 0
             },
             "field": "probability",
             "scale": {
              "domain": [
               0,
               1
              ]
             },
             "type": "quantitative"
            }
           },
           "height": 75,
           "mark": "bar"
          },
          {
           "$schema": "https://vega.github.io/schema/vega-lite/v3.json",
           "data": {
            "values": [
             {
              "outcome": "w1",
              "probability": 0.6176021717778191
             },
             {
              "outcome": "w2",
              "probability": 0.3823978282221811
             }
            ]
           },
           "description": "",
           "encoding": {
            "color": {
             "field": "outcome",
             "legend": null,
             "type": "nominal"
            },
            "x": {
             "axis": {
              "labelAngle": -55,
              "labels": false,
              "title": null
             },
             "field": "outcome",
             "scale": {
              "rangeStep": 30
             },
             "sort": null,
             "type": "ordinal"
            },
            "y": {
             "axis": {
              "title": "",
              "titleAlign": "right",
              "titleAngle": 0
             },
             "field": "probability",
             "scale": {
              "domain": [
               0,
               1
              ]
             },
             "type": "quantitative"
            }
           },
           "height": 75,
           "mark": "bar"
          },
          {
           "$schema": "https://vega.github.io/schema/vega-lite/v3.json",
           "data": {
            "values": [
             {
              "outcome": "w1",
              "probability": 0.6868617576703319
             },
             {
              "outcome": "w2",
              "probability": 0.3131382423296682
             }
            ]
           },
           "description": "",
           "encoding": {
            "color": {
             "field": "outcome",
             "legend": null,
             "type": "nominal"
            },
            "x": {
             "axis": {
              "labelAngle": -55,
              "labels": true,
              "title": null
             },
             "field": "outcome",
             "scale": {
              "rangeStep": 30
             },
             "sort": null,
             "type": "ordinal"
            },
            "y": {
             "axis": {
              "title": "",
              "titleAlign": "right",
              "titleAngle": 0
             },
             "field": "probability",
             "scale": {
              "domain": [
               0,
               1
              ]
             },
             "type": "quantitative"
            }
           },
           "height": 75,
           "mark": "bar"
          }
         ]
        },
        {
         "$schema": "https://vega.github.io/schema/vega-lite/v3.json",
         "center": true,
         "title": {
          "fontSize": 18,
          "text": "L2"
         },
         "vconcat": [
          {
           "$schema": "https://vega.github.io/schema/vega-lite/v3.json",
           "data": {
            "values": [
             {
              "outcome": "w1",
              "probability": 0.5888741433635746
             },
             {
              "outcome": "w2",
              "probability": 0.411125856636427
             }
            ]
           },
           "description": "",
           "encoding": {
            "color": {
             "field": "outcome",
             "legend": null,
             "type": "nominal"
            },
            "x": {
             "axis": {
              "labelAngle": -55,
              "labels": false,
              "title": null
             },
             "field": "outcome",
             "scale": {
              "rangeStep": 30
             },
             "sort": null,
             "type": "ordinal"
            },
            "y": {
             "axis": {
              "title": "",
              "titleAlign": "right",
              "titleAngle": 0
             },
             "field": "probability",
             "scale": {
              "domain": [
               0,
               1
              ]
             },
             "type": "quantitative"
            }
           },
           "height": 75,
           "mark": "bar"
          },
          {
           "$schema": "https://vega.github.io/schema/vega-lite/v3.json",
           "data": {
            "values": [
             {
              "outcome": "w1",
              "probability": 0.37712947272204256
             },
             {
              "outcome": "w2",
              "probability": 0.6228705272779572
             }
            ]
           },
           "description": "",
           "encoding": {
            "color": {
             "field": "outcome",
             "legend": null,
             "type": "nominal"
            },
            "x": {
             "axis": {
              "labelAngle": -55,
              "labels": false,
              "title": null
             },
             "field": "outcome",
             "scale": {
              "rangeStep": 30
             },
             "sort": null,
             "type": "ordinal"
            },
            "y": {
             "axis": {
              "title": "",
              "titleAlign": "right",
              "titleAngle": 0
             },
             "field": "probability",
             "scale": {
              "domain": [
               0,
               1
              ]
             },
             "type": "quantitative"
            }
           },
           "height": 75,
           "mark": "bar"
          },
          {
           "$schema": "https://vega.github.io/schema/vega-lite/v3.json",
           "data": {
            "values": [
             {
              "outcome": "w1",
              "probability": 0.6731949102651866
             },
             {
              "outcome": "w2",
              "probability": 0.3268050897348133
             }
            ]
           },
           "description": "",
           "encoding": {
            "color": {
             "field": "outcome",
             "legend": null,
             "type": "nominal"
            },
            "x": {
             "axis": {
              "labelAngle": -55,
              "labels": true,
              "title": null
             },
             "field": "outcome",
             "scale": {
              "rangeStep": 30
             },
             "sort": null,
             "type": "ordinal"
            },
            "y": {
             "axis": {
              "title": "",
              "titleAlign": "right",
              "titleAngle": 0
             },
             "field": "probability",
             "scale": {
              "domain": [
               0,
               1
              ]
             },
             "type": "quantitative"
            }
           },
           "height": 75,
           "mark": "bar"
          }
         ]
        },
        {
         "$schema": "https://vega.github.io/schema/vega-lite/v3.json",
         "center": true,
         "title": {
          "fontSize": 18,
          "text": "L3"
         },
         "vconcat": [
          {
           "$schema": "https://vega.github.io/schema/vega-lite/v3.json",
           "data": {
            "values": [
             {
              "outcome": "w1",
              "probability": 0.3672313029471145
             },
             {
              "outcome": "w2",
              "probability": 0.6327686970528861
             }
            ]
           },
           "description": "",
           "encoding": {
            "color": {
             "field": "outcome",
             "legend": null,
             "type": "nominal"
            },
            "x": {
             "axis": {
              "labelAngle": -55,
              "labels": false,
              "title": null
             },
             "field": "outcome",
             "scale": {
              "rangeStep": 30
             },
             "sort": null,
             "type": "ordinal"
            },
            "y": {
             "axis": {
              "title": "",
              "titleAlign": "right",
              "titleAngle": 0
             },
             "field": "probability",
             "scale": {
              "domain": [
               0,
               1
              ]
             },
             "type": "quantitative"
            }
           },
           "height": 75,
           "mark": "bar"
          },
          {
           "$schema": "https://vega.github.io/schema/vega-lite/v3.json",
           "data": {
            "values": [
             {
              "outcome": "w1",
              "probability": 0.01819285623810631
             },
             {
              "outcome": "w2",
              "probability": 0.9818071437618936
             }
            ]
           },
           "description": "",
           "encoding": {
            "color": {
             "field": "outcome",
             "legend": null,
             "type": "nominal"
            },
            "x": {
             "axis": {
              "labelAngle": -55,
              "labels": false,
              "title": null
             },
             "field": "outcome",
             "scale": {
              "rangeStep": 30
             },
             "sort": null,
             "type": "ordinal"
            },
            "y": {
             "axis": {
              "title": "",
              "titleAlign": "right",
              "titleAngle": 0
             },
             "field": "probability",
             "scale": {
              "domain": [
               0,
               1
              ]
             },
             "type": "quantitative"
            }
           },
           "height": 75,
           "mark": "bar"
          },
          {
           "$schema": "https://vega.github.io/schema/vega-lite/v3.json",
           "data": {
            "values": [
             {
              "outcome": "w1",
              "probability": 0.7128606734391292
             },
             {
              "outcome": "w2",
              "probability": 0.2871393265608708
             }
            ]
           },
           "description": "",
           "encoding": {
            "color": {
             "field": "outcome",
             "legend": null,
             "type": "nominal"
            },
            "x": {
             "axis": {
              "labelAngle": -55,
              "labels": true,
              "title": null
             },
             "field": "outcome",
             "scale": {
              "rangeStep": 30
             },
             "sort": null,
             "type": "ordinal"
            },
            "y": {
             "axis": {
              "title": "",
              "titleAlign": "right",
              "titleAngle": 0
             },
             "field": "probability",
             "scale": {
              "domain": [
               0,
               1
              ]
             },
             "type": "quantitative"
            }
           },
           "height": 75,
           "mark": "bar"
          }
         ]
        },
        {
         "$schema": "https://vega.github.io/schema/vega-lite/v3.json",
         "center": true,
         "title": {
          "fontSize": 18,
          "text": "L4"
         },
         "vconcat": [
          {
           "$schema": "https://vega.github.io/schema/vega-lite/v3.json",
           "data": {
            "values": [
             {
              "outcome": "w1",
              "probability": 0.0205264458188443
             },
             {
              "outcome": "w2",
              "probability": 0.9794735541811549
             }
            ]
           },
           "description": "",
           "encoding": {
            "color": {
             "field": "outcome",
             "legend": null,
             "type": "nominal"
            },
            "x": {
             "axis": {
              "labelAngle": -55,
              "labels": false,
              "title": null
             },
             "field": "outcome",
             "scale": {
              "rangeStep": 30
             },
             "sort": null,
             "type": "ordinal"
            },
            "y": {
             "axis": {
              "title": "",
              "titleAlign": "right",
              "titleAngle": 0
             },
             "field": "probability",
             "scale": {
              "domain": [
               0,
               1
              ]
             },
             "type": "quantitative"
            }
           },
           "height": 75,
           "mark": "bar"
          },
          {
           "$schema": "https://vega.github.io/schema/vega-lite/v3.json",
           "data": {
            "values": [
             {
              "outcome": "w1",
              "probability": 2.1779153958570777e-08
             },
             {
              "outcome": "w2",
              "probability": 0.999999978220846
             }
            ]
           },
           "description": "",
           "encoding": {
            "color": {
             "field": "outcome",
             "legend": null,
             "type": "nominal"
            },
            "x": {
             "axis": {
              "labelAngle": -55,
              "labels": false,
              "title": null
             },
             "field": "outcome",
             "scale": {
              "rangeStep": 30
             },
             "sort": null,
             "type": "ordinal"
            },
            "y": {
             "axis": {
              "title": "",
              "titleAlign": "right",
              "titleAngle": 0
             },
             "field": "probability",
             "scale": {
              "domain": [
               0,
               1
              ]
             },
             "type": "quantitative"
            }
           },
           "height": 75,
           "mark": "bar"
          },
          {
           "$schema": "https://vega.github.io/schema/vega-lite/v3.json",
           "data": {
            "values": [
             {
              "outcome": "w1",
              "probability": 0.8752747786588951
             },
             {
              "outcome": "w2",
              "probability": 0.1247252213411049
             }
            ]
           },
           "description": "",
           "encoding": {
            "color": {
             "field": "outcome",
             "legend": null,
             "type": "nominal"
            },
            "x": {
             "axis": {
              "labelAngle": -55,
              "labels": true,
              "title": null
             },
             "field": "outcome",
             "scale": {
              "rangeStep": 30
             },
             "sort": null,
             "type": "ordinal"
            },
            "y": {
             "axis": {
              "title": "",
              "titleAlign": "right",
              "titleAngle": 0
             },
             "field": "probability",
             "scale": {
              "domain": [
               0,
               1
              ]
             },
             "type": "quantitative"
            }
           },
           "height": 75,
           "mark": "bar"
          }
         ]
        }
       ],
       "resolve": {
        "scale": {
         "color": "independent"
        }
       },
       "spacing": 50
      },
      "image/png": "[encoded data removed]"
     },
     "metadata": {},
     "output_type": "display_data"
    }
   ],
   "source": [
    "writeIORef cacheRef (0, Map.empty)\n",
    "\n",
    "mkGraph ys (t, l, m, n) = do\n",
    "  barl <- enumD (fst <$> l)\n",
    "  barm <- enumD (fst <$> m)\n",
    "  barn <- enumD (fst <$> n)\n",
    "  return $ toVegaLite\n",
    "    [ center True\n",
    "    , vConcat [ fromVL (mBarFromDist (ys !! 0) False barl)\n",
    "              , fromVL (mBarFromDist (ys !! 0) False barm)\n",
    "              , fromVL (mBarFromDist (ys !! 1) True  barn)\n",
    "              ]\n",
    "    , title (pack t) [TFontSize 18]\n",
    "    ]\n",
    "    \n",
    "graphs = liftM2 (:)\n",
    "  ( mkGraph [\"silence\", \"marked\", \"unmarked\"]\n",
    "        (\"L0\"\n",
    "        , listener infoLUM cacheRef (0, UNone, den0)\n",
    "        , listener infoLUM cacheRef (0, UMarked, den0)\n",
    "        , listener infoLUM cacheRef (0, UUnmarked, den0)\n",
    "        )\n",
    "  )\n",
    "  ( traverse (mkGraph [\"\", \"\", \"\"])\n",
    "      [ (\"L1\"\n",
    "        , listener infoLUM cacheRef (1, UNone, den0)\n",
    "        , listener infoLUM cacheRef (1, UMarked, den0)\n",
    "        , listener infoLUM cacheRef (1, UUnmarked, den0)\n",
    "        )\n",
    "      , (\"L2\"\n",
    "        , listener infoLUM cacheRef (2, UNone, den0)\n",
    "        , listener infoLUM cacheRef (2, UMarked, den0)\n",
    "        , listener infoLUM cacheRef (2, UUnmarked, den0)\n",
    "        )\n",
    "      , (\"L3\"\n",
    "        , listener infoLUM cacheRef (3, UNone, den0)\n",
    "        , listener infoLUM cacheRef (3, UMarked, den0)\n",
    "        , listener infoLUM cacheRef (3, UUnmarked, den0)\n",
    "        )\n",
    "      , (\"L4\"\n",
    "        , listener infoLUM cacheRef (4, UNone, den0)\n",
    "        , listener infoLUM cacheRef (4, UMarked, den0)\n",
    "        , listener infoLUM cacheRef (4, UUnmarked, den0)\n",
    "        )\n",
    "      ]\n",
    "  )\n",
    "\n",
    "vlShow . sidewaysDists <$> graphs"
   ]
  },
  {
   "cell_type": "code",
   "execution_count": null,
   "metadata": {},
   "outputs": [],
   "source": []
  }
 ],
 "metadata": {
  "kernelspec": {
   "display_name": "Haskell",
   "language": "haskell",
   "name": "haskell"
  },
  "language_info": {
   "codemirror_mode": "ihaskell",
   "file_extension": ".hs",
   "name": "haskell",
   "pygments_lexer": "Haskell",
   "version": "8.6.5"
  }
 },
 "nbformat": 4,
 "nbformat_minor": 4
}
